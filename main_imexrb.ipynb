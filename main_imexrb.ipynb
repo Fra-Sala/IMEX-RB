{
 "cells": [
  {
   "cell_type": "markdown",
   "metadata": {},
   "source": [
    "# IMEX-RB: A Fast and Stable Time Integration Method\n",
    "\n",
    "This notebook introduces and tests a novel time‐integration scheme, namely IMEX-RB. \n",
    "In the following, a linear system of ODEs stemming from a PDE space discretization is defined.\n",
    "Then, the performance of IMEX-RB is compared with that of backward and forward Euler (BE and FE)."
   ]
  },
  {
   "cell_type": "markdown",
   "metadata": {},
   "source": [
    "### Let us import the necessary time integration schemes"
   ]
  },
  {
   "cell_type": "code",
   "execution_count": 1,
   "metadata": {},
   "outputs": [],
   "source": [
    "import numpy as np\n",
    "from euler import backward_euler, forward_euler\n",
    "from imexrb import imexrb"
   ]
  },
  {
   "cell_type": "markdown",
   "metadata": {},
   "source": [
    "## Solve a 1D Heat equation"
   ]
  },
  {
   "cell_type": "code",
   "execution_count": 2,
   "metadata": {},
   "outputs": [],
   "source": [
    "from problems1D import Heat1D\n",
    "\n",
    "L = 1\n",
    "Nx = 100\n",
    "kappa = 0.1\n",
    "bc_left = 0.0\n",
    "bc_right = 0.0\n",
    "t0 = 0.0\n",
    "tf = 1.0\n",
    "tspan = [t0, tf]\n",
    "# Define the problem object\n",
    "problem = Heat1D(Nx, L, kappa, bc_left, bc_right)\n",
    "u0 = problem.initial_condition()\n"
   ]
  },
  {
   "cell_type": "markdown",
   "metadata": {},
   "source": [
    "We now integrate over time, using different schemes. First of all, we define some parameters for the time integration"
   ]
  },
  {
   "cell_type": "code",
   "execution_count": 3,
   "metadata": {},
   "outputs": [],
   "source": [
    "# Define number of timesteps\n",
    "Nt = 100\n",
    "# Define epsilon for absolute stability condition\n",
    "epsilon = 1.0/np.linalg.cond(problem.A)\n",
    "# Define max dimension of subspace before subiterations\n",
    "maxsize = int(np.ceil(np.pow(Nx, 1/3)))\n",
    "# Define max allowed enlargement during subiterations\n",
    "maxsubiter = maxsize"
   ]
  },
  {
   "cell_type": "code",
   "execution_count": 4,
   "metadata": {},
   "outputs": [
    {
     "ename": "NameError",
     "evalue": "name 'un' is not defined",
     "output_type": "error",
     "traceback": [
      "\u001b[31m---------------------------------------------------------------------------\u001b[39m",
      "\u001b[31mNameError\u001b[39m                                 Traceback (most recent call last)",
      "\u001b[36mCell\u001b[39m\u001b[36m \u001b[39m\u001b[32mIn[4]\u001b[39m\u001b[32m, line 2\u001b[39m\n\u001b[32m      1\u001b[39m \u001b[38;5;66;03m# First, IMEX-RB\u001b[39;00m\n\u001b[32m----> \u001b[39m\u001b[32m2\u001b[39m uIMEX, tvec = \u001b[43mimexrb\u001b[49m\u001b[43m(\u001b[49m\u001b[43mproblem\u001b[49m\u001b[43m,\u001b[49m\u001b[43m \u001b[49m\u001b[43mu0\u001b[49m\u001b[43m,\u001b[49m\u001b[43m \u001b[49m\u001b[43mtspan\u001b[49m\u001b[43m,\u001b[49m\u001b[43m \u001b[49m\u001b[43mNt\u001b[49m\u001b[43m,\u001b[49m\u001b[43m \u001b[49m\u001b[43mepsilon\u001b[49m\u001b[43m,\u001b[49m\u001b[43m \u001b[49m\u001b[43mmaxsize\u001b[49m\u001b[43m,\u001b[49m\u001b[43m \u001b[49m\u001b[43mmaxsubiter\u001b[49m\u001b[43m)\u001b[49m\n",
      "\u001b[36mFile \u001b[39m\u001b[32m~/Desktop/EPFL_RESEARCH/Paper1/FD-PyIMEX-RB/imexrb.py:40\u001b[39m, in \u001b[36mimexrb\u001b[39m\u001b[34m(problem, u0, tspan, Nt, epsilon, maxsize, maxsubiter, contain_un)\u001b[39m\n\u001b[32m     36\u001b[39m ured = scipy.linalg.solve((np.identity(np.shape(V)[\u001b[32m1\u001b[39m]) - dt*Ared),\n\u001b[32m     37\u001b[39m                           bred, assume_a=\u001b[33m'\u001b[39m\u001b[33mgeneral\u001b[39m\u001b[33m'\u001b[39m)\n\u001b[32m     38\u001b[39m \u001b[38;5;66;03m# Full order step\u001b[39;00m\n\u001b[32m     39\u001b[39m unew = u[:, n] + dt*problem.rhs(tvec[n],\n\u001b[32m---> \u001b[39m\u001b[32m40\u001b[39m                                 V @ ured + \u001b[43mun\u001b[49m - V @ (V.T @ un))\n\u001b[32m     42\u001b[39m \u001b[38;5;28;01mif\u001b[39;00m check_presence(unew, V, epsilon):\n\u001b[32m     43\u001b[39m     \u001b[38;5;28;01mbreak\u001b[39;00m\n",
      "\u001b[31mNameError\u001b[39m: name 'un' is not defined"
     ]
    }
   ],
   "source": [
    "# First, IMEX-RB\n",
    "uIMEX, tvec = imexrb(problem, u0, tspan, Nt, epsilon, maxsize, maxsubiter)"
   ]
  }
 ],
 "metadata": {
  "kernelspec": {
   "display_name": "imexrb-FD",
   "language": "python",
   "name": "python3"
  },
  "language_info": {
   "codemirror_mode": {
    "name": "ipython",
    "version": 3
   },
   "file_extension": ".py",
   "mimetype": "text/x-python",
   "name": "python",
   "nbconvert_exporter": "python",
   "pygments_lexer": "ipython3",
   "version": "3.13.2"
  }
 },
 "nbformat": 4,
 "nbformat_minor": 2
}
