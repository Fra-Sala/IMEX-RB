{
 "cells": [
  {
   "cell_type": "code",
   "execution_count": 2,
   "metadata": {},
   "outputs": [],
   "source": [
    "import sys\n",
    "import os\n",
    "# Go three levels up from current file (i.e., from notebooks/ to project/)\n",
    "sys.path.append(os.path.abspath(os.path.join(os.getcwd(), '../..')))\n",
    "import numpy as np\n",
    "import matplotlib.pyplot as plt\n",
    "import utils.mpl_pubstyle  # noqa: F401\n",
    "import re, glob\n"
   ]
  },
  {
   "cell_type": "markdown",
   "metadata": {},
   "source": [
    "# Plot convergence for IMEX-RB on 2D nonlinear problem\n",
    "We study convergence on the 2D viscous Burgers equation"
   ]
  },
  {
   "cell_type": "code",
   "execution_count": null,
   "metadata": {},
   "outputs": [
    {
     "ename": "SyntaxError",
     "evalue": "invalid syntax. Perhaps you forgot a comma? (3873390291.py, line 31)",
     "output_type": "error",
     "traceback": [
      "\u001b[0;36m  Cell \u001b[0;32mIn[6], line 31\u001b[0;36m\u001b[0m\n\u001b[0;31m    fillstyle=fill_list[m_idx] label=m)\u001b[0m\n\u001b[0m              ^\u001b[0m\n\u001b[0;31mSyntaxError\u001b[0m\u001b[0;31m:\u001b[0m invalid syntax. Perhaps you forgot a comma?\n"
     ]
    }
   ],
   "source": [
    "# Retrieve data\n",
    "base_dir = os.path.abspath(os.path.join(os.getcwd(), ''))\n",
    "\n",
    "# Paths\n",
    "problem_name = \"Burgers2D\"\n",
    "test_name = \"convergence\"\n",
    "# Find results\n",
    "results_base = os.path.join(base_dir, os.pardir, os.pardir, 'results', problem_name)\n",
    "convergence_dirs = glob.glob(os.path.join(results_base, f'{test_name}*'))\n",
    "latest_num = max([int(re.search(rf'{test_name}(\\d+)', os.path.basename(d)).group(1)) for d in convergence_dirs])\n",
    "results_path = os.path.join(results_base, f'{test_name}{latest_num}', 'results.npz')\n",
    "\n",
    "plots_dir = os.path.join(base_dir, 'plots')\n",
    "os.makedirs(plots_dir, exist_ok=True)\n",
    "\n",
    "data = np.load(results_path, allow_pickle=True)\n",
    "errors_l2 = data['errors_l2'].item()\n",
    "Nt_values = data['Nt_values']\n",
    "\n",
    "dts = 1.0 / np.array(Nt_values)\n",
    "methods = ['BE', 'IMEX-RB']\n",
    "comp_labels = ['u_x', 'u_y']\n",
    "markers_list = ['o', 'x']\n",
    "fill_list = ['none', 'full']\n",
    "# Need to loop over the two components of velocity\n",
    "for comp in range(errors_l2[methods[0]].shape[0]):\n",
    "    plt.figure()\n",
    "    for m_idx, m in enumerate(methods):\n",
    "        errs = errors_l2[m][comp]\n",
    "        plt.loglog(dts, errs, marker=markers_list[m_idx],\n",
    "                   fillstyle=fill_list[m_idx], label=m)\n",
    "    # Reference line\n",
    "    plt.loglog(dts, [dt/100.0 for dt in dts],\n",
    "                label=r\"$\\mathcal{O}(\\Delta t)$\",\n",
    "                color=\"k\", linestyle='--')\n",
    "    plt.axvline(1/400, color=\"r\", linestyle='--')\n",
    "    plt.text(1/400 * 1.1, plt.ylim()[1] * 0.5, 'FE stable', \n",
    "             rotation=0, verticalalignment='center', color='red', fontsize=6)\n",
    "    plt.xlabel(r'$\\Delta t$')\n",
    "    plt.ylabel(fr'$\\|\\bar{{e}}_{{r,{comp+1}}}\\|_2$')\n",
    "    # plt.title(f'Convergence for {comp_labels[comp]}')\n",
    "    plt.legend(bbox_to_anchor=(0.5, -0.3), loc='upper center', ncol=3)\n",
    "    plt.tight_layout()\n",
    "    out_file = os.path.join(\n",
    "        plots_dir,\n",
    "        f'{problem_name}_convergence_{comp_labels[comp]}.pdf'\n",
    "    )\n",
    "    plt.savefig(out_file)\n",
    "plt.show()\n",
    "plt.close()"
   ]
  }
 ],
 "metadata": {
  "kernelspec": {
   "display_name": "imexrb-FD",
   "language": "python",
   "name": "python3"
  },
  "language_info": {
   "codemirror_mode": {
    "name": "ipython",
    "version": 3
   },
   "file_extension": ".py",
   "mimetype": "text/x-python",
   "name": "python",
   "nbconvert_exporter": "python",
   "pygments_lexer": "ipython3",
   "version": "3.13.2"
  }
 },
 "nbformat": 4,
 "nbformat_minor": 2
}
