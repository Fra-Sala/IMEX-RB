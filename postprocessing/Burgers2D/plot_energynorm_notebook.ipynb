{
 "cells": [
  {
   "cell_type": "code",
   "execution_count": 1,
   "metadata": {},
   "outputs": [],
   "source": [
    "import sys\n",
    "import os\n",
    "# Go three levels up from current file (i.e., from notebooks/ to project/)\n",
    "sys.path.append(os.path.abspath(os.path.join(os.getcwd(), '../..')))\n",
    "import numpy as np\n",
    "import matplotlib.pyplot as plt\n",
    "import utils.mpl_pubstyle  # noqa: F401\n",
    "import matplotlib.ticker as ticker\n",
    "import re, glob"
   ]
  },
  {
   "cell_type": "markdown",
   "metadata": {},
   "source": [
    "# Plot energy norm for IMEX-RB on 2D nonlinear problem\n",
    "We show absolute stability of IMEX-RB"
   ]
  },
  {
   "cell_type": "code",
   "execution_count": null,
   "metadata": {},
   "outputs": [
    {
     "ename": "TypeError",
     "evalue": "unsupported operand type(s) for +: 'dict' and 'int'",
     "output_type": "error",
     "traceback": [
      "\u001b[0;31m---------------------------------------------------------------------------\u001b[0m",
      "\u001b[0;31mTypeError\u001b[0m                                 Traceback (most recent call last)",
      "Cell \u001b[0;32mIn[2], line 21\u001b[0m\n\u001b[1;32m     19\u001b[0m data \u001b[38;5;241m=\u001b[39m np\u001b[38;5;241m.\u001b[39mload(results_path, allow_pickle\u001b[38;5;241m=\u001b[39m\u001b[38;5;28;01mTrue\u001b[39;00m)\n\u001b[1;32m     20\u001b[0m errors_energy \u001b[38;5;241m=\u001b[39m data[\u001b[38;5;124m'\u001b[39m\u001b[38;5;124merrors_energy\u001b[39m\u001b[38;5;124m'\u001b[39m]\u001b[38;5;241m.\u001b[39mitem()\n\u001b[0;32m---> 21\u001b[0m inneriters \u001b[38;5;241m=\u001b[39m \u001b[43mdata\u001b[49m\u001b[43m[\u001b[49m\u001b[38;5;124;43m'\u001b[39;49m\u001b[38;5;124;43minneriters\u001b[39;49m\u001b[38;5;124;43m'\u001b[39;49m\u001b[43m]\u001b[49m\u001b[38;5;241;43m.\u001b[39;49m\u001b[43mitem\u001b[49m\u001b[43m(\u001b[49m\u001b[43m)\u001b[49m\u001b[43m \u001b[49m\u001b[38;5;241;43m+\u001b[39;49m\u001b[43m \u001b[49m\u001b[38;5;241;43m1\u001b[39;49m\n\u001b[1;32m     22\u001b[0m Nt \u001b[38;5;241m=\u001b[39m \u001b[38;5;28mint\u001b[39m(data[\u001b[38;5;124m'\u001b[39m\u001b[38;5;124mNt\u001b[39m\u001b[38;5;124m'\u001b[39m])\n\u001b[1;32m     23\u001b[0m tvec \u001b[38;5;241m=\u001b[39m np\u001b[38;5;241m.\u001b[39mlinspace(\u001b[38;5;241m0\u001b[39m, \u001b[38;5;241m1\u001b[39m, Nt \u001b[38;5;241m+\u001b[39m \u001b[38;5;241m1\u001b[39m)\n",
      "\u001b[0;31mTypeError\u001b[0m: unsupported operand type(s) for +: 'dict' and 'int'"
     ]
    }
   ],
   "source": [
    "colors = {\n",
    "    'blue': '#1f77b4',\n",
    "    'green': 'tab:green'\n",
    "}\n",
    "\n",
    "eps_colors = ['#ff6b6b', '#ff8e53', 'tab:orange', 'mediumpurple']\n",
    "\n",
    "base_dir = os.path.abspath(os.path.join(os.getcwd(), ''))\n",
    "\n",
    "problem_name = \"Burgers2D\"\n",
    "test_name = \"energynorm\"\n",
    "results_base = os.path.join(base_dir, os.pardir, os.pardir, 'results', problem_name)\n",
    "convergence_dirs = glob.glob(os.path.join(results_base, f'{test_name}*'))\n",
    "latest_num = max([int(re.search(rf'{test_name}(\\d+)', os.path.basename(d)).group(1)) for d in convergence_dirs])\n",
    "results_path = os.path.join(results_base, f'{test_name}{latest_num}', 'results.npz')\n",
    "plots_dir = os.path.join(base_dir, 'plots')\n",
    "os.makedirs(plots_dir, exist_ok=True)\n",
    "\n",
    "data = np.load(results_path, allow_pickle=True)\n",
    "errors_energy = data['errors_energy'].item()\n",
    "inneriters = data['inneriters']['IMEX-RB'].item() + 1\n",
    "Nt = int(data['Nt'])\n",
    "tvec = np.linspace(0, 1, Nt + 1)\n",
    "epsilon_values = data['epsilon_values']\n",
    "\n",
    "linestyles = ['-.', ':', '-', '--']\n",
    "method_colors = {'BE': colors['blue'], 'FE': colors['green']}\n",
    "\n",
    "fig, (ax1, ax2) = plt.subplots(2, 1, figsize=(3, 3), sharex=True)\n",
    "\n",
    "for m in ('BE', 'FE'):\n",
    "    e = errors_energy[m]\n",
    "    ax1.semilogy(tvec[1:], e, color=method_colors[m], label=f'{m}')\n",
    "\n",
    "for ie, eps in enumerate(epsilon_values):\n",
    "    e = errors_energy['IMEX-RB'][ie]\n",
    "    ax1.semilogy(tvec[1:], e, linestyle=linestyles[ie], \n",
    "                 color=eps_colors[ie], label='')\n",
    "\n",
    "ax1.set_ylabel(r'$\\mathcal{E}_e(t_n)$')\n",
    "ax1.set_ylim(1e-6, 1e2)\n",
    "ax1.grid(True)\n",
    "\n",
    "for ie, eps in enumerate(epsilon_values):\n",
    "    expnt = int(np.log10(eps))\n",
    "    label = rf'IMEX-RB, $\\varepsilon=10^{{{expnt}}}$'\n",
    "    its = inneriters[ie]\n",
    "    ax2.plot(tvec[1:], its, linestyle=linestyles[ie], \n",
    "             color=eps_colors[ie], label=label)\n",
    "\n",
    "ax2.set_xlabel('Time $t_n$')\n",
    "ax2.set_ylabel('Inner iterations')\n",
    "ax2.yaxis.set_major_locator(ticker.MaxNLocator(integer=True))\n",
    "ax2.grid(True)\n",
    "\n",
    "fig.legend(bbox_to_anchor=(0.53, -0.0), loc='upper center', ncol=3)\n",
    "plt.tight_layout()\n",
    "out_file = os.path.join(plots_dir, 'Burgers2D_errors_inneriters_eps.pdf')\n",
    "plt.savefig(out_file, bbox_inches='tight')\n",
    "plt.show()\n",
    "plt.close()"
   ]
  }
 ],
 "metadata": {
  "kernelspec": {
   "display_name": "imexrb-FD",
   "language": "python",
   "name": "python3"
  },
  "language_info": {
   "codemirror_mode": {
    "name": "ipython",
    "version": 3
   },
   "file_extension": ".py",
   "mimetype": "text/x-python",
   "name": "python",
   "nbconvert_exporter": "python",
   "pygments_lexer": "ipython3",
   "version": "3.13.2"
  }
 },
 "nbformat": 4,
 "nbformat_minor": 2
}
