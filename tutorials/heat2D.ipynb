{
 "cells": [
  {
   "cell_type": "markdown",
   "metadata": {},
   "source": [
    "# IMEX-RB: A Fast and Stable Time Integration Method\n"
   ]
  },
  {
   "cell_type": "code",
   "execution_count": null,
   "metadata": {},
   "outputs": [],
   "source": [
    "import sys\n",
    "import os\n",
    "sys.path.append(os.path.abspath('..'))"
   ]
  },
  {
   "cell_type": "code",
   "execution_count": null,
   "metadata": {},
   "outputs": [],
   "source": [
    "import numpy as np\n",
    "import scipy\n",
    "import matplotlib.pyplot as plt\n",
    "\n",
    "from src.imexrb import imexrb\n",
    "from src.euler import backward_euler, forward_euler\n",
    "from src.problemsPDE import Heat2D\n",
    "import utils.mpl_pubstyle\n",
    "from utils.errors import compute_errors\n",
    "from utils.helpers import *\n",
    "\n",
    "import logging\n",
    "logging.getLogger('matplotlib').setLevel(logging.WARNING)\n",
    "logging.getLogger('PIL.PngImagePlugin').setLevel(logging.WARNING)"
   ]
  },
  {
   "cell_type": "markdown",
   "metadata": {},
   "source": [
    "## Solving a 2D Heat Equation\n",
    "\n",
    "We want to solve the 2D heat equation on the interval $x \\in [0, L]$, $t > 0$:\n",
    "---\n",
    "\n",
    "We can now integrate in time, to show the performance of IMEX-RB compared to classic 1st order integration schemes, i.e. Backward/Forward Euler."
   ]
  },
  {
   "cell_type": "code",
   "execution_count": null,
   "metadata": {},
   "outputs": [],
   "source": [
    "problem_name = \"Heat2D\"\n",
    "Lx = 4\n",
    "Ly = Lx\n",
    "Nx = 40\n",
    "Ny = Nx\n",
    "mu = 1.5\n",
    "sigma = 0.5\n",
    "center = [2, 2]\n",
    "t0 = 0.0\n",
    "tf = 1.0\n",
    "tspan = [t0, tf]\n",
    "\n",
    "# Define the problem object\n",
    "problem = Heat2D(Nx, Ny, Lx, Ly, mu=mu, sigma=sigma, center=center)\n",
    "u0 = problem.initial_condition()\n"
   ]
  },
  {
   "cell_type": "markdown",
   "metadata": {},
   "source": [
    "We now integrate over time, using different schemes. First of all, we define some parameters for the time integration"
   ]
  },
  {
   "cell_type": "code",
   "execution_count": null,
   "metadata": {},
   "outputs": [],
   "source": [
    "# Define number of timesteps\n",
    "Nt = 200\n",
    "# Define epsilon for absolute stability condition\n",
    "epsilon = 1.0 / cond_sparse(problem.A)\n",
    "# Define max dimension of subspace before subiterations\n",
    "maxsize = int(np.ceil(np.pow(problem.Nh, 1/3)))\n",
    "# Define max allowed enlargement during subiterations\n",
    "maxsubiter = maxsize"
   ]
  },
  {
   "cell_type": "markdown",
   "metadata": {},
   "source": [
    "Let us have a look at the selected dimension for the subspace $\\mathcal{V}_n$"
   ]
  },
  {
   "cell_type": "code",
   "execution_count": null,
   "metadata": {},
   "outputs": [],
   "source": [
    "print(f\"The subspace has an initial dim = {maxsize}, and such dim can grow up to {maxsize + maxsubiter}\"\n",
    "      f\"\\nThe full order problem has dim = {problem.Nh}\")"
   ]
  },
  {
   "cell_type": "markdown",
   "metadata": {},
   "source": [
    "We compute the number of timesteps making forward Euler stable, for comparison with the other schemes"
   ]
  },
  {
   "cell_type": "code",
   "execution_count": null,
   "metadata": {},
   "outputs": [],
   "source": [
    "Nt_FE = compute_steps_stability_FE(problem, tspan)"
   ]
  },
  {
   "cell_type": "code",
   "execution_count": null,
   "metadata": {},
   "outputs": [],
   "source": [
    "# First, IMEX-RB\n",
    "uIMEX, tvec, subiter = imexrb(problem, u0, tspan, Nt, epsilon, maxsize, maxsubiter)\n",
    "uBE, _ = backward_euler(problem, u0, tspan, Nt)\n",
    "# Forward Euler may throw errors if unstable\n",
    "uFE, tvecFE = forward_euler(problem, u0, tspan, Nt_FE)"
   ]
  },
  {
   "cell_type": "markdown",
   "metadata": {},
   "source": [
    "### Compute and plot errors\n",
    "We plot the errors over time for the previously chosen parameters. Note that the stability requirement for FE make it significantly more precise than BE and IMEX-RB, which attain stability for a much larger $\\Delta t$"
   ]
  },
  {
   "cell_type": "code",
   "execution_count": null,
   "metadata": {},
   "outputs": [],
   "source": [
    "# Compute relative errors over time \n",
    "errIMEX = compute_errors(uIMEX, tvec, problem)\n",
    "errBE = compute_errors(uBE, tvec, problem)\n",
    "errFE = compute_errors(uFE, tvecFE, problem)\n",
    "\n",
    "# Plot the errors\n",
    "plt.figure()\n",
    "plt.semilogy(tvec[1:], errIMEX, label=\"IMEX-RB\", marker='o')\n",
    "plt.semilogy(tvec[1:], errBE, label=\"Backward Euler\", marker='s')\n",
    "# plt.semilogy(tvecFE[1:], errFE, label=\"Forward Euler (stable)\", marker='^')\n",
    "\n",
    "# Add labels, legend, and title\n",
    "plt.xlabel(r\"Time $(t_n)$\")\n",
    "plt.ylabel(\"Relative Error\")\n",
    "plt.title(f\"{problem_name}\")\n",
    "plt.legend()\n",
    "plt.grid(True)\n",
    "\n",
    "# Show the plot\n",
    "plt.show()"
   ]
  },
  {
   "cell_type": "markdown",
   "metadata": {},
   "source": [
    "### Plot the animation of the solution\n",
    "Note that an animated plot in jupyter is not straightforward, and that is why there are some weird commands"
   ]
  },
  {
   "cell_type": "code",
   "execution_count": null,
   "metadata": {},
   "outputs": [],
   "source": [
    "%matplotlib ipympl\n",
    "from IPython import display\n",
    "import time\n",
    "import numpy as np\n",
    "import matplotlib.pyplot as plt\n",
    "from mpl_toolkits.mplot3d import Axes3D\n",
    "\n",
    "# Unpack meshgrid coords and shapes\n",
    "X, Y = problem.coords\n",
    "Nx, Ny = problem.shape\n",
    "\n",
    "# Precompute global z‐limits from both methods over all time steps\n",
    "zmin = min(uIMEX.min(), uBE.min())\n",
    "zmax = max(uIMEX.max(), uBE.max())\n",
    "\n",
    "# Setup figure with two 3D subplots\n",
    "fig = plt.figure()\n",
    "ax1 = fig.add_subplot(121, projection='3d')\n",
    "ax2 = fig.add_subplot(122, projection='3d')\n",
    "hdisplay = display.display(\"\", display_id=True)\n",
    "\n",
    "# Common formatting\n",
    "for ax, title in [(ax1, \"IMEX-RB\"), (ax2, \"BE\")]:\n",
    "    ax.set_xlabel(\"$x$\")\n",
    "    ax.set_ylabel(\"$y$\")\n",
    "    ax.set_zlabel(\"$u$\")\n",
    "    ax.set_zlim(zmin, zmax)\n",
    "    ax.set_title(title)\n",
    "\n",
    "# Initialize empty surfaces\n",
    "surf1 = ax1.plot_surface(X, Y, np.zeros((Nx, Ny)), cmap=\"viridis\", alpha=0.8)\n",
    "surf2 = ax2.plot_surface(X, Y, np.zeros((Nx, Ny)), cmap=\"viridis\", alpha=0.8)\n",
    "\n",
    "# Time‐loop: update each surface in turn\n",
    "for n, t in enumerate(tvec[::10]):\n",
    "    # remove old surfaces\n",
    "    surf1.remove()\n",
    "    surf2.remove()\n",
    "\n",
    "    # reshape solution vectors\n",
    "    Z1 = uIMEX[:, n].reshape((Nx, Ny))\n",
    "    Z2 = uBE[:,   n].reshape((Nx, Ny))\n",
    "\n",
    "    # re‐plot\n",
    "    surf1 = ax1.plot_surface(X, Y, Z1, cmap=\"viridis\", alpha=0.8)\n",
    "    surf2 = ax2.plot_surface(X, Y, Z2, cmap=\"viridis\", alpha=0.8)\n",
    "\n",
    "    # update display\n",
    "    hdisplay.update(fig)\n",
    "    # time.sleep(0.001)\n",
    "\n",
    "plt.close(fig)\n",
    "\n"
   ]
  },
  {
   "cell_type": "markdown",
   "metadata": {},
   "source": [
    "Go back to `matplotlib inline` (after animation)"
   ]
  },
  {
   "cell_type": "code",
   "execution_count": null,
   "metadata": {},
   "outputs": [],
   "source": [
    "plt.close('all')\n",
    "from IPython.display import clear_output\n",
    "clear_output(wait=True)\n",
    "%matplotlib inline"
   ]
  },
  {
   "cell_type": "markdown",
   "metadata": {},
   "source": [
    "## Convergence test\n",
    "We run a convergence test by computing the error at final time for different choices of $N_t$"
   ]
  },
  {
   "cell_type": "code",
   "execution_count": null,
   "metadata": {},
   "outputs": [],
   "source": [
    "# We now run a convergence test and plot the results\n",
    "# Define the range of Nt values\n",
    "Nt_values = [2**n for n in range(4, 12)]\n",
    "errors_imex = []\n",
    "errors_be = []\n",
    "# errors_fe = []\n",
    "\n",
    "Nt_FE_stable = compute_steps_stability_FE(problem, tspan)\n",
    "# Loop over Nt values\n",
    "for Nt in Nt_values:\n",
    "    # Time discretization\n",
    "    tvec = np.linspace(t0, tf, Nt + 1)\n",
    "    dt = tvec[1] - tvec[0]\n",
    "\n",
    "    # Solve the problem with each scheme\n",
    "    uIMEX, *_ = imexrb(problem, u0, tspan, Nt, epsilon, maxsize, 10)\n",
    "    uBE, *_ = backward_euler(problem, u0, tspan, Nt)\n",
    "    # uFE, *_ = forward_euler(problem, u0, tspan, Nt)\n",
    "\n",
    "    # Compute errors at final time for each scheme\n",
    "    err_imex = compute_errors(uIMEX, tvec, problem, mode=\"l2\")\n",
    "    err_be = compute_errors(uBE, tvec, problem, mode=\"l2\")\n",
    "    # err_fe = compute_errors(uFE, tvec, problem, mode=\"l2\")\n",
    "\n",
    "    # Store the final error\n",
    "    errors_imex.append(err_imex)\n",
    "    errors_be.append(err_be)\n",
    "    # errors_fe.append(err_fe)\n"
   ]
  },
  {
   "cell_type": "code",
   "execution_count": null,
   "metadata": {},
   "outputs": [],
   "source": [
    "# Plot the convergence results\n",
    "plt.loglog(Nt_values, errors_imex, label=\"IMEX-RB\", marker='o', linestyle='-')\n",
    "plt.loglog(Nt_values, errors_be, label=\"Backward Euler\", marker='s', linestyle='-')\n",
    "# plt.loglog(Nt_values, errors_fe, label=\"Forward Euler\", marker='^', linestyle='-.')\n",
    "plt.axvline(Nt_FE_stable, label=\"Stability FE\", color=\"r\", linestyle='-.') \n",
    "plt.loglog(Nt_values, [1/Nt for Nt in Nt_values], label=r\"$\\mathcal{O}(\\Delta t)$\", color=\"k\", linestyle='--')\n",
    "plt.xlabel(r\"Number of Time Steps $N_t$\")\n",
    "plt.ylabel(\"Error final time\")\n",
    "plt.title(\"Convergence Test\")\n",
    "plt.legend()\n",
    "plt.grid(True, which=\"both\", linewidth=0.5)\n",
    "plt.show()"
   ]
  },
  {
   "cell_type": "markdown",
   "metadata": {},
   "source": [
    "### CPU Time to solution\n",
    "\n",
    "We now compare the times required by IMEX-RB and BE to obtain a stable solution\n",
    "N.W.: While we will keep $N_t$ fixed for IMEX-RB and BE, we will compute the $N_t$ making FE stable at each different problem size"
   ]
  },
  {
   "cell_type": "code",
   "execution_count": null,
   "metadata": {},
   "outputs": [],
   "source": [
    "# Define number of timesteps\n",
    "Nt = 200\n",
    "# Define epsilon for absolute stability condition\n",
    "epsilon = 1e-4 # 1.0/np.linalg.cond(problem.A)\n",
    "# Define max dimension of subspace before subiterations\n",
    "maxsize = int(np.ceil(np.pow(Nx, 1/3)))\n",
    "# Define max allowed enlargement during subiterations\n",
    "maxsubiter = maxsize"
   ]
  },
  {
   "cell_type": "code",
   "execution_count": null,
   "metadata": {},
   "outputs": [],
   "source": [
    "# Parameters for the simulation\n",
    "mu = 1.0\n",
    "bc_left = 0.0\n",
    "bc_right = 0.0\n",
    "bc_bottom = 0.0\n",
    "bc_top = 0.0\n",
    "tspan = [0.0, 1.0]\n",
    "Nt = 200           # Number of time steps for IMEX and BE\n",
    "\n",
    "# Lists to store CPU times and errors\n",
    "Nh_list = []\n",
    "CPU_IMEX_list = []\n",
    "CPU_BE_list = []\n",
    "CPU_FE_list = []\n",
    "\n",
    "err_IMEX_list = []\n",
    "err_BE_list = []\n",
    "err_FE_list = []\n",
    "\n",
    "# Loop over different spatial resolutions\n",
    "Nx_values = [2**val for val in range(4, 7)]\n",
    "for Nx in Nx_values:\n",
    "    # Define the problem object\n",
    "    Ny = Nx\n",
    "    problem = Heat2D(Nx, Ny, Lx, Ly, mu, bc_left, bc_right,\n",
    "                    bc_bottom, bc_top)\n",
    "    print(f\"Running simulation for Nh = {problem.Nh}\")\n",
    "    Nh_list.append(problem.Nh)\n",
    "\n",
    "    u0 = problem.initial_condition()\n",
    "    epsilon = 1e-4  # tolerance parameter\n",
    "    maxsize = int(np.ceil(np.power(Nx, 1/3)))\n",
    "    maxsubiter = maxsize\n",
    "\n",
    "    # Run IMEX-RB integration\n",
    "    uIMEX, tvec, subiter, CPUtimeIMEX = imexrb(problem, u0, tspan, Nt, epsilon, maxsize, maxsubiter)\n",
    "    # Run Backward Euler integration\n",
    "    uBE, _, CPUTimeBE = backward_euler(problem, u0, tspan, Nt)\n",
    "    # Run Forward Euler integration on its own stable time grid\n",
    "    Nt_FE = compute_steps_stability_FE(problem, tspan)\n",
    "    uFE, tvec_FE, CPUTimeFE = forward_euler(problem, u0, tspan, Nt_FE)\n",
    "\n",
    "    # Compute errors at final time\n",
    "    err_IMEX = compute_errors(uIMEX, tvec, problem, finaltimeonly=True)\n",
    "    err_BE = compute_errors(uBE, tvec, problem, finaltimeonly=True)\n",
    "    err_FE = compute_errors(uFE, tvec_FE, problem, finaltimeonly=True)\n",
    "\n",
    "    # Append CPU times and errors\n",
    "    CPU_IMEX_list.append(CPUtimeIMEX)\n",
    "    CPU_BE_list.append(CPUTimeBE)\n",
    "    CPU_FE_list.append(CPUTimeFE)\n",
    "\n",
    "    err_IMEX_list.append(err_IMEX)\n",
    "    err_BE_list.append(err_BE)\n",
    "    err_FE_list.append(err_FE)\n"
   ]
  },
  {
   "cell_type": "code",
   "execution_count": null,
   "metadata": {},
   "outputs": [],
   "source": [
    "# Plotting CPU times vs Nx\n",
    "plt.subplot(2, 1, 1)\n",
    "plt.loglog(Nh_list, CPU_IMEX_list, 'o-', label='IMEX-RB')\n",
    "plt.loglog(Nh_list, CPU_BE_list, 's-', label='Backward Euler')\n",
    "plt.loglog(Nh_list, CPU_FE_list, '^-', label='Forward Euler (stable)')\n",
    "plt.xlabel(r'$N_h$')\n",
    "plt.ylabel('CPU Time (s)')\n",
    "# plt.title('CPU Time vs Spatial Resolution')\n",
    "plt.legend()\n",
    "plt.grid(True)\n",
    "\n",
    "# Plotting errors at final time vs Nx\n",
    "plt.subplot(2, 1, 2)\n",
    "plt.loglog(Nh_list, err_IMEX_list, 'o-', label='IMEX-RB')\n",
    "plt.loglog(Nh_list, err_BE_list, 's-', label='Backward Euler')\n",
    "plt.loglog(Nh_list, err_FE_list, '^-', label='Forward Euler')\n",
    "plt.xlabel(r'$N_h$')\n",
    "plt.ylabel(r'Error')\n",
    "# plt.title('Error vs num of unknowns')\n",
    "plt.legend()\n",
    "plt.grid(True)\n",
    "\n",
    "# plt.tight_layout()\n",
    "plt.show()"
   ]
  },
  {
   "cell_type": "markdown",
   "metadata": {},
   "source": [
    "Once again Forward Euler is more precise because it is forced to use smaller $\\Delta t$ s to meet stability requirements"
   ]
  }
 ],
 "metadata": {
  "kernelspec": {
   "display_name": "imexrb-FD",
   "language": "python",
   "name": "python3"
  },
  "language_info": {
   "codemirror_mode": {
    "name": "ipython",
    "version": 3
   },
   "file_extension": ".py",
   "mimetype": "text/x-python",
   "name": "python",
   "nbconvert_exporter": "python",
   "pygments_lexer": "ipython3",
   "version": "3.13.2"
  }
 },
 "nbformat": 4,
 "nbformat_minor": 4
}
