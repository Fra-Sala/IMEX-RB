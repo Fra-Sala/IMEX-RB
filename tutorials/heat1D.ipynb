{
 "cells": [
  {
   "cell_type": "markdown",
   "metadata": {},
   "source": [
    "# IMEX-RB: A Fast and Stable Time Integration Method\n"
   ]
  },
  {
   "cell_type": "code",
   "execution_count": 37,
   "metadata": {},
   "outputs": [],
   "source": [
    "import sys\n",
    "import os\n",
    "sys.path.append(os.path.abspath('../src'))\n",
    "sys.path.append(os.path.abspath('../utils'))"
   ]
  },
  {
   "cell_type": "code",
   "execution_count": 38,
   "metadata": {},
   "outputs": [],
   "source": [
    "import numpy as np\n",
    "import scipy\n",
    "from imexrb import imexrb\n",
    "from euler import backward_euler, forward_euler\n",
    "import mpl_pubstyle\n",
    "from errors import compute_errors"
   ]
  },
  {
   "cell_type": "markdown",
   "metadata": {},
   "source": [
    "## Solving a 1D Heat Equation\n",
    "\n",
    "We want to solve the 1D heat equation on the interval $x \\in [0, L]$, $t > 0$:\n",
    "\n",
    "$$\n",
    "\\frac{\\partial u}{\\partial t} = k\\,\\frac{\\partial^2 u}{\\partial x^2},\n",
    "$$\n",
    "\n",
    "subject to\n",
    "\n",
    "$$\n",
    "u(x, 0) = u_0(x), \\qquad u(0, t) = g_0(t), \\qquad u(L, t) = g_L(t).\n",
    "$$\n",
    "\n",
    "\n",
    "### Spatial Discretization\n",
    "\n",
    "Introduce a uniform grid:\n",
    "$$\n",
    "x_i = i\\,\\Delta x,\\quad i = 0, 1, \\dots, N, \\qquad \\Delta x = \\frac{L}{N}.\n",
    "$$\n",
    "\n",
    "Approximate $u_i(t) \\approx u(x_i, t)$. A centered second-difference for the Laplacian gives, for $i = 1, \\dots, N-1$:\n",
    "$$\n",
    "\\frac{d u_i}{dt} = k\\,\\frac{u_{i-1} - 2\\,u_i + u_{i+1}}{\\Delta x^2}.\n",
    "$$\n",
    "\n",
    "The boundary nodes are:\n",
    "$$\n",
    "u_0(t) = g_0(t), \\qquad u_N(t) = g_L(t).\n",
    "$$\n",
    "\n",
    "\n",
    "\n",
    "### Semi-Discrete Cauchy Problem\n",
    "\n",
    "Let the unknown be:\n",
    "$$\n",
    "\\mathbf{u}(t) = [u_0(t), u_1(t), u_2(t), \\dots, u_{N}(t)]^T.\n",
    "$$\n",
    "\n",
    "Then the ODE system can be written as:\n",
    "$$\n",
    "\\frac{d\\mathbf{u}}{dt} = A\\,\\mathbf{u} + \\mathbf{b}(t),\n",
    "$$\n",
    "where\n",
    "$$\n",
    "A = \\frac{k}{\\Delta x^2}\n",
    "\\begin{pmatrix}\n",
    "1 & & & \\\\\\\\\n",
    "1 & -2 & 1       &        \\\\\\\\\n",
    "   & 1 & -2 & 1     \\\\\\\\\n",
    "   &        &       & 1\n",
    "\\end{pmatrix}\n",
    "\\in \\mathbb{R}^{(N) \\times (N)},\n",
    "$$\n",
    "and the inhomogeneity $\\mathbf{b}(t)$ encodes the Dirichlet boundaries:\n",
    "$$\n",
    "\\mathbf{b}(t) = \\frac{k}{\\Delta x^2}\n",
    "\\begin{bmatrix}\n",
    "g_0(t) \\\\\\\\\n",
    "0 \\\\\\\\\n",
    "\\vdots \\\\\\\\\n",
    "0 \\\\\\\\\n",
    "g_L(t)\n",
    "\\end{bmatrix}.\n",
    "$$\n",
    "\n",
    "---\n",
    "\n",
    "We can now integrate in time, to show the performance of IMEX-RB compared to classic 1st order integration schemes, i.e. Backward/Forward Euler."
   ]
  },
  {
   "cell_type": "code",
   "execution_count": 39,
   "metadata": {},
   "outputs": [],
   "source": [
    "from problems1D import Heat1D\n",
    "\n",
    "L = 1\n",
    "Nx = 50\n",
    "kappa = 0.5\n",
    "bc_left = 0.0\n",
    "bc_right = 0.0\n",
    "t0 = 0.0\n",
    "tf = 1.0\n",
    "tspan = [t0, tf]\n",
    "# Define the problem object\n",
    "problem = Heat1D(Nx, L, kappa, bc_left, bc_right)\n",
    "u0 = problem.initial_condition()\n"
   ]
  },
  {
   "cell_type": "markdown",
   "metadata": {},
   "source": [
    "We now integrate over time, using different schemes. First of all, we define some parameters for the time integration"
   ]
  },
  {
   "cell_type": "code",
   "execution_count": 40,
   "metadata": {},
   "outputs": [],
   "source": [
    "# Define number of timesteps\n",
    "Nt = 200\n",
    "# Define epsilon for absolute stability condition\n",
    "epsilon = 1e-4 # 1.0/np.linalg.cond(problem.A)\n",
    "# Define max dimension of subspace before subiterations\n",
    "maxsize = int(np.ceil(np.pow(Nx, 1/3)))\n",
    "# Define max allowed enlargement during subiterations\n",
    "maxsubiter = maxsize"
   ]
  },
  {
   "cell_type": "code",
   "execution_count": 41,
   "metadata": {},
   "outputs": [
    {
     "data": {
      "text/plain": [
       "4"
      ]
     },
     "execution_count": 41,
     "metadata": {},
     "output_type": "execute_result"
    }
   ],
   "source": [
    "maxsize"
   ]
  },
  {
   "cell_type": "code",
   "execution_count": 46,
   "metadata": {},
   "outputs": [],
   "source": [
    "# First, IMEX-RB\n",
    "uIMEX, tvec, subiter, _ = imexrb(problem, u0, tspan, Nt, epsilon, maxsize, maxsubiter)\n",
    "uBE, *_ = backward_euler(problem, u0, tspan, Nt)\n",
    "# Forward Euler may throw errors if unstable\n",
    "uFE, tvecFE, *_ = forward_euler(problem, u0, tspan, 5000)"
   ]
  },
  {
   "cell_type": "code",
   "execution_count": 44,
   "metadata": {},
   "outputs": [
    {
     "data": {
      "text/plain": [
       "array([[0.00000000e+00, 0.00000000e+00, 0.00000000e+00, ...,\n",
       "        0.00000000e+00, 0.00000000e+00, 0.00000000e+00],\n",
       "       [6.40702200e-02, 6.40070069e-02, 6.39438561e-02, ...,\n",
       "        4.61352318e-04, 4.60897138e-04, 4.60442406e-04],\n",
       "       [1.27877162e-01, 1.27750995e-01, 1.27624953e-01, ...,\n",
       "        9.20808841e-04, 9.19900351e-04, 9.18992756e-04],\n",
       "       ...,\n",
       "       [1.27877162e-01, 1.27750995e-01, 1.27624953e-01, ...,\n",
       "        9.20808841e-04, 9.19900351e-04, 9.18992756e-04],\n",
       "       [6.40702200e-02, 6.40070069e-02, 6.39438561e-02, ...,\n",
       "        4.61352318e-04, 4.60897138e-04, 4.60442406e-04],\n",
       "       [1.22464680e-16, 0.00000000e+00, 0.00000000e+00, ...,\n",
       "        0.00000000e+00, 0.00000000e+00, 0.00000000e+00]], shape=(50, 5001))"
      ]
     },
     "execution_count": 44,
     "metadata": {},
     "output_type": "execute_result"
    }
   ],
   "source": [
    "uFE"
   ]
  },
  {
   "cell_type": "markdown",
   "metadata": {},
   "source": [
    "### Compute and plot errors\n"
   ]
  },
  {
   "cell_type": "code",
   "execution_count": null,
   "metadata": {},
   "outputs": [
    {
     "ename": "AttributeError",
     "evalue": "'Heat' object has no attribute 'exact_sol'",
     "output_type": "error",
     "traceback": [
      "\u001b[0;31m---------------------------------------------------------------------------\u001b[0m",
      "\u001b[0;31mAttributeError\u001b[0m                            Traceback (most recent call last)",
      "Cell \u001b[0;32mIn[48], line 6\u001b[0m\n\u001b[1;32m      4\u001b[0m errIMEX \u001b[38;5;241m=\u001b[39m compute_errors(uIMEX, tvec, problem\u001b[38;5;241m.\u001b[39mdomain, problem\u001b[38;5;241m.\u001b[39mexact_solution)\n\u001b[1;32m      5\u001b[0m errBE \u001b[38;5;241m=\u001b[39m compute_errors(uBE, tvec, problem\u001b[38;5;241m.\u001b[39mdomain, problem\u001b[38;5;241m.\u001b[39mexact_solution)\n\u001b[0;32m----> 6\u001b[0m errFE \u001b[38;5;241m=\u001b[39m compute_errors(uFE, tvecFE, problem\u001b[38;5;241m.\u001b[39mdomain, \u001b[43mproblem\u001b[49m\u001b[38;5;241;43m.\u001b[39;49m\u001b[43mexact_sol\u001b[49m)\n\u001b[1;32m      8\u001b[0m \u001b[38;5;66;03m# Plot the errors\u001b[39;00m\n\u001b[1;32m      9\u001b[0m plt\u001b[38;5;241m.\u001b[39msemilogy(tvec[\u001b[38;5;241m1\u001b[39m:], errIMEX, label\u001b[38;5;241m=\u001b[39m\u001b[38;5;124m\"\u001b[39m\u001b[38;5;124mIMEX-RB\u001b[39m\u001b[38;5;124m\"\u001b[39m, marker\u001b[38;5;241m=\u001b[39m\u001b[38;5;124m'\u001b[39m\u001b[38;5;124mo\u001b[39m\u001b[38;5;124m'\u001b[39m)\n",
      "\u001b[0;31mAttributeError\u001b[0m: 'Heat' object has no attribute 'exact_sol'"
     ]
    }
   ],
   "source": [
    "import matplotlib.pyplot as plt\n",
    "\n",
    "# Compute relative errors over time \n",
    "errIMEX = compute_errors(uIMEX, tvec, problem.domain, problem.exact_solution)\n",
    "errBE = compute_errors(uBE, tvec, problem.domain, problem.exact_solution)\n",
    "errFE = compute_errors(uFE, tvecFE, problem.domain, problem.exact_solution)\n",
    "\n",
    "# Plot the errors\n",
    "plt.semilogy(tvec[1:], errIMEX, label=\"IMEX-RB\", marker='o')\n",
    "plt.semilogy(tvec[1:], errBE, label=\"Backward Euler\", marker='s')\n",
    "plt.semilogy(tvecFE[1:], errFE, label=\"Forward Euler\", marker='^')\n",
    "\n",
    "# Add labels, legend, and title\n",
    "plt.xlabel(r\"Time $(t_n)$\")\n",
    "plt.ylabel(\"Relative Error\")\n",
    "plt.title(\"Error over Time\")\n",
    "plt.legend()\n",
    "plt.grid(True)\n",
    "\n",
    "# Show the plot\n",
    "plt.show()"
   ]
  },
  {
   "cell_type": "markdown",
   "metadata": {},
   "source": [
    "### Plot the animation of the solution\n",
    "Note that an animated plot in jupyter is not straightforward, and that is why there are some weird commands"
   ]
  },
  {
   "cell_type": "code",
   "execution_count": null,
   "metadata": {},
   "outputs": [],
   "source": [
    "# %matplotlib ipympl\n",
    "# from IPython import display\n",
    "# import time\n",
    "\n",
    "# fig, ax = plt.subplots(1, 1)\n",
    "# hdisplay = display.display(\"\", display_id=True)\n",
    "\n",
    "# # Set axis labels and limits\n",
    "# ax.set_ylim(0, 1)\n",
    "# ax.set_xlim(problem.domain[0], problem.domain[-1])\n",
    "# ax.set_xlabel(\"Position (x)\")\n",
    "# ax.set_ylabel(\"Solution\")\n",
    "\n",
    "# # Initialize the line obj\n",
    "# line_imex, = ax.plot([], [], \"black\", label=\"IMEX-RB\")\n",
    "# line_be, = ax.plot([], [], \"red\", linestyle=\"--\", label=\"Backward Euler\")\n",
    "# ax.legend()\n",
    "\n",
    "# for n, t in enumerate(tvec):\n",
    "#     line_imex.set_data(problem.domain, uIMEX[:, n])  \n",
    "#     line_be.set_data(problem.domain, uBE[:, n])      \n",
    "#     hdisplay.update(fig)\n",
    "#     # time.sleep(0.001)\n",
    "\n",
    "# plt.close(fig)\n"
   ]
  },
  {
   "cell_type": "markdown",
   "metadata": {},
   "source": [
    "Go back to `matplotlib inline`"
   ]
  },
  {
   "cell_type": "code",
   "execution_count": null,
   "metadata": {},
   "outputs": [],
   "source": [
    "%matplotlib inline"
   ]
  },
  {
   "cell_type": "markdown",
   "metadata": {},
   "source": [
    "## Convergence test\n",
    "We run a convergence test by computing the error at final time for different choices of $N_t$"
   ]
  },
  {
   "cell_type": "code",
   "execution_count": 19,
   "metadata": {},
   "outputs": [
    {
     "name": "stderr",
     "output_type": "stream",
     "text": [
      "/home/francesco/Desktop/EPFL_RESEARCH/Paper1/FD-PyIMEX-RB/utils/errors.py:29: RuntimeWarning: overflow encountered in square\n",
      "  err_q_x[i - 1] = (dx * np.sum(np.abs(err)**q))**(1/q) / \\\n",
      "/home/francesco/Desktop/EPFL_RESEARCH/Paper1/FD-PyIMEX-RB/src/euler.py:18: RuntimeWarning: invalid value encountered in add\n",
      "  u[:, n+1] = u[:, n] + dt * (problem.A @ u[:, n] + b)\n",
      "/home/francesco/anaconda3/envs/imexrb-FD/lib/python3.13/site-packages/numpy/_core/fromnumeric.py:86: RuntimeWarning: overflow encountered in reduce\n",
      "  return ufunc.reduce(obj, axis, dtype, out, **passkwargs)\n"
     ]
    }
   ],
   "source": [
    "# We now run a convergence test and plot the results\n",
    "# Define the range of Nt values\n",
    "Nt_values = [2**n for n in range(2, 10)]\n",
    "errors_imex = []\n",
    "errors_be = []\n",
    "errors_fe = []\n",
    "\n",
    "# Loop over Nt values\n",
    "for Nt in Nt_values:\n",
    "    # Time discretization\n",
    "    tvec = np.linspace(t0, tf, Nt + 1)\n",
    "    dt = tvec[1] - tvec[0]\n",
    "\n",
    "    # Solve the problem with each scheme\n",
    "    uIMEX, *_ = imexrb(problem, u0, tspan, Nt, epsilon, maxsize, maxsubiter)\n",
    "    uBE, *_ = backward_euler(problem, u0, tspan, Nt)\n",
    "    uFE, *_ = forward_euler(problem, u0, tspan, Nt)\n",
    "\n",
    "    # Compute errors at final time for each scheme\n",
    "    err_imex = compute_errors(uIMEX, tvec, problem.domain, problem.exact_solution)\n",
    "    err_be = compute_errors(uBE, tvec, problem.domain, problem.exact_solution)\n",
    "    err_fe = compute_errors(uFE, tvec, problem.domain, problem.exact_solution)\n",
    "\n",
    "    # Store the final error\n",
    "    errors_imex.append(err_imex[-1])\n",
    "    errors_be.append(err_be[-1])\n",
    "    errors_fe.append(err_fe[-1])\n",
    "\n"
   ]
  },
  {
   "cell_type": "code",
   "execution_count": 20,
   "metadata": {},
   "outputs": [
    {
     "data": {
      "image/png": "[encoded data removed]",
      "text/plain": [
       "<Figure size 810x600 with 1 Axes>"
      ]
     },
     "metadata": {},
     "output_type": "display_data"
    }
   ],
   "source": [
    "# Plot the convergence results\n",
    "plt.loglog(Nt_values, errors_imex, label=\"IMEX-RB\", marker='o', linestyle='-')\n",
    "plt.loglog(Nt_values, errors_be, label=\"Backward Euler\", marker='s', linestyle='-')\n",
    "plt.loglog(Nt_values, errors_fe, label=\"Forward Euler\", marker='^', linestyle='-.')\n",
    "plt.loglog(Nt_values, [1/Nt for Nt in Nt_values], label=r\"$\\mathcal{O}(\\Delta t)$\", color=\"k\", linestyle='--')\n",
    "plt.xlabel(r\"Number of Time Steps $N_t$\")\n",
    "plt.ylabel(\"Error final time\")\n",
    "plt.title(\"Convergence Test\")\n",
    "plt.legend()\n",
    "plt.grid(True, which=\"both\", linewidth=0.5)\n",
    "plt.show()"
   ]
  },
  {
   "cell_type": "markdown",
   "metadata": {},
   "source": [
    "### CPU Time to solution\n",
    "\n",
    "We now compare the times required by IMEX-RB and BE to obtain a stable solution\n",
    "N.W.: While we will keep $N_t$ fixed for IMEX-RB and BE, we will compute the $N_t$ making FE stable at each different problem size"
   ]
  },
  {
   "cell_type": "code",
   "execution_count": 14,
   "metadata": {},
   "outputs": [],
   "source": [
    "# Define number of timesteps\n",
    "Nt = 200\n",
    "# Define epsilon for absolute stability condition\n",
    "epsilon = 1e-4 # 1.0/np.linalg.cond(problem.A)\n",
    "# Define max dimension of subspace before subiterations\n",
    "maxsize = int(np.ceil(np.pow(Nx, 1/3)))\n",
    "# Define max allowed enlargement during subiterations\n",
    "maxsubiter = maxsize"
   ]
  },
  {
   "cell_type": "code",
   "execution_count": 34,
   "metadata": {},
   "outputs": [
    {
     "name": "stdout",
     "output_type": "stream",
     "text": [
      "Running simulation for Nx = 16\n",
      "Running simulation for Nx = 32\n",
      "Running simulation for Nx = 64\n",
      "Running simulation for Nx = 128\n",
      "Running simulation for Nx = 256\n",
      "Running simulation for Nx = 512\n"
     ]
    },
    {
     "ename": "MemoryError",
     "evalue": "Unable to allocate 19.9 GiB for an array with shape (512, 5222374) and data type float64",
     "output_type": "error",
     "traceback": [
      "\u001b[0;31m---------------------------------------------------------------------------\u001b[0m",
      "\u001b[0;31mMemoryError\u001b[0m                               Traceback (most recent call last)",
      "Cell \u001b[0;32mIn[34], line 44\u001b[0m\n\u001b[1;32m     41\u001b[0m Nt_FE \u001b[38;5;241m=\u001b[39m \u001b[38;5;28mint\u001b[39m(np\u001b[38;5;241m.\u001b[39mceil((tspan[\u001b[38;5;241m1\u001b[39m]\u001b[38;5;241m-\u001b[39mtspan[\u001b[38;5;241m0\u001b[39m]) \u001b[38;5;241m/\u001b[39m dtFE)) \u001b[38;5;241m+\u001b[39m \u001b[38;5;241m1\u001b[39m\n\u001b[1;32m     43\u001b[0m \u001b[38;5;66;03m# Run Forward Euler integration on its own stable time grid\u001b[39;00m\n\u001b[0;32m---> 44\u001b[0m uFE, tvec_FE, CPUTimeFE \u001b[38;5;241m=\u001b[39m \u001b[43mforward_euler\u001b[49m\u001b[43m(\u001b[49m\u001b[43mproblem\u001b[49m\u001b[43m,\u001b[49m\u001b[43m \u001b[49m\u001b[43mu0\u001b[49m\u001b[43m,\u001b[49m\u001b[43m \u001b[49m\u001b[43mtspan\u001b[49m\u001b[43m,\u001b[49m\u001b[43m \u001b[49m\u001b[43mNt_FE\u001b[49m\u001b[43m)\u001b[49m\n\u001b[1;32m     46\u001b[0m \u001b[38;5;66;03m# Compute errors at final time. It is assumed that problem.exact_solution(t) returns the exact solution\u001b[39;00m\n\u001b[1;32m     47\u001b[0m err_IMEX \u001b[38;5;241m=\u001b[39m compute_errors(uIMEX, tvec, problem\u001b[38;5;241m.\u001b[39mdomain, problem\u001b[38;5;241m.\u001b[39mexact_solution)\n",
      "File \u001b[0;32m~/Desktop/EPFL_RESEARCH/Paper1/FD-PyIMEX-RB/src/euler.py:11\u001b[0m, in \u001b[0;36mforward_euler\u001b[0;34m(problem, u0, tspan, Nt)\u001b[0m\n\u001b[1;32m      9\u001b[0m dt \u001b[38;5;241m=\u001b[39m (tf \u001b[38;5;241m-\u001b[39m t0) \u001b[38;5;241m/\u001b[39m Nt\n\u001b[1;32m     10\u001b[0m tvec \u001b[38;5;241m=\u001b[39m np\u001b[38;5;241m.\u001b[39mlinspace(t0, tf, Nt\u001b[38;5;241m+\u001b[39m\u001b[38;5;241m1\u001b[39m)\n\u001b[0;32m---> 11\u001b[0m u \u001b[38;5;241m=\u001b[39m \u001b[43mnp\u001b[49m\u001b[38;5;241;43m.\u001b[39;49m\u001b[43mzeros\u001b[49m\u001b[43m(\u001b[49m\u001b[43m(\u001b[49m\u001b[43mproblem\u001b[49m\u001b[38;5;241;43m.\u001b[39;49m\u001b[43mN\u001b[49m\u001b[43m,\u001b[49m\u001b[43m \u001b[49m\u001b[43mNt\u001b[49m\u001b[38;5;241;43m+\u001b[39;49m\u001b[38;5;241;43m1\u001b[39;49m\u001b[43m)\u001b[49m\u001b[43m)\u001b[49m\n\u001b[1;32m     12\u001b[0m u[:, \u001b[38;5;241m0\u001b[39m] \u001b[38;5;241m=\u001b[39m u0\n\u001b[1;32m     13\u001b[0m \u001b[38;5;28;01mfor\u001b[39;00m n \u001b[38;5;129;01min\u001b[39;00m \u001b[38;5;28mrange\u001b[39m(Nt):\n\u001b[1;32m     14\u001b[0m     \u001b[38;5;66;03m# assemble rhs b\u001b[39;00m\n",
      "\u001b[0;31mMemoryError\u001b[0m: Unable to allocate 19.9 GiB for an array with shape (512, 5222374) and data type float64"
     ]
    }
   ],
   "source": [
    "# Parameters for the simulation\n",
    "kappa = 1.0\n",
    "bc_left = 0.0\n",
    "bc_right = 0.0\n",
    "tspan = [0.0, 1.0]\n",
    "Nt = 200           # Number of time steps for IMEX and BE\n",
    "\n",
    "# Lists to store CPU times and errors\n",
    "Nx_list = []\n",
    "CPU_IMEX_list = []\n",
    "CPU_BE_list = []\n",
    "CPU_FE_list = []\n",
    "\n",
    "err_IMEX_list = []\n",
    "err_BE_list = []\n",
    "err_FE_list = []\n",
    "\n",
    "# Loop over different spatial resolutions\n",
    "Nx_values = [2**val for val in range(4, 10)]\n",
    "for Nx in Nx_values:\n",
    "    Nx_list.append(Nx)\n",
    "    print(f\"Running simulation for Nx = {Nx}\")\n",
    "\n",
    "    # Define the problem for the current Nx (assumes a Heat1D class exists)\n",
    "    problem = Heat1D(Nx, L, kappa, bc_left, bc_right)\n",
    "    u0 = problem.initial_condition()\n",
    "    epsilon = 1e-4  # tolerance parameter\n",
    "    maxsize = int(np.ceil(np.power(Nx, 1/3)))\n",
    "    maxsubiter = maxsize\n",
    "\n",
    "    # Run IMEX-RB integration\n",
    "    uIMEX, tvec, subiter, CPUtimeIMEX = imexrb(problem, u0, tspan, Nt, epsilon, maxsize, maxsubiter)\n",
    "    # Run Backward Euler integration\n",
    "    uBE, tvec_BE, CPUTimeBE = backward_euler(problem, u0, tspan, Nt)\n",
    "\n",
    "    # Set dt for Forward Euler based on the stability condition: dt <= 2/|lambda_max|\n",
    "    # We compute the largest (in modulus) eigenvalue of problem.A.\n",
    "    eigvals, _ = scipy.sparse.linalg.eigs(problem.A, k=1, which=\"LM\")\n",
    "    max_eig = abs(eigvals[0])\n",
    "    dtFE = 0.1 * 2 / max_eig  # use 90% of the stability limit\n",
    "    Nt_FE = int(np.ceil((tspan[1]-tspan[0]) / dtFE)) + 1\n",
    "\n",
    "    # Run Forward Euler integration on its own stable time grid\n",
    "    uFE, tvec_FE, CPUTimeFE = forward_euler(problem, u0, tspan, Nt_FE)\n",
    "\n",
    "    # Compute errors at final time. It is assumed that problem.exact_solution(t) returns the exact solution\n",
    "    err_IMEX = compute_errors(uIMEX, tvec, problem.domain, problem.exact_solution)\n",
    "    err_BE = compute_errors(uBE, tvec, problem.domain, problem.exact_solution)\n",
    "    err_FE = compute_errors(uFE, tvec, problem.domain, problem.exact_solution)\n",
    "\n",
    "    # Append CPU times and errors\n",
    "    CPU_IMEX_list.append(CPUtimeIMEX)\n",
    "    CPU_BE_list.append(CPUTimeBE)\n",
    "    CPU_FE_list.append(CPUTimeFE)\n",
    "\n",
    "    err_IMEX_list.append(err_IMEX[-1])\n",
    "    err_BE_list.append(err_BE[-1])\n",
    "    err_FE_list.append(err_FE[-1])\n"
   ]
  },
  {
   "cell_type": "code",
   "execution_count": 33,
   "metadata": {},
   "outputs": [
    {
     "ename": "ValueError",
     "evalue": "x and y must have same first dimension, but have shapes (5,) and (4,)",
     "output_type": "error",
     "traceback": [
      "\u001b[0;31m---------------------------------------------------------------------------\u001b[0m",
      "\u001b[0;31mValueError\u001b[0m                                Traceback (most recent call last)",
      "Cell \u001b[0;32mIn[33], line 3\u001b[0m\n\u001b[1;32m      1\u001b[0m \u001b[38;5;66;03m# Plotting CPU times vs Nx\u001b[39;00m\n\u001b[1;32m      2\u001b[0m plt\u001b[38;5;241m.\u001b[39msubplot(\u001b[38;5;241m2\u001b[39m, \u001b[38;5;241m1\u001b[39m, \u001b[38;5;241m1\u001b[39m)\n\u001b[0;32m----> 3\u001b[0m \u001b[43mplt\u001b[49m\u001b[38;5;241;43m.\u001b[39;49m\u001b[43mloglog\u001b[49m\u001b[43m(\u001b[49m\u001b[43mNx_list\u001b[49m\u001b[43m,\u001b[49m\u001b[43m \u001b[49m\u001b[43mCPU_IMEX_list\u001b[49m\u001b[43m,\u001b[49m\u001b[43m \u001b[49m\u001b[38;5;124;43m'\u001b[39;49m\u001b[38;5;124;43mo-\u001b[39;49m\u001b[38;5;124;43m'\u001b[39;49m\u001b[43m,\u001b[49m\u001b[43m \u001b[49m\u001b[43mlabel\u001b[49m\u001b[38;5;241;43m=\u001b[39;49m\u001b[38;5;124;43m'\u001b[39;49m\u001b[38;5;124;43mIMEX-RB\u001b[39;49m\u001b[38;5;124;43m'\u001b[39;49m\u001b[43m)\u001b[49m\n\u001b[1;32m      4\u001b[0m plt\u001b[38;5;241m.\u001b[39mloglog(Nx_list, CPU_BE_list, \u001b[38;5;124m'\u001b[39m\u001b[38;5;124ms-\u001b[39m\u001b[38;5;124m'\u001b[39m, label\u001b[38;5;241m=\u001b[39m\u001b[38;5;124m'\u001b[39m\u001b[38;5;124mBackward Euler\u001b[39m\u001b[38;5;124m'\u001b[39m)\n\u001b[1;32m      5\u001b[0m plt\u001b[38;5;241m.\u001b[39mloglog(Nx_list, CPU_FE_list, \u001b[38;5;124m'\u001b[39m\u001b[38;5;124m^-\u001b[39m\u001b[38;5;124m'\u001b[39m, label\u001b[38;5;241m=\u001b[39m\u001b[38;5;124m'\u001b[39m\u001b[38;5;124mForward Euler (stable)\u001b[39m\u001b[38;5;124m'\u001b[39m)\n",
      "File \u001b[0;32m~/anaconda3/envs/imexrb-FD/lib/python3.13/site-packages/matplotlib/pyplot.py:3633\u001b[0m, in \u001b[0;36mloglog\u001b[0;34m(*args, **kwargs)\u001b[0m\n\u001b[1;32m   3631\u001b[0m \u001b[38;5;129m@_copy_docstring_and_deprecators\u001b[39m(Axes\u001b[38;5;241m.\u001b[39mloglog)\n\u001b[1;32m   3632\u001b[0m \u001b[38;5;28;01mdef\u001b[39;00m\u001b[38;5;250m \u001b[39m\u001b[38;5;21mloglog\u001b[39m(\u001b[38;5;241m*\u001b[39margs, \u001b[38;5;241m*\u001b[39m\u001b[38;5;241m*\u001b[39mkwargs) \u001b[38;5;241m-\u001b[39m\u001b[38;5;241m>\u001b[39m \u001b[38;5;28mlist\u001b[39m[Line2D]:\n\u001b[0;32m-> 3633\u001b[0m     \u001b[38;5;28;01mreturn\u001b[39;00m \u001b[43mgca\u001b[49m\u001b[43m(\u001b[49m\u001b[43m)\u001b[49m\u001b[38;5;241;43m.\u001b[39;49m\u001b[43mloglog\u001b[49m\u001b[43m(\u001b[49m\u001b[38;5;241;43m*\u001b[39;49m\u001b[43margs\u001b[49m\u001b[43m,\u001b[49m\u001b[43m \u001b[49m\u001b[38;5;241;43m*\u001b[39;49m\u001b[38;5;241;43m*\u001b[39;49m\u001b[43mkwargs\u001b[49m\u001b[43m)\u001b[49m\n",
      "File \u001b[0;32m~/anaconda3/envs/imexrb-FD/lib/python3.13/site-packages/matplotlib/axes/_axes.py:1918\u001b[0m, in \u001b[0;36mAxes.loglog\u001b[0;34m(self, *args, **kwargs)\u001b[0m\n\u001b[1;32m   1914\u001b[0m dy \u001b[38;5;241m=\u001b[39m {k: v \u001b[38;5;28;01mfor\u001b[39;00m k, v \u001b[38;5;129;01min\u001b[39;00m kwargs\u001b[38;5;241m.\u001b[39mitems()\n\u001b[1;32m   1915\u001b[0m       \u001b[38;5;28;01mif\u001b[39;00m k \u001b[38;5;129;01min\u001b[39;00m [\u001b[38;5;124m'\u001b[39m\u001b[38;5;124mbase\u001b[39m\u001b[38;5;124m'\u001b[39m, \u001b[38;5;124m'\u001b[39m\u001b[38;5;124msubs\u001b[39m\u001b[38;5;124m'\u001b[39m, \u001b[38;5;124m'\u001b[39m\u001b[38;5;124mnonpositive\u001b[39m\u001b[38;5;124m'\u001b[39m,\n\u001b[1;32m   1916\u001b[0m                \u001b[38;5;124m'\u001b[39m\u001b[38;5;124mbasey\u001b[39m\u001b[38;5;124m'\u001b[39m, \u001b[38;5;124m'\u001b[39m\u001b[38;5;124msubsy\u001b[39m\u001b[38;5;124m'\u001b[39m, \u001b[38;5;124m'\u001b[39m\u001b[38;5;124mnonposy\u001b[39m\u001b[38;5;124m'\u001b[39m]}\n\u001b[1;32m   1917\u001b[0m \u001b[38;5;28mself\u001b[39m\u001b[38;5;241m.\u001b[39mset_yscale(\u001b[38;5;124m'\u001b[39m\u001b[38;5;124mlog\u001b[39m\u001b[38;5;124m'\u001b[39m, \u001b[38;5;241m*\u001b[39m\u001b[38;5;241m*\u001b[39mdy)\n\u001b[0;32m-> 1918\u001b[0m \u001b[38;5;28;01mreturn\u001b[39;00m \u001b[38;5;28;43mself\u001b[39;49m\u001b[38;5;241;43m.\u001b[39;49m\u001b[43mplot\u001b[49m\u001b[43m(\u001b[49m\n\u001b[1;32m   1919\u001b[0m \u001b[43m    \u001b[49m\u001b[38;5;241;43m*\u001b[39;49m\u001b[43margs\u001b[49m\u001b[43m,\u001b[49m\u001b[43m \u001b[49m\u001b[38;5;241;43m*\u001b[39;49m\u001b[38;5;241;43m*\u001b[39;49m\u001b[43m{\u001b[49m\u001b[43mk\u001b[49m\u001b[43m:\u001b[49m\u001b[43m \u001b[49m\u001b[43mv\u001b[49m\u001b[43m \u001b[49m\u001b[38;5;28;43;01mfor\u001b[39;49;00m\u001b[43m \u001b[49m\u001b[43mk\u001b[49m\u001b[43m,\u001b[49m\u001b[43m \u001b[49m\u001b[43mv\u001b[49m\u001b[43m \u001b[49m\u001b[38;5;129;43;01min\u001b[39;49;00m\u001b[43m \u001b[49m\u001b[43mkwargs\u001b[49m\u001b[38;5;241;43m.\u001b[39;49m\u001b[43mitems\u001b[49m\u001b[43m(\u001b[49m\u001b[43m)\u001b[49m\u001b[43m \u001b[49m\u001b[38;5;28;43;01mif\u001b[39;49;00m\u001b[43m \u001b[49m\u001b[43mk\u001b[49m\u001b[43m \u001b[49m\u001b[38;5;129;43;01mnot\u001b[39;49;00m\u001b[43m \u001b[49m\u001b[38;5;129;43;01min\u001b[39;49;00m\u001b[43m \u001b[49m\u001b[43m{\u001b[49m\u001b[38;5;241;43m*\u001b[39;49m\u001b[43mdx\u001b[49m\u001b[43m,\u001b[49m\u001b[43m \u001b[49m\u001b[38;5;241;43m*\u001b[39;49m\u001b[43mdy\u001b[49m\u001b[43m}\u001b[49m\u001b[43m}\u001b[49m\u001b[43m)\u001b[49m\n",
      "File \u001b[0;32m~/anaconda3/envs/imexrb-FD/lib/python3.13/site-packages/matplotlib/axes/_axes.py:1777\u001b[0m, in \u001b[0;36mAxes.plot\u001b[0;34m(self, scalex, scaley, data, *args, **kwargs)\u001b[0m\n\u001b[1;32m   1534\u001b[0m \u001b[38;5;250m\u001b[39m\u001b[38;5;124;03m\"\"\"\u001b[39;00m\n\u001b[1;32m   1535\u001b[0m \u001b[38;5;124;03mPlot y versus x as lines and/or markers.\u001b[39;00m\n\u001b[1;32m   1536\u001b[0m \n\u001b[0;32m   (...)\u001b[0m\n\u001b[1;32m   1774\u001b[0m \u001b[38;5;124;03m(``'green'``) or hex strings (``'#008000'``).\u001b[39;00m\n\u001b[1;32m   1775\u001b[0m \u001b[38;5;124;03m\"\"\"\u001b[39;00m\n\u001b[1;32m   1776\u001b[0m kwargs \u001b[38;5;241m=\u001b[39m cbook\u001b[38;5;241m.\u001b[39mnormalize_kwargs(kwargs, mlines\u001b[38;5;241m.\u001b[39mLine2D)\n\u001b[0;32m-> 1777\u001b[0m lines \u001b[38;5;241m=\u001b[39m [\u001b[38;5;241m*\u001b[39m\u001b[38;5;28mself\u001b[39m\u001b[38;5;241m.\u001b[39m_get_lines(\u001b[38;5;28mself\u001b[39m, \u001b[38;5;241m*\u001b[39margs, data\u001b[38;5;241m=\u001b[39mdata, \u001b[38;5;241m*\u001b[39m\u001b[38;5;241m*\u001b[39mkwargs)]\n\u001b[1;32m   1778\u001b[0m \u001b[38;5;28;01mfor\u001b[39;00m line \u001b[38;5;129;01min\u001b[39;00m lines:\n\u001b[1;32m   1779\u001b[0m     \u001b[38;5;28mself\u001b[39m\u001b[38;5;241m.\u001b[39madd_line(line)\n",
      "File \u001b[0;32m~/anaconda3/envs/imexrb-FD/lib/python3.13/site-packages/matplotlib/axes/_base.py:297\u001b[0m, in \u001b[0;36m_process_plot_var_args.__call__\u001b[0;34m(self, axes, data, return_kwargs, *args, **kwargs)\u001b[0m\n\u001b[1;32m    295\u001b[0m     this \u001b[38;5;241m+\u001b[39m\u001b[38;5;241m=\u001b[39m args[\u001b[38;5;241m0\u001b[39m],\n\u001b[1;32m    296\u001b[0m     args \u001b[38;5;241m=\u001b[39m args[\u001b[38;5;241m1\u001b[39m:]\n\u001b[0;32m--> 297\u001b[0m \u001b[38;5;28;01myield from\u001b[39;00m \u001b[38;5;28;43mself\u001b[39;49m\u001b[38;5;241;43m.\u001b[39;49m\u001b[43m_plot_args\u001b[49m\u001b[43m(\u001b[49m\n\u001b[1;32m    298\u001b[0m \u001b[43m    \u001b[49m\u001b[43maxes\u001b[49m\u001b[43m,\u001b[49m\u001b[43m \u001b[49m\u001b[43mthis\u001b[49m\u001b[43m,\u001b[49m\u001b[43m \u001b[49m\u001b[43mkwargs\u001b[49m\u001b[43m,\u001b[49m\u001b[43m \u001b[49m\u001b[43mambiguous_fmt_datakey\u001b[49m\u001b[38;5;241;43m=\u001b[39;49m\u001b[43mambiguous_fmt_datakey\u001b[49m\u001b[43m,\u001b[49m\n\u001b[1;32m    299\u001b[0m \u001b[43m    \u001b[49m\u001b[43mreturn_kwargs\u001b[49m\u001b[38;5;241;43m=\u001b[39;49m\u001b[43mreturn_kwargs\u001b[49m\n\u001b[1;32m    300\u001b[0m \u001b[43m\u001b[49m\u001b[43m)\u001b[49m\n",
      "File \u001b[0;32m~/anaconda3/envs/imexrb-FD/lib/python3.13/site-packages/matplotlib/axes/_base.py:494\u001b[0m, in \u001b[0;36m_process_plot_var_args._plot_args\u001b[0;34m(self, axes, tup, kwargs, return_kwargs, ambiguous_fmt_datakey)\u001b[0m\n\u001b[1;32m    491\u001b[0m     axes\u001b[38;5;241m.\u001b[39myaxis\u001b[38;5;241m.\u001b[39mupdate_units(y)\n\u001b[1;32m    493\u001b[0m \u001b[38;5;28;01mif\u001b[39;00m x\u001b[38;5;241m.\u001b[39mshape[\u001b[38;5;241m0\u001b[39m] \u001b[38;5;241m!=\u001b[39m y\u001b[38;5;241m.\u001b[39mshape[\u001b[38;5;241m0\u001b[39m]:\n\u001b[0;32m--> 494\u001b[0m     \u001b[38;5;28;01mraise\u001b[39;00m \u001b[38;5;167;01mValueError\u001b[39;00m(\u001b[38;5;124mf\u001b[39m\u001b[38;5;124m\"\u001b[39m\u001b[38;5;124mx and y must have same first dimension, but \u001b[39m\u001b[38;5;124m\"\u001b[39m\n\u001b[1;32m    495\u001b[0m                      \u001b[38;5;124mf\u001b[39m\u001b[38;5;124m\"\u001b[39m\u001b[38;5;124mhave shapes \u001b[39m\u001b[38;5;132;01m{\u001b[39;00mx\u001b[38;5;241m.\u001b[39mshape\u001b[38;5;132;01m}\u001b[39;00m\u001b[38;5;124m and \u001b[39m\u001b[38;5;132;01m{\u001b[39;00my\u001b[38;5;241m.\u001b[39mshape\u001b[38;5;132;01m}\u001b[39;00m\u001b[38;5;124m\"\u001b[39m)\n\u001b[1;32m    496\u001b[0m \u001b[38;5;28;01mif\u001b[39;00m x\u001b[38;5;241m.\u001b[39mndim \u001b[38;5;241m>\u001b[39m \u001b[38;5;241m2\u001b[39m \u001b[38;5;129;01mor\u001b[39;00m y\u001b[38;5;241m.\u001b[39mndim \u001b[38;5;241m>\u001b[39m \u001b[38;5;241m2\u001b[39m:\n\u001b[1;32m    497\u001b[0m     \u001b[38;5;28;01mraise\u001b[39;00m \u001b[38;5;167;01mValueError\u001b[39;00m(\u001b[38;5;124mf\u001b[39m\u001b[38;5;124m\"\u001b[39m\u001b[38;5;124mx and y can be no greater than 2D, but have \u001b[39m\u001b[38;5;124m\"\u001b[39m\n\u001b[1;32m    498\u001b[0m                      \u001b[38;5;124mf\u001b[39m\u001b[38;5;124m\"\u001b[39m\u001b[38;5;124mshapes \u001b[39m\u001b[38;5;132;01m{\u001b[39;00mx\u001b[38;5;241m.\u001b[39mshape\u001b[38;5;132;01m}\u001b[39;00m\u001b[38;5;124m and \u001b[39m\u001b[38;5;132;01m{\u001b[39;00my\u001b[38;5;241m.\u001b[39mshape\u001b[38;5;132;01m}\u001b[39;00m\u001b[38;5;124m\"\u001b[39m)\n",
      "\u001b[0;31mValueError\u001b[0m: x and y must have same first dimension, but have shapes (5,) and (4,)"
     ]
    },
    {
     "data": {
      "image/png": "[encoded data removed]",
      "text/plain": [
       "<Figure size 810x600 with 1 Axes>"
      ]
     },
     "metadata": {},
     "output_type": "display_data"
    }
   ],
   "source": [
    "# Plotting CPU times vs Nx\n",
    "plt.subplot(2, 1, 1)\n",
    "plt.loglog(Nx_list, CPU_IMEX_list, 'o-', label='IMEX-RB')\n",
    "plt.loglog(Nx_list, CPU_BE_list, 's-', label='Backward Euler')\n",
    "plt.loglog(Nx_list, CPU_FE_list, '^-', label='Forward Euler (stable)')\n",
    "plt.xlabel('Nx')\n",
    "plt.ylabel('CPU Time (s)')\n",
    "# plt.title('CPU Time vs Spatial Resolution')\n",
    "plt.legend()\n",
    "plt.grid(True)\n",
    "\n",
    "# Plotting errors at final time vs Nx\n",
    "plt.subplot(2, 1, 2)\n",
    "plt.loglog(Nx_list, err_IMEX_list, 'o-', label='IMEX-RB')\n",
    "plt.loglog(Nx_list, err_BE_list, 's-', label='Backward Euler')\n",
    "plt.loglog(Nx_list, err_FE_list, '^-', label='Forward Euler')\n",
    "plt.xlabel('Nx')\n",
    "plt.ylabel('Error')\n",
    "# plt.title('Error vs num of unknowns')\n",
    "plt.legend()\n",
    "plt.grid(True)\n",
    "\n",
    "# plt.tight_layout()\n",
    "plt.show()"
   ]
  }
 ],
 "metadata": {
  "kernelspec": {
   "display_name": "imexrb-FD",
   "language": "python",
   "name": "python3"
  },
  "language_info": {
   "codemirror_mode": {
    "name": "ipython",
    "version": 3
   },
   "file_extension": ".py",
   "mimetype": "text/x-python",
   "name": "python",
   "nbconvert_exporter": "python",
   "pygments_lexer": "ipython3",
   "version": "3.13.2"
  }
 },
 "nbformat": 4,
 "nbformat_minor": 2
}
