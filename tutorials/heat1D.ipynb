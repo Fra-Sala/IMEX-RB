{
 "cells": [
  {
   "cell_type": "markdown",
   "metadata": {},
   "source": [
    "# IMEX-RB: A Fast and Stable Time Integration Method\n"
   ]
  },
  {
   "cell_type": "code",
   "execution_count": null,
   "metadata": {},
   "outputs": [],
   "source": [
    "import sys\n",
    "import os\n",
    "sys.path.append(os.path.abspath('../src'))\n",
    "sys.path.append(os.path.abspath('../utils'))"
   ]
  },
  {
   "cell_type": "code",
   "execution_count": null,
   "metadata": {},
   "outputs": [],
   "source": [
    "import numpy as np\n",
    "import scipy\n",
    "from imexrb import imexrb\n",
    "from euler import backward_euler, forward_euler\n",
    "import mpl_pubstyle\n",
    "from errors import compute_errors\n",
    "from helpers import *"
   ]
  },
  {
   "cell_type": "markdown",
   "metadata": {},
   "source": [
    "## Solving a 1D Heat Equation\n",
    "\n",
    "We want to solve the 1D heat equation on the interval $x \\in [0, L]$, $t > 0$:\n",
    "\n",
    "$$\n",
    "\\frac{\\partial u}{\\partial t} = k\\,\\frac{\\partial^2 u}{\\partial x^2},\n",
    "$$\n",
    "\n",
    "subject to\n",
    "\n",
    "$$\n",
    "u(x, 0) = u_0(x), \\qquad u(0, t) = g_0(t), \\qquad u(L, t) = g_L(t).\n",
    "$$\n",
    "\n",
    "\n",
    "### Spatial Discretization\n",
    "\n",
    "Introduce a uniform grid:\n",
    "$$\n",
    "x_i = i\\,\\Delta x,\\quad i = 0, 1, \\dots, N, \\qquad \\Delta x = \\frac{L}{N}.\n",
    "$$\n",
    "\n",
    "Approximate $u_i(t) \\approx u(x_i, t)$. A centered second-difference for the Laplacian gives, for $i = 1, \\dots, N-1$:\n",
    "$$\n",
    "\\frac{d u_i}{dt} = k\\,\\frac{u_{i-1} - 2\\,u_i + u_{i+1}}{\\Delta x^2}.\n",
    "$$\n",
    "\n",
    "The boundary nodes are:\n",
    "$$\n",
    "u_0(t) = g_0(t), \\qquad u_N(t) = g_L(t).\n",
    "$$\n",
    "\n",
    "\n",
    "\n",
    "### Semi-Discrete Cauchy Problem\n",
    "\n",
    "Let the unknown be:\n",
    "$$\n",
    "\\mathbf{u}(t) = [u_0(t), u_1(t), u_2(t), \\dots, u_{N}(t)]^T.\n",
    "$$\n",
    "\n",
    "Then the ODE system can be written as:\n",
    "$$\n",
    "\\frac{d\\mathbf{u}}{dt} = A\\,\\mathbf{u} + \\mathbf{b}(t),\n",
    "$$\n",
    "---\n",
    "\n",
    "We can now integrate in time, to show the performance of IMEX-RB compared to classic 1st order integration schemes, i.e. Backward/Forward Euler."
   ]
  },
  {
   "cell_type": "code",
   "execution_count": null,
   "metadata": {},
   "outputs": [],
   "source": [
    "from problems1D import Heat1D\n",
    "\n",
    "problem_name = \"Heat1D\"\n",
    "L = 1\n",
    "Nx = 50\n",
    "kappa = 0.5\n",
    "bc_left = 0.0\n",
    "bc_right = 0.0\n",
    "t0 = 0.0\n",
    "tf = 1.0\n",
    "tspan = [t0, tf]\n",
    "# Define the problem object, BCs are inferred from exact solution\n",
    "problem = Heat1D(Nx, L, kappa)\n",
    "u0 = problem.initial_condition()\n"
   ]
  },
  {
   "cell_type": "markdown",
   "metadata": {},
   "source": [
    "We now integrate over time, using different schemes. First of all, we define some parameters for the time integration"
   ]
  },
  {
   "cell_type": "code",
   "execution_count": null,
   "metadata": {},
   "outputs": [],
   "source": [
    "# Define number of timesteps\n",
    "Nt = 200\n",
    "# Define epsilon for absolute stability condition\n",
    "epsilon = 1e-4 # 1.0/np.linalg.cond(problem.A)\n",
    "# Define max dimension of subspace before subiterations\n",
    "maxsize = int(np.ceil(np.pow(Nx, 1/3)))\n",
    "# Define max allowed enlargement during subiterations\n",
    "maxsubiter = maxsize"
   ]
  },
  {
   "cell_type": "markdown",
   "metadata": {},
   "source": [
    "Let us have a look at the selected dimension for the subspace $\\mathcal{V}_n$"
   ]
  },
  {
   "cell_type": "code",
   "execution_count": null,
   "metadata": {},
   "outputs": [],
   "source": [
    "print(f\"The subspace has an initial dim = {maxsize}, and such dim can grow up to {maxsize + maxsubiter}\")"
   ]
  },
  {
   "cell_type": "markdown",
   "metadata": {},
   "source": [
    "We compute the number of timesteps making forward Euler stable, for comparison with the other schemes"
   ]
  },
  {
   "cell_type": "code",
   "execution_count": null,
   "metadata": {},
   "outputs": [],
   "source": [
    "Nt_FE = compute_steps_stability_FE(problem, tspan)"
   ]
  },
  {
   "cell_type": "code",
   "execution_count": null,
   "metadata": {},
   "outputs": [],
   "source": [
    "# First, IMEX-RB\n",
    "uIMEX, tvec, subiter, _ = imexrb(problem, u0, tspan, Nt, epsilon, maxsize, maxsubiter)\n",
    "uBE, *_ = backward_euler(problem, u0, tspan, Nt)\n",
    "# Forward Euler may throw errors if unstable\n",
    "uFE, tvecFE, *_ = forward_euler(problem, u0, tspan, Nt_FE)"
   ]
  },
  {
   "cell_type": "markdown",
   "metadata": {},
   "source": [
    "### Compute and plot errors\n",
    "We plot the errors over time for the previously chosen parameters. Note that the stability requirement for FE make it significantly more precise than BE and IMEX-RB, which attain stability for a much larger $\\Delta t$"
   ]
  },
  {
   "cell_type": "code",
   "execution_count": null,
   "metadata": {},
   "outputs": [],
   "source": [
    "import matplotlib.pyplot as plt\n",
    "\n",
    "# Compute relative errors over time \n",
    "errIMEX = compute_errors(uIMEX, tvec, problem.domain, problem.exact_solution)\n",
    "errBE = compute_errors(uBE, tvec, problem.domain, problem.exact_solution)\n",
    "errFE = compute_errors(uFE, tvecFE, problem.domain, problem.exact_solution)\n",
    "\n",
    "# Plot the errors\n",
    "plt.semilogy(tvec[1:], errIMEX, label=\"IMEX-RB\", marker='o')\n",
    "plt.semilogy(tvec[1:], errBE, label=\"Backward Euler\", marker='s')\n",
    "plt.semilogy(tvecFE[1:], errFE, label=\"Forward Euler (stable)\", marker='^')\n",
    "\n",
    "# Add labels, legend, and title\n",
    "plt.xlabel(r\"Time $(t_n)$\")\n",
    "plt.ylabel(\"Relative Error\")\n",
    "plt.title(f\"{problem_name}\")\n",
    "plt.legend()\n",
    "plt.grid(True)\n",
    "\n",
    "# Show the plot\n",
    "plt.show()"
   ]
  },
  {
   "cell_type": "markdown",
   "metadata": {},
   "source": [
    "### Plot the animation of the solution\n",
    "Note that an animated plot in jupyter is not straightforward, and that is why there are some weird commands"
   ]
  },
  {
   "cell_type": "code",
   "execution_count": null,
   "metadata": {},
   "outputs": [],
   "source": [
    "# %matplotlib ipympl\n",
    "# from IPython import display\n",
    "# import time\n",
    "\n",
    "# fig, ax = plt.subplots(1, 1)\n",
    "# hdisplay = display.display(\"\", display_id=True)\n",
    "\n",
    "# # Set axis labels and limits\n",
    "# ax.set_ylim(0, 1)\n",
    "# ax.set_xlim(problem.domain[0], problem.domain[-1])\n",
    "# ax.set_xlabel(\"Position (x)\")\n",
    "# ax.set_ylabel(\"Solution\")\n",
    "\n",
    "# # Initialize the line obj\n",
    "# line_imex, = ax.plot([], [], \"black\", label=\"IMEX-RB\")\n",
    "# line_be, = ax.plot([], [], \"red\", linestyle=\"--\", label=\"Backward Euler\")\n",
    "# ax.legend()\n",
    "\n",
    "# for n, t in enumerate(tvec):\n",
    "#     line_imex.set_data(problem.domain, uIMEX[:, n])  \n",
    "#     line_be.set_data(problem.domain, uBE[:, n])      \n",
    "#     hdisplay.update(fig)\n",
    "#     # time.sleep(0.001)\n",
    "\n",
    "# plt.close(fig)\n"
   ]
  },
  {
   "cell_type": "markdown",
   "metadata": {},
   "source": [
    "Go back to `matplotlib inline` (after animation)"
   ]
  },
  {
   "cell_type": "code",
   "execution_count": null,
   "metadata": {},
   "outputs": [],
   "source": [
    "%matplotlib inline"
   ]
  },
  {
   "cell_type": "markdown",
   "metadata": {},
   "source": [
    "## Convergence test\n",
    "We run a convergence test by computing the error at final time for different choices of $N_t$"
   ]
  },
  {
   "cell_type": "code",
   "execution_count": null,
   "metadata": {},
   "outputs": [],
   "source": [
    "# We now run a convergence test and plot the results\n",
    "# Define the range of Nt values\n",
    "Nt_values = [2**n for n in range(2, 12)]\n",
    "errors_imex = []\n",
    "errors_be = []\n",
    "# errors_fe = []\n",
    "\n",
    "Nt_FE_stable = compute_steps_stability_FE(problem, tspan)\n",
    "# Loop over Nt values\n",
    "for Nt in Nt_values:\n",
    "    # Time discretization\n",
    "    tvec = np.linspace(t0, tf, Nt + 1)\n",
    "    dt = tvec[1] - tvec[0]\n",
    "\n",
    "    # Solve the problem with each scheme\n",
    "    uIMEX, *_ = imexrb(problem, u0, tspan, Nt, epsilon, maxsize, maxsubiter)\n",
    "    uBE, *_ = backward_euler(problem, u0, tspan, Nt)\n",
    "    # uFE, *_ = forward_euler(problem, u0, tspan, Nt)\n",
    "\n",
    "    # Compute errors at final time for each scheme\n",
    "    err_imex = compute_errors(uIMEX, tvec, problem.domain, problem.exact_solution)\n",
    "    err_be = compute_errors(uBE, tvec, problem.domain, problem.exact_solution)\n",
    "    # err_fe = compute_errors(uFE, tvec, problem.domain, problem.exact_solution)\n",
    "\n",
    "    # Store the final error\n",
    "    errors_imex.append(err_imex[-1])\n",
    "    errors_be.append(err_be[-1])\n",
    "    # errors_fe.append(err_fe[-1])\n",
    "\n"
   ]
  },
  {
   "cell_type": "code",
   "execution_count": null,
   "metadata": {},
   "outputs": [],
   "source": [
    "# Plot the convergence results\n",
    "plt.loglog(Nt_values, errors_imex, label=\"IMEX-RB\", marker='o', linestyle='-')\n",
    "plt.loglog(Nt_values, errors_be, label=\"Backward Euler\", marker='s', linestyle='-')\n",
    "# plt.loglog(Nt_values, errors_fe, label=\"Forward Euler\", marker='^', linestyle='-.')\n",
    "plt.axvline(Nt_FE_stable, label=\"Stability FE\", color=\"r\", linestyle=':') \n",
    "plt.loglog(Nt_values, [1/Nt for Nt in Nt_values], label=r\"$\\mathcal{O}(\\Delta t)$\", color=\"k\", linestyle='--')\n",
    "plt.xlabel(r\"Number of Time Steps $N_t$\")\n",
    "plt.ylabel(\"Error final time\")\n",
    "plt.title(\"Convergence Test\")\n",
    "plt.legend()\n",
    "plt.grid(True, which=\"both\", linewidth=0.5)\n",
    "plt.show()"
   ]
  },
  {
   "cell_type": "markdown",
   "metadata": {},
   "source": [
    "### CPU Time to solution\n",
    "\n",
    "We now compare the times required by IMEX-RB and BE to obtain a stable solution\n",
    "N.W.: While we will keep $N_t$ fixed for IMEX-RB and BE, we will compute the $N_t$ making FE stable at each different problem size"
   ]
  },
  {
   "cell_type": "code",
   "execution_count": null,
   "metadata": {},
   "outputs": [],
   "source": [
    "# Define number of timesteps\n",
    "Nt = 200\n",
    "# Define epsilon for absolute stability condition\n",
    "epsilon = 1e-4 # 1.0/np.linalg.cond(problem.A)\n",
    "# Define max dimension of subspace before subiterations\n",
    "maxsize = int(np.ceil(np.pow(Nx, 1/3)))\n",
    "# Define max allowed enlargement during subiterations\n",
    "maxsubiter = maxsize"
   ]
  },
  {
   "cell_type": "code",
   "execution_count": null,
   "metadata": {},
   "outputs": [],
   "source": [
    "# Parameters for the simulation\n",
    "kappa = 1.0\n",
    "bc_left = 0.0\n",
    "bc_right = 0.0\n",
    "tspan = [0.0, 1.0]\n",
    "Nt = 200           # Number of time steps for IMEX and BE\n",
    "\n",
    "# Lists to store CPU times and errors\n",
    "Nx_list = []\n",
    "CPU_IMEX_list = []\n",
    "CPU_BE_list = []\n",
    "CPU_FE_list = []\n",
    "\n",
    "err_IMEX_list = []\n",
    "err_BE_list = []\n",
    "err_FE_list = []\n",
    "\n",
    "# Loop over different spatial resolutions\n",
    "Nx_values = [2**val for val in range(4, 10)]\n",
    "for Nx in Nx_values:\n",
    "    Nx_list.append(Nx)\n",
    "    print(f\"Running simulation for Nx = {Nx}\")\n",
    "\n",
    "    # Define the problem for the current Nx (assumes a Heat1D class exists)\n",
    "    problem = Heat1D(Nx, L, kappa, bc_left, bc_right)\n",
    "    u0 = problem.initial_condition()\n",
    "    epsilon = 1e-4  # tolerance parameter\n",
    "    maxsize = int(np.ceil(np.power(Nx, 1/3)))\n",
    "    maxsubiter = maxsize\n",
    "\n",
    "    # Run IMEX-RB integration\n",
    "    uIMEX, tvec, subiter, CPUtimeIMEX = imexrb(problem, u0, tspan, Nt, epsilon, maxsize, maxsubiter)\n",
    "    # Run Backward Euler integration\n",
    "    uBE, _, CPUTimeBE = backward_euler(problem, u0, tspan, Nt)\n",
    "    # Run Forward Euler integration on its own stable time grid\n",
    "    Nt_FE = compute_steps_stability_FE(problem, tspan)\n",
    "    uFE, tvec_FE, CPUTimeFE = forward_euler(problem, u0, tspan, Nt_FE)\n",
    "\n",
    "    # Compute errors at final time\n",
    "    err_IMEX = compute_errors(uIMEX, tvec, problem.domain, problem.exact_solution, finaltimeonly=True)\n",
    "    err_BE = compute_errors(uBE, tvec, problem.domain, problem.exact_solution, finaltimeonly=True)\n",
    "    err_FE = compute_errors(uFE, tvec_FE, problem.domain, problem.exact_solution, finaltimeonly=True)\n",
    "\n",
    "    # Append CPU times and errors\n",
    "    CPU_IMEX_list.append(CPUtimeIMEX)\n",
    "    CPU_BE_list.append(CPUTimeBE)\n",
    "    CPU_FE_list.append(CPUTimeFE)\n",
    "\n",
    "    err_IMEX_list.append(err_IMEX)\n",
    "    err_BE_list.append(err_BE)\n",
    "    err_FE_list.append(err_FE)\n"
   ]
  },
  {
   "cell_type": "code",
   "execution_count": null,
   "metadata": {},
   "outputs": [],
   "source": [
    "# Plotting CPU times vs Nx\n",
    "plt.subplot(2, 1, 1)\n",
    "plt.loglog(Nx_list, CPU_IMEX_list, 'o-', label='IMEX-RB')\n",
    "plt.loglog(Nx_list, CPU_BE_list, 's-', label='Backward Euler')\n",
    "plt.loglog(Nx_list, CPU_FE_list, '^-', label='Forward Euler (stable)')\n",
    "plt.xlabel(r'$N_x$')\n",
    "plt.ylabel('CPU Time (s)')\n",
    "# plt.title('CPU Time vs Spatial Resolution')\n",
    "plt.legend()\n",
    "plt.grid(True)\n",
    "\n",
    "# Plotting errors at final time vs Nx\n",
    "plt.subplot(2, 1, 2)\n",
    "plt.loglog(Nx_list, err_IMEX_list, 'o-', label='IMEX-RB')\n",
    "plt.loglog(Nx_list, err_BE_list, 's-', label='Backward Euler')\n",
    "plt.loglog(Nx_list, err_FE_list, '^-', label='Forward Euler')\n",
    "plt.xlabel(r'$N_x$')\n",
    "plt.ylabel(r'Error')\n",
    "# plt.title('Error vs num of unknowns')\n",
    "plt.legend()\n",
    "plt.grid(True)\n",
    "\n",
    "# plt.tight_layout()\n",
    "plt.show()"
   ]
  },
  {
   "cell_type": "markdown",
   "metadata": {},
   "source": [
    "Once again Forward Euler is more precise because forced to use smaller $\\Delta t$ s to meet stability requirements"
   ]
  }
 ],
 "metadata": {
  "kernelspec": {
   "display_name": "imexrb-FD",
   "language": "python",
   "name": "python3"
  },
  "language_info": {
   "codemirror_mode": {
    "name": "ipython",
    "version": 3
   },
   "file_extension": ".py",
   "mimetype": "text/x-python",
   "name": "python",
   "nbconvert_exporter": "python",
   "pygments_lexer": "ipython3",
   "version": "3.13.2"
  }
 },
 "nbformat": 4,
 "nbformat_minor": 2
}
