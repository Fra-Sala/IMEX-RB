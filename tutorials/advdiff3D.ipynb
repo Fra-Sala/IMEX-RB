{
 "cells": [
  {
   "cell_type": "markdown",
   "metadata": {},
   "source": [
    "# IMEX-RB: A Fast and Stable Time Integration Method\n"
   ]
  },
  {
   "cell_type": "code",
   "execution_count": 1,
   "metadata": {},
   "outputs": [],
   "source": [
    "import sys\n",
    "import os\n",
    "sys.path.append(os.path.abspath('..'))"
   ]
  },
  {
   "cell_type": "code",
   "execution_count": 2,
   "metadata": {},
   "outputs": [
    {
     "name": "stdout",
     "output_type": "stream",
     "text": [
      "\u001b[37m16:50:51 - matplotlib - DEBUG - matplotlib data path: /home/francesco/anaconda3/envs/imexrb-FD/lib/python3.13/site-packages/matplotlib/mpl-data\u001b[0m\n",
      "\u001b[37m16:50:51 - matplotlib - DEBUG - CONFIGDIR=/home/francesco/.config/matplotlib\u001b[0m\n",
      "\u001b[37m16:50:51 - matplotlib - DEBUG - interactive is False\u001b[0m\n",
      "\u001b[37m16:50:51 - matplotlib - DEBUG - platform is linux\u001b[0m\n"
     ]
    }
   ],
   "source": [
    "import numpy as np\n",
    "import scipy\n",
    "from src.imexrb import imexrb\n",
    "from src.euler import backward_euler, forward_euler\n",
    "import utils.mpl_pubstyle\n",
    "from utils.errors import compute_errors\n",
    "from utils.helpers import *\n",
    "# Suppress matplotlib logging\n",
    "logging.getLogger('matplotlib').setLevel(logging.WARNING)"
   ]
  },
  {
   "cell_type": "markdown",
   "metadata": {},
   "source": [
    "## Solving a 3D Advection Diffusion Equation\n",
    "\n",
    "The advection–diffusion problem is defined over the spatial domain $\\Omega = [0,1] \\times [0,1] \\times [0,1]$ and the time interval $[0,1]$:\n",
    "\n",
    "$$\n",
    "\\begin{cases}\n",
    "\\dfrac{\\partial u}{\\partial t} + c_x \\dfrac{\\partial u}{\\partial x} + c_y \\dfrac{\\partial u}{\\partial y} = \\mu \\Delta u,\n",
    "  & \\mathbf{x} \\in \\Omega,\\; t > 0, \\\\[1em]\n",
    "u(\\mathbf{x}, 0) = u_0(\\mathbf{x}), \n",
    "  & \\mathbf{x} \\in \\Omega, \\\\[0.5em]\n",
    "u(\\mathbf{x}, t) = g(\\mathbf{x}), \n",
    "  & \\mathbf{x} \\in \\partial \\Omega,\n",
    "\\end{cases}\n",
    "$$\n",
    "\n",
    "where $\\mathbf{x} = [x, y]^{T}$. We choose\n",
    "$$\n",
    "c_x = c_y = 0.8, \n",
    "\\quad\n",
    "\\mu = 0.1.\n",
    "$$\n",
    "\n",
    "The analytical (exact) solution, taken from [@SALMAN2022106780, p. 3], is\n",
    "\n",
    "$$\n",
    "u_{\\mathrm{ex}}(\\mathbf{x}, t)\n",
    "= \\frac{1}{4t + 1}\n",
    "  \\exp\\!\\Biggl(\n",
    "    -\\frac{(x - c_x t - 0.5)^2}{\\mu\\,(4t + 1)}\n",
    "    \\;-\\;\n",
    "    \\frac{(y - c_y t - 0.5)^2}{\\mu\\,(4t + 1)}\n",
    "  \\Biggr).\n",
    "$$\n",
    "\n",
    "---\n",
    "\n",
    "We can now integrate in time, to show the performance of IMEX-RB compared to classic 1st order integration schemes, i.e. Backward/Forward Euler."
   ]
  },
  {
   "cell_type": "code",
   "execution_count": 13,
   "metadata": {},
   "outputs": [],
   "source": [
    "from src.problemsPDE import AdvDiff3D\n",
    "\n",
    "problem_name = \"AdvDiff3D\"\n",
    "Lx = 1\n",
    "Ly = 2\n",
    "Lz = 3\n",
    "mu = 0.01\n",
    "vx = 1\n",
    "vy = 0.5 #vx\n",
    "vz = 0.5 # vx\n",
    "t0 = 0.0\n",
    "tf = 1.0\n",
    "tspan = [t0, tf]\n",
    "# Discretization\n",
    "Nx = 2\n",
    "Ny = 3\n",
    "Nz = 4\n",
    "\n",
    "# Define the problem object\n",
    "problem = AdvDiff3D(Nx, Ny, Nz, Lx, Ly, Lz, mu, vx, vy, vz)\n",
    "u0 = problem.initial_condition()\n"
   ]
  },
  {
   "cell_type": "code",
   "execution_count": 4,
   "metadata": {},
   "outputs": [],
   "source": [
    "# Define path for saving plots and other variables\n",
    "results_path = f\"results/{problem_name}\"\n",
    "os.makedirs(results_path, exist_ok=True)"
   ]
  },
  {
   "cell_type": "markdown",
   "metadata": {},
   "source": [
    "We now integrate over time, using different schemes. First of all, we define some parameters for the time integration"
   ]
  },
  {
   "cell_type": "code",
   "execution_count": 5,
   "metadata": {},
   "outputs": [],
   "source": [
    "# Define number of timesteps\n",
    "Nt = 200\n",
    "# Define epsilon for absolute stability condition\n",
    "epsilon = 1e-3 # 1.0/np.linalg.cond(problem.A)\n",
    "# Define max dimension of subspace before subiterations\n",
    "maxsize = 10 #int(np.ceil(np.pow(problem.Nh, 1/3)))\n",
    "# Define max allowed enlargement during subiterations\n",
    "maxsubiter = maxsize"
   ]
  },
  {
   "cell_type": "markdown",
   "metadata": {},
   "source": [
    "Let us have a look at the selected dimension for the subspace $\\mathcal{V}_n$"
   ]
  },
  {
   "cell_type": "code",
   "execution_count": 6,
   "metadata": {},
   "outputs": [
    {
     "name": "stdout",
     "output_type": "stream",
     "text": [
      "The subspace has an initial dim = 10, and such dim can grow up to 20\n",
      "The full order problem has dim = 132651\n",
      "The selected \\varepsilon is 0.001\n",
      "Local x-Peclet number is approx 0.25\n"
     ]
    }
   ],
   "source": [
    "print(f\"The subspace has an initial dim = {maxsize}, and such dim can grow up to {maxsize + maxsubiter}\"\n",
    "      f\"\\nThe full order problem has dim = {problem.Nh}\")\n",
    "print(f\"The selected \\\\varepsilon is {epsilon}\")\n",
    "print(f\"Local x-Peclet number is approx {vx * tf / (2 * mu * Nt)}\")"
   ]
  },
  {
   "cell_type": "markdown",
   "metadata": {},
   "source": [
    "We compute the number of timesteps making forward Euler stable, for comparison with the other schemes"
   ]
  },
  {
   "cell_type": "code",
   "execution_count": 7,
   "metadata": {},
   "outputs": [],
   "source": [
    "# Nt_FE = compute_steps_stability_FE(problem, tspan)\n",
    "Nt_FE = Nt"
   ]
  },
  {
   "cell_type": "code",
   "execution_count": 8,
   "metadata": {},
   "outputs": [
    {
     "name": "stdout",
     "output_type": "stream",
     "text": [
      "\u001b[37m16:51:01 - src.imexrb - DEBUG - IMEX-RB: stability condition NOT met (times/total):0/200\u001b[0m\n"
     ]
    }
   ],
   "source": [
    "# First, IMEX-RB\n",
    "uIMEX, tvec, subiter = imexrb(problem, u0, tspan, Nt, epsilon, maxsize, maxsubiter)\n",
    "uBE, *_ = backward_euler(problem, u0, tspan, Nt, solver=\"gmres\")\n",
    "# Forward Euler may throw errors if unstable\n",
    "uFE, tvecFE, *_ = forward_euler(problem, u0, tspan, Nt_FE)"
   ]
  },
  {
   "cell_type": "markdown",
   "metadata": {},
   "source": [
    "### Compute and plot errors\n",
    "We plot the errors over time for the previously chosen parameters. Note that the stability requirement for FE make it significantly more precise than BE and IMEX-RB, which attain stability for a much larger $\\Delta t$"
   ]
  },
  {
   "cell_type": "code",
   "execution_count": 9,
   "metadata": {},
   "outputs": [
    {
     "name": "stdout",
     "output_type": "stream",
     "text": [
      "\u001b[37m16:51:21 - PIL.PngImagePlugin - DEBUG - STREAM b'IHDR' 16 13\u001b[0m\n",
      "\u001b[37m16:51:21 - PIL.PngImagePlugin - DEBUG - STREAM b'PLTE' 41 48\u001b[0m\n",
      "\u001b[37m16:51:21 - PIL.PngImagePlugin - DEBUG - STREAM b'tRNS' 101 15\u001b[0m\n",
      "\u001b[37m16:51:21 - PIL.PngImagePlugin - DEBUG - STREAM b'pHYs' 128 9\u001b[0m\n",
      "\u001b[37m16:51:21 - PIL.PngImagePlugin - DEBUG - STREAM b'IDAT' 149 157\u001b[0m\n",
      "\u001b[37m16:51:21 - PIL.PngImagePlugin - DEBUG - STREAM b'IHDR' 16 13\u001b[0m\n",
      "\u001b[37m16:51:21 - PIL.PngImagePlugin - DEBUG - STREAM b'PLTE' 41 48\u001b[0m\n",
      "\u001b[37m16:51:21 - PIL.PngImagePlugin - DEBUG - STREAM b'tRNS' 101 15\u001b[0m\n",
      "\u001b[37m16:51:21 - PIL.PngImagePlugin - DEBUG - STREAM b'pHYs' 128 9\u001b[0m\n",
      "\u001b[37m16:51:21 - PIL.PngImagePlugin - DEBUG - STREAM b'IDAT' 149 221\u001b[0m\n",
      "\u001b[37m16:51:21 - PIL.PngImagePlugin - DEBUG - STREAM b'IHDR' 16 13\u001b[0m\n",
      "\u001b[37m16:51:21 - PIL.PngImagePlugin - DEBUG - STREAM b'PLTE' 41 48\u001b[0m\n",
      "\u001b[37m16:51:21 - PIL.PngImagePlugin - DEBUG - STREAM b'tRNS' 101 15\u001b[0m\n",
      "\u001b[37m16:51:21 - PIL.PngImagePlugin - DEBUG - STREAM b'pHYs' 128 9\u001b[0m\n",
      "\u001b[37m16:51:21 - PIL.PngImagePlugin - DEBUG - STREAM b'IDAT' 149 188\u001b[0m\n",
      "\u001b[37m16:51:21 - PIL.PngImagePlugin - DEBUG - STREAM b'IHDR' 16 13\u001b[0m\n",
      "\u001b[37m16:51:21 - PIL.PngImagePlugin - DEBUG - STREAM b'PLTE' 41 48\u001b[0m\n",
      "\u001b[37m16:51:21 - PIL.PngImagePlugin - DEBUG - STREAM b'tRNS' 101 15\u001b[0m\n",
      "\u001b[37m16:51:21 - PIL.PngImagePlugin - DEBUG - STREAM b'pHYs' 128 9\u001b[0m\n",
      "\u001b[37m16:51:21 - PIL.PngImagePlugin - DEBUG - STREAM b'IDAT' 149 231\u001b[0m\n",
      "\u001b[37m16:51:21 - PIL.PngImagePlugin - DEBUG - STREAM b'IHDR' 16 13\u001b[0m\n",
      "\u001b[37m16:51:21 - PIL.PngImagePlugin - DEBUG - STREAM b'PLTE' 41 48\u001b[0m\n",
      "\u001b[37m16:51:21 - PIL.PngImagePlugin - DEBUG - STREAM b'tRNS' 101 15\u001b[0m\n",
      "\u001b[37m16:51:21 - PIL.PngImagePlugin - DEBUG - STREAM b'pHYs' 128 9\u001b[0m\n",
      "\u001b[37m16:51:21 - PIL.PngImagePlugin - DEBUG - STREAM b'IDAT' 149 232\u001b[0m\n",
      "\u001b[37m16:51:21 - PIL.PngImagePlugin - DEBUG - STREAM b'IHDR' 16 13\u001b[0m\n",
      "\u001b[37m16:51:21 - PIL.PngImagePlugin - DEBUG - STREAM b'PLTE' 41 48\u001b[0m\n",
      "\u001b[37m16:51:21 - PIL.PngImagePlugin - DEBUG - STREAM b'tRNS' 101 15\u001b[0m\n",
      "\u001b[37m16:51:21 - PIL.PngImagePlugin - DEBUG - STREAM b'pHYs' 128 9\u001b[0m\n",
      "\u001b[37m16:51:21 - PIL.PngImagePlugin - DEBUG - STREAM b'IDAT' 149 150\u001b[0m\n",
      "\u001b[37m16:51:21 - PIL.PngImagePlugin - DEBUG - STREAM b'IHDR' 16 13\u001b[0m\n",
      "\u001b[37m16:51:21 - PIL.PngImagePlugin - DEBUG - STREAM b'PLTE' 41 48\u001b[0m\n",
      "\u001b[37m16:51:21 - PIL.PngImagePlugin - DEBUG - STREAM b'tRNS' 101 15\u001b[0m\n",
      "\u001b[37m16:51:21 - PIL.PngImagePlugin - DEBUG - STREAM b'pHYs' 128 9\u001b[0m\n",
      "\u001b[37m16:51:21 - PIL.PngImagePlugin - DEBUG - STREAM b'IDAT' 149 265\u001b[0m\n",
      "\u001b[37m16:51:21 - PIL.PngImagePlugin - DEBUG - STREAM b'IHDR' 16 13\u001b[0m\n",
      "\u001b[37m16:51:21 - PIL.PngImagePlugin - DEBUG - STREAM b'PLTE' 41 48\u001b[0m\n",
      "\u001b[37m16:51:21 - PIL.PngImagePlugin - DEBUG - STREAM b'tRNS' 101 15\u001b[0m\n",
      "\u001b[37m16:51:21 - PIL.PngImagePlugin - DEBUG - STREAM b'pHYs' 128 9\u001b[0m\n",
      "\u001b[37m16:51:21 - PIL.PngImagePlugin - DEBUG - STREAM b'IDAT' 149 204\u001b[0m\n",
      "\u001b[37m16:51:21 - PIL.PngImagePlugin - DEBUG - STREAM b'IHDR' 16 13\u001b[0m\n",
      "\u001b[37m16:51:21 - PIL.PngImagePlugin - DEBUG - STREAM b'PLTE' 41 48\u001b[0m\n",
      "\u001b[37m16:51:21 - PIL.PngImagePlugin - DEBUG - STREAM b'tRNS' 101 15\u001b[0m\n",
      "\u001b[37m16:51:21 - PIL.PngImagePlugin - DEBUG - STREAM b'pHYs' 128 9\u001b[0m\n",
      "\u001b[37m16:51:21 - PIL.PngImagePlugin - DEBUG - STREAM b'IDAT' 149 530\u001b[0m\n",
      "\u001b[37m16:51:21 - PIL.PngImagePlugin - DEBUG - STREAM b'IHDR' 16 13\u001b[0m\n",
      "\u001b[37m16:51:21 - PIL.PngImagePlugin - DEBUG - STREAM b'PLTE' 41 48\u001b[0m\n",
      "\u001b[37m16:51:21 - PIL.PngImagePlugin - DEBUG - STREAM b'tRNS' 101 15\u001b[0m\n",
      "\u001b[37m16:51:21 - PIL.PngImagePlugin - DEBUG - STREAM b'pHYs' 128 9\u001b[0m\n",
      "\u001b[37m16:51:21 - PIL.PngImagePlugin - DEBUG - STREAM b'IDAT' 149 1191\u001b[0m\n",
      "\u001b[37m16:51:21 - PIL.PngImagePlugin - DEBUG - STREAM b'IHDR' 16 13\u001b[0m\n",
      "\u001b[37m16:51:21 - PIL.PngImagePlugin - DEBUG - STREAM b'PLTE' 41 48\u001b[0m\n",
      "\u001b[37m16:51:21 - PIL.PngImagePlugin - DEBUG - STREAM b'tRNS' 101 15\u001b[0m\n",
      "\u001b[37m16:51:21 - PIL.PngImagePlugin - DEBUG - STREAM b'pHYs' 128 9\u001b[0m\n",
      "\u001b[37m16:51:21 - PIL.PngImagePlugin - DEBUG - STREAM b'IDAT' 149 610\u001b[0m\n",
      "\u001b[37m16:51:21 - PIL.PngImagePlugin - DEBUG - STREAM b'IHDR' 16 13\u001b[0m\n",
      "\u001b[37m16:51:21 - PIL.PngImagePlugin - DEBUG - STREAM b'PLTE' 41 48\u001b[0m\n",
      "\u001b[37m16:51:21 - PIL.PngImagePlugin - DEBUG - STREAM b'tRNS' 101 15\u001b[0m\n",
      "\u001b[37m16:51:21 - PIL.PngImagePlugin - DEBUG - STREAM b'pHYs' 128 9\u001b[0m\n",
      "\u001b[37m16:51:21 - PIL.PngImagePlugin - DEBUG - STREAM b'IDAT' 149 850\u001b[0m\n",
      "\u001b[37m16:51:21 - PIL.PngImagePlugin - DEBUG - STREAM b'IHDR' 16 13\u001b[0m\n",
      "\u001b[37m16:51:21 - PIL.PngImagePlugin - DEBUG - STREAM b'PLTE' 41 48\u001b[0m\n",
      "\u001b[37m16:51:21 - PIL.PngImagePlugin - DEBUG - STREAM b'tRNS' 101 15\u001b[0m\n",
      "\u001b[37m16:51:21 - PIL.PngImagePlugin - DEBUG - STREAM b'pHYs' 128 9\u001b[0m\n",
      "\u001b[37m16:51:21 - PIL.PngImagePlugin - DEBUG - STREAM b'IDAT' 149 587\u001b[0m\n",
      "\u001b[37m16:51:21 - PIL.PngImagePlugin - DEBUG - STREAM b'IHDR' 16 13\u001b[0m\n",
      "\u001b[37m16:51:21 - PIL.PngImagePlugin - DEBUG - STREAM b'PLTE' 41 48\u001b[0m\n",
      "\u001b[37m16:51:21 - PIL.PngImagePlugin - DEBUG - STREAM b'tRNS' 101 15\u001b[0m\n",
      "\u001b[37m16:51:21 - PIL.PngImagePlugin - DEBUG - STREAM b'pHYs' 128 9\u001b[0m\n",
      "\u001b[37m16:51:21 - PIL.PngImagePlugin - DEBUG - STREAM b'IDAT' 149 102\u001b[0m\n",
      "\u001b[37m16:51:21 - PIL.PngImagePlugin - DEBUG - STREAM b'IHDR' 16 13\u001b[0m\n",
      "\u001b[37m16:51:21 - PIL.PngImagePlugin - DEBUG - STREAM b'PLTE' 41 48\u001b[0m\n",
      "\u001b[37m16:51:21 - PIL.PngImagePlugin - DEBUG - STREAM b'tRNS' 101 15\u001b[0m\n",
      "\u001b[37m16:51:21 - PIL.PngImagePlugin - DEBUG - STREAM b'pHYs' 128 9\u001b[0m\n",
      "\u001b[37m16:51:21 - PIL.PngImagePlugin - DEBUG - STREAM b'IDAT' 149 133\u001b[0m\n",
      "\u001b[37m16:51:21 - PIL.PngImagePlugin - DEBUG - STREAM b'IHDR' 16 13\u001b[0m\n",
      "\u001b[37m16:51:21 - PIL.PngImagePlugin - DEBUG - STREAM b'PLTE' 41 48\u001b[0m\n",
      "\u001b[37m16:51:21 - PIL.PngImagePlugin - DEBUG - STREAM b'tRNS' 101 15\u001b[0m\n",
      "\u001b[37m16:51:21 - PIL.PngImagePlugin - DEBUG - STREAM b'pHYs' 128 9\u001b[0m\n",
      "\u001b[37m16:51:21 - PIL.PngImagePlugin - DEBUG - STREAM b'IDAT' 149 1030\u001b[0m\n",
      "\u001b[37m16:51:21 - PIL.PngImagePlugin - DEBUG - STREAM b'IHDR' 16 13\u001b[0m\n",
      "\u001b[37m16:51:21 - PIL.PngImagePlugin - DEBUG - STREAM b'PLTE' 41 48\u001b[0m\n",
      "\u001b[37m16:51:21 - PIL.PngImagePlugin - DEBUG - STREAM b'tRNS' 101 15\u001b[0m\n",
      "\u001b[37m16:51:21 - PIL.PngImagePlugin - DEBUG - STREAM b'pHYs' 128 9\u001b[0m\n",
      "\u001b[37m16:51:21 - PIL.PngImagePlugin - DEBUG - STREAM b'IDAT' 149 410\u001b[0m\n",
      "\u001b[37m16:51:21 - PIL.PngImagePlugin - DEBUG - STREAM b'IHDR' 16 13\u001b[0m\n",
      "\u001b[37m16:51:21 - PIL.PngImagePlugin - DEBUG - STREAM b'PLTE' 41 48\u001b[0m\n",
      "\u001b[37m16:51:21 - PIL.PngImagePlugin - DEBUG - STREAM b'tRNS' 101 15\u001b[0m\n",
      "\u001b[37m16:51:21 - PIL.PngImagePlugin - DEBUG - STREAM b'pHYs' 128 9\u001b[0m\n",
      "\u001b[37m16:51:21 - PIL.PngImagePlugin - DEBUG - STREAM b'IDAT' 149 666\u001b[0m\n"
     ]
    },
    {
     "data": {
      "image/png": "[encoded data removed]",
      "text/plain": [
       "<Figure size 810x600 with 2 Axes>"
      ]
     },
     "metadata": {},
     "output_type": "display_data"
    }
   ],
   "source": [
    "import matplotlib.pyplot as plt\n",
    "\n",
    "fig = plt.figure()\n",
    "plt.subplot(2,1,1)\n",
    "# Compute relative errors over time \n",
    "errIMEX = compute_errors(uIMEX, tvec, problem)\n",
    "errBE = compute_errors(uBE, tvec, problem)\n",
    "errFE = compute_errors(uFE, tvecFE, problem)\n",
    "\n",
    "# Plot the errors\n",
    "plt.semilogy(tvec[1:], errIMEX, label=\"IMEX-RB\", marker='o')\n",
    "plt.semilogy(tvec[1:], errBE, label=\"Backward Euler\", marker='s')\n",
    "# plt.semilogy(tvecFE[1:], errFE, label=\"Forward Euler (stable)\", marker='^')\n",
    "\n",
    "plt.ylabel(r\"$e(t_n)$\")\n",
    "plt.title(f\"{problem_name}\")\n",
    "plt.legend()\n",
    "plt.grid(True)\n",
    "\n",
    "plt.subplot(2,1,2)\n",
    "plt.plot(tvec[1:], subiter, label=\"subiter\", marker=\"^\")\n",
    "plt.xlabel(r\"Time $t_n$\")\n",
    "plt.ylabel(r\"Subiterations\")\n",
    "plt.axhline(maxsubiter, linestyle=\":\", color=\"k\", label=r\"max subiters\")\n",
    "plt.legend()\n",
    "\n",
    "# Show the plot\n",
    "plt.show()"
   ]
  },
  {
   "cell_type": "markdown",
   "metadata": {},
   "source": [
    "### Plot the animation of the solution\n",
    "Note that an animated plot in jupyter is not straightforward, and that is why there are some weird commands"
   ]
  },
  {
   "cell_type": "markdown",
   "metadata": {},
   "source": [
    "Go back to `matplotlib inline` (after animation)"
   ]
  },
  {
   "cell_type": "code",
   "execution_count": 10,
   "metadata": {},
   "outputs": [],
   "source": [
    "plt.close('all')\n",
    "from IPython.display import clear_output\n",
    "clear_output(wait=True)\n",
    "%matplotlib inline"
   ]
  },
  {
   "cell_type": "markdown",
   "metadata": {},
   "source": [
    "## Convergence test\n",
    "We run a convergence test by computing the error at final time for different choices of $N_t$"
   ]
  },
  {
   "cell_type": "markdown",
   "metadata": {},
   "source": [
    "### CPU Time to solution\n",
    "\n",
    "We now compare the times required by IMEX-RB and BE to obtain a stable solution\n",
    "N.W.: While we will keep $N_t$ fixed for IMEX-RB and BE, we will compute the $N_t$ making FE stable at each different problem size"
   ]
  }
 ],
 "metadata": {
  "kernelspec": {
   "display_name": "imexrb-FD",
   "language": "python",
   "name": "python3"
  },
  "language_info": {
   "codemirror_mode": {
    "name": "ipython",
    "version": 3
   },
   "file_extension": ".py",
   "mimetype": "text/x-python",
   "name": "python",
   "nbconvert_exporter": "python",
   "pygments_lexer": "ipython3",
   "version": "3.13.2"
  }
 },
 "nbformat": 4,
 "nbformat_minor": 2
}
