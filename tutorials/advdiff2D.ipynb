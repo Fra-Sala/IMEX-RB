{
 "cells": [
  {
   "cell_type": "markdown",
   "metadata": {},
   "source": [
    "# IMEX-RB: A Fast and Stable Time Integration Method\n"
   ]
  },
  {
   "cell_type": "code",
   "execution_count": 1,
   "metadata": {},
   "outputs": [],
   "source": [
    "import sys\n",
    "import os\n",
    "sys.path.append(os.path.abspath('..'))\n",
    "# sys.path.append(os.path.abspath('..'))"
   ]
  },
  {
   "cell_type": "code",
   "execution_count": 2,
   "metadata": {},
   "outputs": [
    {
     "name": "stdout",
     "output_type": "stream",
     "text": [
      "\u001b[37m12:13:12 - matplotlib - DEBUG - matplotlib data path: /home/francesco/anaconda3/envs/imexrb-FD/lib/python3.13/site-packages/matplotlib/mpl-data\u001b[0m\n",
      "\u001b[37m12:13:12 - matplotlib - DEBUG - CONFIGDIR=/home/francesco/.config/matplotlib\u001b[0m\n",
      "\u001b[37m12:13:12 - matplotlib - DEBUG - interactive is False\u001b[0m\n",
      "\u001b[37m12:13:12 - matplotlib - DEBUG - platform is linux\u001b[0m\n"
     ]
    }
   ],
   "source": [
    "import numpy as np\n",
    "import scipy\n",
    "from src.imexrb import imexrb\n",
    "from src.euler import backward_euler, forward_euler\n",
    "from src.problemsPDE import AdvDiff2D\n",
    "import utils.mpl_pubstyle\n",
    "from utils.errors import compute_errors\n",
    "from utils.helpers import *\n",
    "\n",
    "import logging\n",
    "logging.getLogger('matplotlib').setLevel(logging.WARNING)\n",
    "logging.getLogger('PIL.PngImagePlugin').setLevel(logging.WARNING)"
   ]
  },
  {
   "cell_type": "markdown",
   "metadata": {},
   "source": [
    "## Solving a 2D Advection-Diffusion equation\n",
    "\n",
    "The advection–diffusion problem is defined over the spatial domain $\\Omega = [0,2] \\times [0,2]$ and the time interval $[0,1]$:\n",
    "\n",
    "$$\n",
    "\\begin{cases}\n",
    "\\dfrac{\\partial u}{\\partial t} + c_x \\dfrac{\\partial u}{\\partial x} + c_y \\dfrac{\\partial u}{\\partial y} - \\mu \\Delta u = f(\\mathbf{x},t),\n",
    "  & \\mathbf{x} \\in \\Omega,\\; t > 0, \\\\[1em]\n",
    "u(\\mathbf{x}, 0) = u_0(\\mathbf{x}), \n",
    "  & \\mathbf{x} \\in \\Omega, \\\\[0.5em]\n",
    "u(\\mathbf{x}, t) = g(\\mathbf{x}), \n",
    "  & \\mathbf{x} \\in \\partial \\Omega,\n",
    "\\end{cases}\n",
    "$$\n",
    "\n",
    "where $\\mathbf{x} = [x, y]^{T}$. We choose the advection and diffusion parameters as\n",
    "$$\n",
    "\\mathbf{c} = [c_x, c_y] = [1, 0.5], \n",
    "\\quad\n",
    "\\mu = 0.02,\n",
    "$$\n",
    "\n",
    "while the forcing term is given by\n",
    "\n",
    "$$\n",
    "f(\\mathbf{x}, t) = \\frac{\\mu U}{(\\sigma^2 + \\mu t)^2} \\ \\left( 4 (\\sigma^2 + \\mu t) - 3 \\Vert \\mathbf{x} - \\mathbf{x_0} - \\mathbf{c} t \\Vert_2^2 \\right) \\ \\exp\\left( - \\frac{\\Vert \\mathbf{x} - \\mathbf{x_0} - \\mathbf{c} t \\Vert_2^2}{\\sigma^2 + \\mu t} \\right)~,\n",
    "$$\n",
    "\n",
    "where we set $\\mathbf{x_0} = [0.5, 0.5]$, $\\sigma=0.5$ and $U = 0.25$.\n",
    "\n",
    "The analytical solution writes as follows:\n",
    "\n",
    "$$\n",
    "u_{\\mathrm{ex}}(x, y, t)\n",
    "= U\n",
    "  \\exp\\!\\left(\n",
    "    -\\frac{\\Vert \\mathbf{x} - \\mathbf{x_0} - \\mathbf{c} t \\Vert_2^2}{\\sigma^2 + \\mu t}\n",
    "  \\right)~;\n",
    "$$\n",
    "\n",
    "we note that $\\sigma > 0$ regulates the amplitude of the peak in the initial condition and $U>0$ is the peak solution value at $t=0$. The initial and Dirichlet data are inferred from the exact solution.\n",
    "\n",
    "---\n",
    "\n",
    "We can now integrate in time, to show the performance of IMEX-RB compared to classic 1st order integration schemes, i.e. Backward/Forward Euler."
   ]
  },
  {
   "cell_type": "code",
   "execution_count": null,
   "metadata": {},
   "outputs": [],
   "source": [
    "problem_name = \"AdvDiff2D\"\n",
    "\n",
    "mu = 0.02\n",
    "sigma = 0.5\n",
    "\n",
    "Lx = 2\n",
    "Ly = 2\n",
    "\n",
    "vx = 1\n",
    "vy = 0.5\n",
    "\n",
    "t0 = 0.0\n",
    "tf = 1.0\n",
    "tspan = [t0, tf]\n",
    "\n",
    "Nx = 101\n",
    "Ny = 101\n",
    "\n",
    "# Define the problem object\n",
    "problem = AdvDiff2D(Nx, Ny, Lx, Ly, mu=mu, sigma=sigma, vx=vx, vy=vy, center=[0.5, 0.5])\n",
    "u0 = problem.initial_condition()"
   ]
  },
  {
   "cell_type": "code",
   "execution_count": 4,
   "metadata": {},
   "outputs": [],
   "source": [
    "# Define path for saving plots and other variables\n",
    "results_path = f\"results/{problem_name}\"\n",
    "os.makedirs(results_path, exist_ok=True)"
   ]
  },
  {
   "cell_type": "markdown",
   "metadata": {},
   "source": [
    "We now integrate over time, using different schemes. First of all, we define some parameters for the time integration"
   ]
  },
  {
   "cell_type": "code",
   "execution_count": 5,
   "metadata": {},
   "outputs": [],
   "source": [
    "# Define number of timesteps\n",
    "Nt = 100\n",
    "# Define epsilon for absolute stability condition\n",
    "epsilon = 1.0 / cond_sparse(problem.A)\n",
    "# Define max dimension of subspace before subiterations\n",
    "maxsize = 10  # int(np.ceil(np.pow(problem.Nh, 1/3)))\n",
    "# Define max allowed enlargement during subiterations\n",
    "maxsubiter = 30"
   ]
  },
  {
   "cell_type": "markdown",
   "metadata": {},
   "source": [
    "Let us have a look at the selected dimension for the subspace $\\mathcal{V}_n$"
   ]
  },
  {
   "cell_type": "code",
   "execution_count": 14,
   "metadata": {},
   "outputs": [
    {
     "name": "stdout",
     "output_type": "stream",
     "text": [
      "The subspace has an initial dim = 10, and such dim can grow up to 40\n",
      "The full order problem has dim = 900\n",
      "The selected \\varepsilon is 2.3234e-02\n",
      "Local x-Peclet number is approx 0.25\n"
     ]
    }
   ],
   "source": [
    "print(f\"The subspace has an initial dim = {maxsize}, and such dim can grow up to {maxsize + maxsubiter}\"\n",
    "      f\"\\nThe full order problem has dim = {problem.Nh}\")\n",
    "print(f\"The selected \\\\varepsilon is {epsilon:.4e}\")\n",
    "print(f\"Local x-Peclet number is approx {vx * tf / (2 * mu * Nt)}\")"
   ]
  },
  {
   "cell_type": "markdown",
   "metadata": {},
   "source": [
    "We compute the number of timesteps making forward Euler stable, for comparison with the other schemes"
   ]
  },
  {
   "cell_type": "code",
   "execution_count": 15,
   "metadata": {},
   "outputs": [
    {
     "ename": "ArpackNoConvergence",
     "evalue": "ARPACK error -1: No convergence (9001 iterations, 0/1 eigenvectors converged) [ARPACK error -14: DNAUPD  did not find any eigenvalues to sufficient accuracy.]",
     "output_type": "error",
     "traceback": [
      "\u001b[0;31m---------------------------------------------------------------------------\u001b[0m",
      "\u001b[0;31mArpackNoConvergence\u001b[0m                       Traceback (most recent call last)",
      "Cell \u001b[0;32mIn[15], line 1\u001b[0m\n\u001b[0;32m----> 1\u001b[0m Nt_FE \u001b[38;5;241m=\u001b[39m \u001b[43mcompute_steps_stability_FE\u001b[49m\u001b[43m(\u001b[49m\u001b[43mproblem\u001b[49m\u001b[43m,\u001b[49m\u001b[43m \u001b[49m\u001b[43mtspan\u001b[49m\u001b[43m)\u001b[49m\n\u001b[1;32m      2\u001b[0m \u001b[38;5;28mprint\u001b[39m(\u001b[38;5;124mf\u001b[39m\u001b[38;5;124m\"\u001b[39m\u001b[38;5;124mForward Euler minimal steps number: \u001b[39m\u001b[38;5;132;01m{\u001b[39;00mNt_FE\u001b[38;5;132;01m}\u001b[39;00m\u001b[38;5;124m\"\u001b[39m)\n",
      "File \u001b[0;32m~/Desktop/EPFL_RESEARCH/Paper1/FD-PyIMEX-RB/utils/helpers.py:31\u001b[0m, in \u001b[0;36mcompute_steps_stability_FE\u001b[0;34m(problem, tspan, factor, tol)\u001b[0m\n\u001b[1;32m     25\u001b[0m \u001b[38;5;28;01mdef\u001b[39;00m\u001b[38;5;250m \u001b[39m\u001b[38;5;21mcompute_steps_stability_FE\u001b[39m(problem, tspan, factor\u001b[38;5;241m=\u001b[39m\u001b[38;5;241m0.99\u001b[39m, tol\u001b[38;5;241m=\u001b[39m\u001b[38;5;241m1e-8\u001b[39m):\n\u001b[1;32m     26\u001b[0m \u001b[38;5;250m    \u001b[39m\u001b[38;5;124;03m\"\"\"\u001b[39;00m\n\u001b[1;32m     27\u001b[0m \u001b[38;5;124;03m    Compute minimum number of timesteps to make forward Euler (FE)\u001b[39;00m\n\u001b[1;32m     28\u001b[0m \u001b[38;5;124;03m    scheme absolutely stable.\u001b[39;00m\n\u001b[1;32m     29\u001b[0m \u001b[38;5;124;03m    \"\"\"\u001b[39;00m\n\u001b[0;32m---> 31\u001b[0m     eigvals, _ \u001b[38;5;241m=\u001b[39m \u001b[43mscipy\u001b[49m\u001b[38;5;241;43m.\u001b[39;49m\u001b[43msparse\u001b[49m\u001b[38;5;241;43m.\u001b[39;49m\u001b[43mlinalg\u001b[49m\u001b[38;5;241;43m.\u001b[39;49m\u001b[43meigs\u001b[49m\u001b[43m(\u001b[49m\u001b[43mproblem\u001b[49m\u001b[38;5;241;43m.\u001b[39;49m\u001b[43mA\u001b[49m\u001b[43m,\u001b[49m\u001b[43m \u001b[49m\u001b[43mk\u001b[49m\u001b[38;5;241;43m=\u001b[39;49m\u001b[38;5;241;43m1\u001b[39;49m\u001b[43m,\u001b[49m\u001b[43m \u001b[49m\u001b[43mwhich\u001b[49m\u001b[38;5;241;43m=\u001b[39;49m\u001b[38;5;124;43m\"\u001b[39;49m\u001b[38;5;124;43mLM\u001b[39;49m\u001b[38;5;124;43m\"\u001b[39;49m\u001b[43m,\u001b[49m\u001b[43m \u001b[49m\u001b[43mtol\u001b[49m\u001b[38;5;241;43m=\u001b[39;49m\u001b[43mtol\u001b[49m\u001b[43m)\u001b[49m\n\u001b[1;32m     32\u001b[0m     max_eig \u001b[38;5;241m=\u001b[39m \u001b[38;5;28mabs\u001b[39m(eigvals[\u001b[38;5;241m0\u001b[39m])\n\u001b[1;32m     33\u001b[0m     dtFE \u001b[38;5;241m=\u001b[39m factor \u001b[38;5;241m*\u001b[39m \u001b[38;5;241m2\u001b[39m \u001b[38;5;241m/\u001b[39m max_eig\n",
      "File \u001b[0;32m~/anaconda3/envs/imexrb-FD/lib/python3.13/site-packages/scipy/sparse/linalg/_eigen/arpack/arpack.py:1354\u001b[0m, in \u001b[0;36meigs\u001b[0;34m(A, k, M, sigma, which, v0, ncv, maxiter, tol, return_eigenvectors, Minv, OPinv, OPpart)\u001b[0m\n\u001b[1;32m   1352\u001b[0m \u001b[38;5;28;01mwith\u001b[39;00m _ARPACK_LOCK:\n\u001b[1;32m   1353\u001b[0m     \u001b[38;5;28;01mwhile\u001b[39;00m \u001b[38;5;129;01mnot\u001b[39;00m params\u001b[38;5;241m.\u001b[39mconverged:\n\u001b[0;32m-> 1354\u001b[0m         \u001b[43mparams\u001b[49m\u001b[38;5;241;43m.\u001b[39;49m\u001b[43miterate\u001b[49m\u001b[43m(\u001b[49m\u001b[43m)\u001b[49m\n\u001b[1;32m   1356\u001b[0m     \u001b[38;5;28;01mreturn\u001b[39;00m params\u001b[38;5;241m.\u001b[39mextract(return_eigenvectors)\n",
      "File \u001b[0;32m~/anaconda3/envs/imexrb-FD/lib/python3.13/site-packages/scipy/sparse/linalg/_eigen/arpack/arpack.py:766\u001b[0m, in \u001b[0;36m_UnsymmetricArpackParams.iterate\u001b[0;34m(self)\u001b[0m\n\u001b[1;32m    764\u001b[0m     \u001b[38;5;28;01mpass\u001b[39;00m\n\u001b[1;32m    765\u001b[0m \u001b[38;5;28;01melif\u001b[39;00m \u001b[38;5;28mself\u001b[39m\u001b[38;5;241m.\u001b[39minfo \u001b[38;5;241m==\u001b[39m \u001b[38;5;241m1\u001b[39m:\n\u001b[0;32m--> 766\u001b[0m     \u001b[38;5;28;43mself\u001b[39;49m\u001b[38;5;241;43m.\u001b[39;49m\u001b[43m_raise_no_convergence\u001b[49m\u001b[43m(\u001b[49m\u001b[43m)\u001b[49m\n\u001b[1;32m    767\u001b[0m \u001b[38;5;28;01melse\u001b[39;00m:\n\u001b[1;32m    768\u001b[0m     \u001b[38;5;28;01mraise\u001b[39;00m ArpackError(\u001b[38;5;28mself\u001b[39m\u001b[38;5;241m.\u001b[39minfo, infodict\u001b[38;5;241m=\u001b[39m\u001b[38;5;28mself\u001b[39m\u001b[38;5;241m.\u001b[39miterate_infodict)\n",
      "File \u001b[0;32m~/anaconda3/envs/imexrb-FD/lib/python3.13/site-packages/scipy/sparse/linalg/_eigen/arpack/arpack.py:385\u001b[0m, in \u001b[0;36m_ArpackParams._raise_no_convergence\u001b[0;34m(self)\u001b[0m\n\u001b[1;32m    383\u001b[0m     vec \u001b[38;5;241m=\u001b[39m np\u001b[38;5;241m.\u001b[39mzeros((\u001b[38;5;28mself\u001b[39m\u001b[38;5;241m.\u001b[39mn, \u001b[38;5;241m0\u001b[39m))\n\u001b[1;32m    384\u001b[0m     k_ok \u001b[38;5;241m=\u001b[39m \u001b[38;5;241m0\u001b[39m\n\u001b[0;32m--> 385\u001b[0m \u001b[38;5;28;01mraise\u001b[39;00m ArpackNoConvergence(msg \u001b[38;5;241m%\u001b[39m (num_iter, k_ok, \u001b[38;5;28mself\u001b[39m\u001b[38;5;241m.\u001b[39mk), ev, vec)\n",
      "\u001b[0;31mArpackNoConvergence\u001b[0m: ARPACK error -1: No convergence (9001 iterations, 0/1 eigenvectors converged) [ARPACK error -14: DNAUPD  did not find any eigenvalues to sufficient accuracy.]"
     ]
    }
   ],
   "source": [
    "Nt_FE = compute_steps_stability_FE(problem, tspan)\n",
    "print(f\"Forward Euler minimal steps number: {Nt_FE}\")"
   ]
  },
  {
   "cell_type": "code",
   "execution_count": 8,
   "metadata": {},
   "outputs": [
    {
     "name": "stdout",
     "output_type": "stream",
     "text": [
      "\n",
      "Intel MKL ERROR: Parameter 6 was incorrect on entry to DGEMV .\n"
     ]
    },
    {
     "name": "stderr",
     "output_type": "stream",
     "text": [
      "/home/francesco/Desktop/EPFL_RESEARCH/Paper1/FD-PyIMEX-RB/src/imexrb.py:147: RuntimeWarning: invalid value encountered in scalar divide\n",
      "  np.linalg.norm(vec - basis @ (basis.T @ vec)) / np.linalg.norm(vec)\n"
     ]
    },
    {
     "ename": "IndexError",
     "evalue": "index -1 is out of bounds for axis 1 with size 0",
     "output_type": "error",
     "traceback": [
      "\u001b[0;31m---------------------------------------------------------------------------\u001b[0m",
      "\u001b[0;31mIndexError\u001b[0m                                Traceback (most recent call last)",
      "Cell \u001b[0;32mIn[8], line 2\u001b[0m\n\u001b[1;32m      1\u001b[0m \u001b[38;5;66;03m# First, IMEX-RB\u001b[39;00m\n\u001b[0;32m----> 2\u001b[0m uIMEX, tvec, subiter \u001b[38;5;241m=\u001b[39m \u001b[43mimexrb\u001b[49m\u001b[43m(\u001b[49m\u001b[43mproblem\u001b[49m\u001b[43m,\u001b[49m\u001b[43m \u001b[49m\u001b[43mu0\u001b[49m\u001b[43m,\u001b[49m\u001b[43m \u001b[49m\u001b[43mtspan\u001b[49m\u001b[43m,\u001b[49m\u001b[43m \u001b[49m\u001b[43mNt\u001b[49m\u001b[43m,\u001b[49m\u001b[43m \u001b[49m\u001b[43mepsilon\u001b[49m\u001b[43m,\u001b[49m\u001b[43m \u001b[49m\u001b[43mmaxsize\u001b[49m\u001b[43m,\u001b[49m\u001b[43m \u001b[49m\u001b[43mmaxsubiter\u001b[49m\u001b[43m)\u001b[49m\n\u001b[1;32m      3\u001b[0m uBE, tvec \u001b[38;5;241m=\u001b[39m backward_euler(problem, u0, tspan, Nt)\n\u001b[1;32m      4\u001b[0m \u001b[38;5;66;03m# Forward Euler may throw errors if unstable\u001b[39;00m\n\u001b[1;32m      5\u001b[0m \u001b[38;5;66;03m# uFE, tvecFE, *_ = forward_euler(problem, u0, tspan, Nt_FE)\u001b[39;00m\n",
      "File \u001b[0;32m~/Desktop/EPFL_RESEARCH/Paper1/FD-PyIMEX-RB/src/imexrb.py:87\u001b[0m, in \u001b[0;36mimexrb\u001b[0;34m(problem, u0, tspan, Nt, epsilon, maxsize, maxsubiter)\u001b[0m\n\u001b[1;32m     83\u001b[0m V, R_update \u001b[38;5;241m=\u001b[39m scipy\u001b[38;5;241m.\u001b[39mlinalg\u001b[38;5;241m.\u001b[39mqr_insert(\n\u001b[1;32m     84\u001b[0m     V, R_update, unp1[free_idx], V\u001b[38;5;241m.\u001b[39mshape[\u001b[38;5;241m1\u001b[39m], which\u001b[38;5;241m=\u001b[39m\u001b[38;5;124m'\u001b[39m\u001b[38;5;124mcol\u001b[39m\u001b[38;5;124m'\u001b[39m)\n\u001b[1;32m     86\u001b[0m \u001b[38;5;66;03m# Update reduced Jacobian\u001b[39;00m\n\u001b[0;32m---> 87\u001b[0m v_new \u001b[38;5;241m=\u001b[39m \u001b[43mV\u001b[49m\u001b[43m[\u001b[49m\u001b[43m:\u001b[49m\u001b[43m,\u001b[49m\u001b[43m \u001b[49m\u001b[38;5;241;43m-\u001b[39;49m\u001b[38;5;241;43m1\u001b[39;49m\u001b[43m]\u001b[49m\n\u001b[1;32m     88\u001b[0m V_old \u001b[38;5;241m=\u001b[39m V[:, :\u001b[38;5;241m-\u001b[39m\u001b[38;5;241m1\u001b[39m]\n\u001b[1;32m     89\u001b[0m block12 \u001b[38;5;241m=\u001b[39m V_old\u001b[38;5;241m.\u001b[39mT \u001b[38;5;241m@\u001b[39m (JQN \u001b[38;5;241m@\u001b[39m v_new)\n",
      "\u001b[0;31mIndexError\u001b[0m: index -1 is out of bounds for axis 1 with size 0"
     ]
    }
   ],
   "source": [
    "# First, IMEX-RB\n",
    "uIMEX, tvec, subiter = imexrb(problem, u0, tspan, Nt, epsilon, maxsize, maxsubiter)\n",
    "uBE, tvec = backward_euler(problem, u0, tspan, Nt)\n",
    "# Forward Euler may throw errors if unstable\n",
    "# uFE, tvecFE, *_ = forward_euler(problem, u0, tspan, Nt_FE)\n",
    "\n",
    "errIMEX = compute_errors(uIMEX, tvec, problem, mode='l2')\n",
    "errBE = compute_errors(uBE, tvec, problem, mode='l2')\n",
    "print(f\"Relative errors: IMEX-RB: {errIMEX:.4e}; Backward Euler: {errBE:.4e}\")"
   ]
  },
  {
   "cell_type": "markdown",
   "metadata": {},
   "source": [
    "### Compute and plot errors\n",
    "We plot the errors over time for the previously chosen parameters. Note that the stability requirement for FE make it significantly more precise than BE and IMEX-RB, which attain stability for a much larger $\\Delta t$"
   ]
  },
  {
   "cell_type": "code",
   "execution_count": null,
   "metadata": {},
   "outputs": [],
   "source": [
    "import matplotlib.pyplot as plt\n",
    "\n",
    "fig = plt.figure()\n",
    "plt.subplot(2,1,1)\n",
    "# Compute relative errors over time \n",
    "errIMEX = compute_errors(uIMEX, tvec, problem)\n",
    "errBE = compute_errors(uBE, tvec, problem)\n",
    "# errFE = compute_errors(uFE, tvecFE, problem)\n",
    "\n",
    "# Plot the errors\n",
    "plt.semilogy(tvec[1:], errIMEX, label=\"IMEX-RB\", marker='o')\n",
    "plt.semilogy(tvec[1:], errBE, label=\"Backward Euler\", marker='s')\n",
    "# plt.semilogy(tvecFE[1:], errFE, label=\"Forward Euler (stable)\", marker='^')\n",
    "\n",
    "plt.ylabel(r\"$e(t_n)$\")\n",
    "plt.title(f\"{problem_name}\")\n",
    "plt.legend()\n",
    "plt.grid(True)\n",
    "\n",
    "plt.subplot(2,1,2)\n",
    "plt.plot(tvec[1:], subiter, label=\"subiter\")\n",
    "plt.xlabel(r\"Time $t_n$\")\n",
    "plt.ylabel(r\"Subiterations\")\n",
    "# plt.axhline(maxsubiter, linestyle=\":\", color=\"k\", label=r\"max subiters\")\n",
    "plt.legend()\n",
    "\n",
    "# Show the plot\n",
    "plt.show()"
   ]
  },
  {
   "cell_type": "markdown",
   "metadata": {},
   "source": [
    "### Plot the animation of the solution\n",
    "Note that an animated plot in jupyter is not straightforward, and that is why there are some weird commands"
   ]
  },
  {
   "cell_type": "code",
   "execution_count": null,
   "metadata": {},
   "outputs": [],
   "source": [
    "%matplotlib ipympl\n",
    "from IPython import display\n",
    "import time\n",
    "import matplotlib.pyplot as plt\n",
    "from mpl_toolkits.mplot3d import Axes3D\n",
    "\n",
    "X, Y = problem.coords\n",
    "Nx, Ny = problem.shape\n",
    "\n",
    "u_exact = lambda t : problem.exact_solution(t, X, Y).reshape((Nx, Ny))\n",
    "\n",
    "zmin = min(uIMEX.min(), uBE.min())\n",
    "zmax = max(uIMEX.max(), uBE.max())\n",
    "\n",
    "# Setup figure with two 3D subplots\n",
    "fig = plt.figure(figsize=(6,3))\n",
    "ax1 = fig.add_subplot(131, projection='3d')\n",
    "ax2 = fig.add_subplot(132, projection='3d')\n",
    "ax3 = fig.add_subplot(133, projection='3d')\n",
    "hdisplay = display.display(\"\", display_id=True)\n",
    "\n",
    "# Common formatting\n",
    "for ax, title in [(ax1, \"IMEX-RB\"), (ax2, \"BE\"), (ax3, \"Exact\")]:\n",
    "    ax.set_xlabel(\"$x$\")\n",
    "    ax.set_ylabel(\"$y$\")\n",
    "    ax.set_zlabel(\"$u$\")\n",
    "    ax.set_zlim(zmin, zmax)\n",
    "    ax.set_title(title)\n",
    "\n",
    "# Initialize empty surfaces\n",
    "surf1 = ax1.plot_surface(X, Y, np.zeros((Nx, Ny)), cmap=\"plasma\", alpha=0.8)\n",
    "surf2 = ax2.plot_surface(X, Y, np.zeros((Nx, Ny)), cmap=\"plasma\", alpha=0.8)\n",
    "surf3 = ax3.plot_surface(X, Y, np.zeros((Nx, Ny)), cmap=\"plasma\", alpha=0.8)\n",
    "\n",
    "# Time‐loop\n",
    "for n, t in enumerate(tvec[::10]):\n",
    "    # remove old surfaces\n",
    "    surf1.remove()\n",
    "    surf2.remove()\n",
    "    surf3.remove()\n",
    "    \n",
    "    # reshape solution vectors\n",
    "    Z1 = uIMEX[:, 10*n].reshape((Nx, Ny))\n",
    "    Z2 = uBE[:,   10*n].reshape((Nx, Ny))\n",
    "    Z3 = u_exact(t)\n",
    "    \n",
    "    # re‐plot\n",
    "    surf1 = ax1.plot_surface(X, Y, Z1, cmap=\"plasma\", alpha=0.8)\n",
    "    surf2 = ax2.plot_surface(X, Y, Z2, cmap=\"plasma\", alpha=0.8)\n",
    "    surf3 = ax3.plot_surface(X, Y, Z3, cmap=\"plasma\", alpha=0.8)\n",
    "\n",
    "    plt.suptitle(f\"t = {t:.2f} s\")\n",
    "    \n",
    "    # update display\n",
    "    hdisplay.update(fig)\n",
    "    # time.sleep(0.001)\n",
    "\n",
    "plt.close(fig)\n"
   ]
  },
  {
   "cell_type": "code",
   "execution_count": null,
   "metadata": {},
   "outputs": [],
   "source": [
    "%matplotlib ipympl\n",
    "from IPython import display\n",
    "import time\n",
    "import matplotlib.pyplot as plt\n",
    "\n",
    "X, Y = problem.coords\n",
    "Nx, Ny = problem.shape\n",
    "\n",
    "zmin = min(uIMEX.min(), uBE.min())\n",
    "zmax = max(uIMEX.max(), uBE.max())\n",
    "\n",
    "u_exact = lambda t : problem.exact_solution(t, X, Y).reshape((Nx, Ny))\n",
    "\n",
    "# Setup figure with two 3D subplots\n",
    "fig = plt.figure(figsize=(6, 3))\n",
    "ax1 = fig.add_subplot(131)\n",
    "ax2 = fig.add_subplot(132)\n",
    "ax3 = fig.add_subplot(133)\n",
    "hdisplay = display.display(\"\", display_id=True)\n",
    "\n",
    "# Common formatting\n",
    "for ax, title in [(ax1, \"IMEX-RB\"), (ax2, \"BE\"), (ax3, \"Exact\")]:\n",
    "    ax.set_xlabel(\"$x$\")\n",
    "    ax.set_ylabel(\"$y$\")\n",
    "    ax.set_title(title)\n",
    "\n",
    "# Add one common colorbar on the left\n",
    "# cbar = fig.colorbar(im1, ax=ax1, orientation='vertical', location='left')\n",
    "# cbar.set_label('u(x, y, t)')\n",
    "\n",
    "# Time‐loop\n",
    "for n, t in enumerate(tvec[::10]):\n",
    "\n",
    "    # reshape solution vectors\n",
    "    Z1 = uIMEX[:, 10*n].reshape((Nx, Ny))\n",
    "    Z2 = uBE[:,   10*n].reshape((Nx, Ny))\n",
    "    Z3 = u_exact(t)\n",
    "    \n",
    "    im1 = ax1.imshow(Z1, extent=[0, Lx, 0, Ly], vmin=zmin, vmax=zmax,\n",
    "                     origin='lower', cmap='plasma', aspect='equal')\n",
    "    im2 = ax2.imshow(Z2, extent=[0, Lx, 0, Ly], vmin=zmin, vmax=zmax,\n",
    "                     origin='lower', cmap='plasma', aspect='equal')\n",
    "    im3 = ax3.imshow(Z3, extent=[0, Lx, 0, Ly], vmin=zmin, vmax=zmax,\n",
    "                     origin='lower', cmap='plasma', aspect='equal')\n",
    "    \n",
    "    plt.suptitle(f\"t = {t:.2f} s\")\n",
    "    \n",
    "    # update display\n",
    "    hdisplay.update(fig)\n",
    "    # time.sleep(0.001)\n",
    "\n",
    "plt.tight_layout()\n",
    "plt.close(fig)"
   ]
  },
  {
   "cell_type": "code",
   "execution_count": null,
   "metadata": {},
   "outputs": [],
   "source": [
    "import matplotlib.pyplot as plt\n",
    "from mpl_toolkits.axes_grid1 import make_axes_locatable\n",
    "\n",
    "Kt = 6\n",
    "\n",
    "X, Y = problem.coords\n",
    "Nx, Ny = problem.shape\n",
    "\n",
    "zmin = uIMEX.min()\n",
    "zmax = uIMEX.max()\n",
    "\n",
    "u_exact = lambda t : problem.exact_solution(t, X, Y).reshape((Nx, Ny))\n",
    "\n",
    "# Setup figure with two 3D subplots\n",
    "fig, axs = plt.subplots(2, Kt, figsize=(5, 2), sharex=True, sharey=True)\n",
    "fig.subplots_adjust(left=0.15, wspace=0.2, hspace=0.3)\n",
    "\n",
    "mappables = [[], []]\n",
    "\n",
    "# Time‐loop\n",
    "K = int(Nt / (Kt-1))\n",
    "for n, t in enumerate(tvec[::K]):\n",
    "\n",
    "    # reshape solution vectors\n",
    "    Z1 = uIMEX[:, K*n].reshape((Nx, Ny))\n",
    "    Z2 = np.abs(Z1 - u_exact(t))\n",
    "    \n",
    "    im1 = axs[0, n].imshow(Z1, extent=[0, Lx, 0, Ly], vmin=zmin, vmax=zmax,\n",
    "                           origin='lower', cmap='plasma', aspect='equal')\n",
    "    im2 = axs[1, n].imshow(Z2, extent=[0, Lx, 0, Ly], vmin=0, vmax=0.01,\n",
    "                           origin='lower', cmap='Reds', aspect='equal')\n",
    "\n",
    "    mappables[0].append(im1)\n",
    "    mappables[1].append(im2)\n",
    "\n",
    "    axs[1, n].set_xticks([0, 1, 2])\n",
    "    axs[1, n].set_xlabel(\"$x$\")\n",
    "    \n",
    "    for ax in axs[:, n]:\n",
    "        ax.tick_params(labelleft=False, left=False)\n",
    "        ax.grid(False)\n",
    "        if n == Kt - 1:\n",
    "            ax.yaxis.tick_right()\n",
    "            ax.yaxis.set_label_position('right')\n",
    "            ax.set_yticks([0, 1, 2])\n",
    "            ax.set_ylabel(\"$y$\")\n",
    "\n",
    "    axs[0, n].set_title(f\"t = {t:.2f}\")\n",
    "    \n",
    "# Add colorbars for each row (on the left)\n",
    "for i in range(2):\n",
    "\n",
    "    pos = axs[i, 0].get_position()\n",
    "\n",
    "    if i == 0:\n",
    "        cax = fig.add_axes([0, pos.y0 - 0.02, 0.015, pos.y1 - pos.y0 + 0.01])\n",
    "    else:\n",
    "        cax = fig.add_axes([0, pos.y0 + 0.065, 0.015, pos.y1 - pos.y0 + 0.01])\n",
    "        \n",
    "    if i == 0:\n",
    "        cbar = fig.colorbar(mappables[i][0], cax=cax, orientation='vertical')\n",
    "        cax.yaxis.set_ticks([0, 0.25])\n",
    "        cbar.set_label(r'$u$')\n",
    "    else:\n",
    "        cbar = fig.colorbar(mappables[i][1], cax=cax, orientation='vertical')\n",
    "        cax.yaxis.set_ticks([0, 0.01])\n",
    "        cbar.set_label(r'$|u - u_{ex}|$')\n",
    "\n",
    "    cax.yaxis.set_ticks_position('left')\n",
    "    cax.yaxis.set_label_position('left')\n",
    "\n",
    "# plt.tight_layout()\n",
    "# plt.show()\n",
    "\n",
    "print(os.getcwd())\n",
    "\n",
    "plt.savefig('advDiff2D_sol.eps')"
   ]
  },
  {
   "cell_type": "markdown",
   "metadata": {},
   "source": [
    "Go back to `matplotlib inline` (after animation)"
   ]
  },
  {
   "cell_type": "code",
   "execution_count": null,
   "metadata": {},
   "outputs": [],
   "source": [
    "plt.close('all')\n",
    "from IPython.display import clear_output\n",
    "clear_output(wait=True)\n",
    "%matplotlib inline"
   ]
  },
  {
   "cell_type": "markdown",
   "metadata": {},
   "source": [
    "## Convergence test\n",
    "We run a convergence test by computing the error at final time for different choices of $N_t$"
   ]
  },
  {
   "cell_type": "code",
   "execution_count": 6,
   "metadata": {},
   "outputs": [
    {
     "name": "stdout",
     "output_type": "stream",
     "text": [
      "Running simulation for Nt = 4\n",
      "\u001b[37m12:11:41 - src.imexrb - DEBUG - IMEX-RB: stability condition NOT met (times/total):4/4\u001b[0m\n",
      "Running simulation for Nt = 8\n",
      "\u001b[37m12:11:42 - src.imexrb - DEBUG - IMEX-RB: stability condition NOT met (times/total):8/8\u001b[0m\n",
      "Running simulation for Nt = 16\n",
      "\u001b[37m12:11:43 - src.imexrb - DEBUG - IMEX-RB: stability condition NOT met (times/total):0/16\u001b[0m\n",
      "Running simulation for Nt = 32\n",
      "\u001b[37m12:11:45 - src.imexrb - DEBUG - IMEX-RB: stability condition NOT met (times/total):0/32\u001b[0m\n",
      "Running simulation for Nt = 64\n",
      "\u001b[37m12:11:46 - src.imexrb - DEBUG - IMEX-RB: stability condition NOT met (times/total):0/64\u001b[0m\n",
      "Running simulation for Nt = 128\n",
      "\u001b[37m12:11:48 - src.imexrb - DEBUG - IMEX-RB: stability condition NOT met (times/total):0/128\u001b[0m\n"
     ]
    }
   ],
   "source": [
    "# We now run a convergence test and plot the results\n",
    "# Define the range of Nt values\n",
    "Nt_values = np.array([2**n for n in range(2,8)])\n",
    "errors_imex = []\n",
    "errors_be = []\n",
    "# errors_fe = []\n",
    "\n",
    "# Nt_FE_stable = compute_steps_stability_FE(problem, tspan)\n",
    "# Loop over Nt values\n",
    "for k, Nt in enumerate(Nt_values):\n",
    "    print(f\"Running simulation for Nt = {Nt}\")\n",
    "    # Time discretization\n",
    "    tvec = np.linspace(t0, tf, Nt + 1)\n",
    "    dt = tvec[1] - tvec[0]\n",
    "\n",
    "    # Solve the problem with each scheme\n",
    "    uIMEX, *_ = imexrb(problem, u0, tspan, Nt, epsilon, maxsize, maxsubiter)\n",
    "    uBE, *_ = backward_euler(problem, u0, tspan, Nt, solver=\"gmres\", typeprec=None)\n",
    "    # uFE, *_ = forward_euler(problem, u0, tspan, Nt)\n",
    "\n",
    "    # Compute errors at final time for each scheme\n",
    "    err_imex = compute_errors(uIMEX, tvec, problem, mode='l2')\n",
    "    err_be = compute_errors(uBE, tvec, problem, mode='l2')\n",
    "    # err_fe = compute_errors(uFE, tvec, problem, mode='l2')\n",
    "\n",
    "    # Store the final error\n",
    "    errors_imex.append(err_imex)\n",
    "    errors_be.append(err_be)\n",
    "    # errors_fe.append(err_fe)\n"
   ]
  },
  {
   "cell_type": "code",
   "execution_count": 7,
   "metadata": {},
   "outputs": [
    {
     "data": {
      "image/png": "[encoded data removed]",
      "text/plain": [
       "<Figure size 810x600 with 1 Axes>"
      ]
     },
     "metadata": {},
     "output_type": "display_data"
    },
    {
     "name": "stdout",
     "output_type": "stream",
     "text": [
      "0.9717252593720207\n"
     ]
    }
   ],
   "source": [
    "# Plot the convergence results\n",
    "import matplotlib.pyplot as plt\n",
    "plt.figure()\n",
    "plt.loglog(1 / Nt_values, errors_be, label=\"Backward Euler\", \n",
    "           marker='s', markersize=3, linestyle='-', color=\"tab:orange\")\n",
    "plt.loglog(1 / Nt_values, errors_imex, label=\"IMEX-RB\", \n",
    "           marker='o', linestyle='-', color=\"tab:blue\")\n",
    "# plt.loglog(1 / Nt_values, errors_fe, label=\"Forward Euler\", marker='^', linestyle='-.')\n",
    "# plt.axvline(1 / Nt_FE_stable, label=\"Stability FE\", color=\"r\", linestyle=':') \n",
    "plt.loglog(1 / Nt_values, (Nt_values[0] * errors_be[0] * 0.9) / Nt_values, \n",
    "           label=r\"$\\mathcal{O}(\\Delta t)$\", color=\"k\", linestyle='--', linewidth=.5)\n",
    "\n",
    "plt.xlabel(r\"$\\Delta t$\")\n",
    "plt.ylabel(\"Relative Error\")\n",
    "plt.title(\"Convergence Test\")\n",
    "plt.legend()\n",
    "plt.grid(True, which=\"both\", linewidth=0.5)\n",
    "plt.show()\n",
    "\n",
    "order = (np.log(errors_be[1:]) - np.log(errors_be[:-1])) / (np.log(1 / Nt_values[1:]) - np.log(1 / Nt_values[:-1]))\n",
    "print(order[-1])"
   ]
  },
  {
   "cell_type": "markdown",
   "metadata": {},
   "source": [
    "### CPU Time to solution\n",
    "\n",
    "We now compare the times required by IMEX-RB and BE to obtain a stable solution\n",
    "N.W.: While we will keep $N_t$ fixed for IMEX-RB and BE, we will compute the $N_t$ making FE stable at each different problem size"
   ]
  },
  {
   "cell_type": "code",
   "execution_count": null,
   "metadata": {},
   "outputs": [],
   "source": [
    "# Parameters for the simulation\n",
    "print(\"Here some overflow error will be likely thrown by unstable FE\")\n",
    "mu = 1.0\n",
    "tspan = [0.0, 1.0]\n",
    "Nt = 200  # Number of time steps for IMEX and BE\n",
    "\n",
    "# Lists to store CPU times and errors\n",
    "Nh_list = []\n",
    "CPU_IMEX_list = []\n",
    "CPU_BE_list = []\n",
    "CPU_BEnogmres_list = []\n",
    "CPU_FE_list = []\n",
    "CPU_FEunstable_list = []\n",
    "\n",
    "err_IMEX_list = []\n",
    "err_BE_list = []\n",
    "err_FE_list = []\n",
    "\n",
    "# Loop over different spatial resolutions\n",
    "Nx_values = [2**val for val in range(4, 9)]\n",
    "for Nx in Nx_values:\n",
    "    # Define the problem object\n",
    "    Ny = Nx\n",
    "    problem = AdvDiff2D(Nx, Ny, Lx, Ly, mu, vx, vy)\n",
    "    print(f\"Running simulation for Nh = {problem.Nh}\")\n",
    "    Nh_list.append(problem.Nh)\n",
    "\n",
    "    u0 = problem.initial_condition()\n",
    "    epsilon = 1e-3  # tolerance parameter\n",
    "    maxsize = int(np.ceil(np.power(Nx, 1/3)))\n",
    "    maxsubiter = maxsize\n",
    "\n",
    "    # Run IMEX-RB integration\n",
    "    uIMEX, tvec, subiter, CPUtimeIMEX = imexrb(problem, u0, tspan, Nt, epsilon, maxsize, maxsubiter)\n",
    "    # Run Backward Euler integration\n",
    "    uBE, _, CPUTimeBE = backward_euler(problem, u0, tspan, Nt)\n",
    "    *_, CPUTimeBEnogmres = backward_euler(problem, u0, tspan, Nt, solverchoice='directsparse')\n",
    "    # Run Forward Euler integration on its own stable time grid\n",
    "    Nt_FE = compute_steps_stability_FE(problem, tspan)\n",
    "    uFE, tvec_FE, CPUTimeFE = forward_euler(problem, u0, tspan, Nt_FE)\n",
    "    # Run also an unstable FE for lower ideal bound on CPU time\n",
    "    *_, CPUTimeFEunstable = forward_euler(problem, u0, tspan, Nt)\n",
    "\n",
    "\n",
    "    # Compute errors at final time\n",
    "    err_IMEX = compute_errors(uIMEX, tvec, problem, finaltimeonly=True)\n",
    "    err_BE = compute_errors(uBE, tvec, problem, finaltimeonly=True)\n",
    "    err_FE = compute_errors(uFE, tvec_FE, problem, finaltimeonly=True)\n",
    "\n",
    "    # Append CPU times and errors\n",
    "    CPU_IMEX_list.append(CPUtimeIMEX)\n",
    "    CPU_BE_list.append(CPUTimeBE)\n",
    "    CPU_FE_list.append(CPUTimeFE)\n",
    "    CPU_FEunstable_list.append(CPUTimeFEunstable)\n",
    "    CPU_BEnogmres_list.append(CPUTimeBEnogmres)\n",
    "\n",
    "    err_IMEX_list.append(err_IMEX)\n",
    "    err_BE_list.append(err_BE)\n",
    "    err_FE_list.append(err_FE)\n"
   ]
  },
  {
   "cell_type": "code",
   "execution_count": null,
   "metadata": {},
   "outputs": [],
   "source": [
    "\n",
    "import pickle\n",
    "\n",
    "# Save all data for CPU time plot to file\n",
    "data_to_save = {\n",
    "    \"problem_name\": problem_name,\n",
    "    \"Nh_list\": Nh_list,\n",
    "    \"CPU_IMEX_list\": CPU_IMEX_list,\n",
    "    \"CPU_BE_list\": CPU_BE_list,\n",
    "    \"CPU_FE_list\": CPU_FE_list,\n",
    "    \"CPU_FEunstable_list\": CPU_FEunstable_list,\n",
    "    \"CPU_BEnogmres_list\": CPU_BEnogmres_list,\n",
    "    \"err_IMEX_list\": err_IMEX_list,\n",
    "    \"err_BE_list\": err_BE_list,\n",
    "    \"err_FE_list\": err_FE_list,\n",
    "    \"tvec\": tvec,\n",
    "    \"tvecFE\": tvecFE\n",
    "}\n",
    "\n",
    "save_file = os.path.join(results_path, \"CPUtime.pkl\")\n",
    "\n",
    "with open(save_file, \"wb\") as f:\n",
    "    pickle.dump(data_to_save, f)\n",
    "\n",
    "print(f\"Plot data saved to {save_file}\")"
   ]
  },
  {
   "cell_type": "code",
   "execution_count": null,
   "metadata": {},
   "outputs": [],
   "source": [
    "# Plotting CPU times vs Nx\n",
    "plt.figure(figsize=(5,3))\n",
    "plt.subplot(2, 1, 1)\n",
    "Nh_array = np.array(Nh_list)\n",
    "plt.loglog(Nh_array, CPU_IMEX_list, 'o-', label='IMEX-RB')\n",
    "plt.loglog(Nh_array, CPU_BE_list, 's-', label='Backward Euler (GMRES)')\n",
    "\n",
    "plt.loglog(Nh_array, CPU_FE_list, '^-', label='Forward Euler (stable)')\n",
    "plt.loglog(Nh_array, CPU_FEunstable_list, ':', label='Forward Euler (unstable)')\n",
    "plt.loglog(Nh_array, CPU_BEnogmres_list, 'D:', label='Backward Euler (Direct)')\n",
    "# plt.loglog(Nh_array, 0.01 * Nh_array, ':', color='k# ', label=r'$\\mathcal{O}(N_h)$')\n",
    "# plt.loglog(Nh_array, 1e-4 * Nh_array**2, '--', color='k', label=r'$\\mathcal{O}(N_h^2)$')\n",
    "# plt.loglog(Nh_array, 1e-8 * Nh_array**3, 'D:', color='k', label=r'$\\mathcal{O}(N_h^3)$')\n",
    "plt.xlabel(r'$N_h$')\n",
    "plt.ylabel('CPU Time (s)')\n",
    "# plt.title('CPU Time vs Spatial Resolution')\n",
    "plt.legend()\n",
    "plt.grid(True)\n",
    "\n",
    "# Plotting errors at final time vs Nx\n",
    "plt.subplot(2, 1, 2)\n",
    "plt.loglog(Nh_array, err_IMEX_list, 'o-', label='IMEX-RB')\n",
    "plt.loglog(Nh_array, err_BE_list, 's-', label='Backward Euler')\n",
    "plt.loglog(Nh_array, err_FE_list, '^-', label='Forward Euler (stable)')\n",
    "plt.xlabel(r'$N_h$')\n",
    "plt.ylabel(r'Error')\n",
    "# plt.title('Error vs num of unknowns')\n",
    "plt.legend()\n",
    "plt.grid(True)\n",
    "\n",
    "# plt.tight_layout()\n",
    "plt.savefig(os.path.join(results_path, \"CPUTime.pdf\"))\n",
    "plt.show()\n"
   ]
  },
  {
   "cell_type": "code",
   "execution_count": null,
   "metadata": {},
   "outputs": [],
   "source": [
    "import sympy as sp\n",
    "from sympy.utilities.iterables import capture\n",
    "\n",
    "# --- 1) Define symbols ---\n",
    "# spatial coords and time\n",
    "x1, x2, t = sp.symbols('x1 x2 t', real=True)\n",
    "# components of the \"center\" x0 and velocity c\n",
    "x01, x02 = sp.symbols('x01 x02', real=True)\n",
    "c1, c2 = sp.symbols('c1 c2', real=True)\n",
    "# constants\n",
    "U, sigma, mu, D = sp.symbols('U sigma mu D', positive=True)\n",
    "\n",
    "# --- 2) Build the solution u ---\n",
    "# displacement vector = x - x0 - c t\n",
    "dx1 = x1 - x01 - c1*t\n",
    "dx2 = x2 - x02 - c2*t\n",
    "\n",
    "den = sigma**2 + mu*t\n",
    "arg = (dx1**2 + dx2**2)/den\n",
    "\n",
    "u = U* sp.exp(-arg)\n",
    "\n",
    "#--- 3) Compute derivatives ---\n",
    "u_t   = sp.diff(u, t)\n",
    "u_x1  = sp.diff(u, x1)\n",
    "u_x2  = sp.diff(u, x2)\n",
    "\n",
    "# advection term c·grad u\n",
    "adv = c1*u_x1 + c2*u_x2 \n",
    "\n",
    "# Laplacian Δu\n",
    "lap = sp.diff(u, x1, 2) + sp.diff(u, x2, 2) \n",
    "\n",
    "#--- 4) Assemble the LHS of the advection-diffusion equation ---\n",
    "LHS = sp.simplify(u_t + adv - mu*lap)\n",
    "\n",
    "#--- 5) (Optional) print a more compact form ---\n",
    "_tmp = capture(lambda: sp.pprint(LHS, use_unicode=True)) .rstrip('\\n')\n",
    "print(_tmp)"
   ]
  },
  {
   "cell_type": "code",
   "execution_count": null,
   "metadata": {},
   "outputs": [],
   "source": [
    "def f(t, x, y):\n",
    "    diff_x = x - x0 - cx*t\n",
    "    diff_y = y - y0 - cy*t\n",
    "    den = sigma**2 + mu*t\n",
    "    \n",
    "    sol = (U / den) * ( mu * (diff_x**2 + diff_y**2) + 4 * mu * (den - diff_x**2 - diff_y**2)) * np.exp(-(diff_x**2 + diff_y**2) / den)\n",
    "\n",
    "    return sol"
   ]
  }
 ],
 "metadata": {
  "kernelspec": {
   "display_name": "imexrb-FD",
   "language": "python",
   "name": "python3"
  },
  "language_info": {
   "codemirror_mode": {
    "name": "ipython",
    "version": 3
   },
   "file_extension": ".py",
   "mimetype": "text/x-python",
   "name": "python",
   "nbconvert_exporter": "python",
   "pygments_lexer": "ipython3",
   "version": "3.13.2"
  }
 },
 "nbformat": 4,
 "nbformat_minor": 4
}
