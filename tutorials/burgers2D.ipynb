{
 "cells": [
  {
   "cell_type": "markdown",
   "metadata": {},
   "source": [
    "# IMEX-RB: A Fast and Stable Time Integration Method\n"
   ]
  },
  {
   "cell_type": "code",
   "execution_count": 1,
   "metadata": {},
   "outputs": [],
   "source": [
    "import sys\n",
    "import os\n",
    "sys.path.append(os.path.abspath('../src'))\n",
    "sys.path.append(os.path.abspath('../utils'))"
   ]
  },
  {
   "cell_type": "code",
   "execution_count": 2,
   "metadata": {},
   "outputs": [],
   "source": [
    "import numpy as np\n",
    "import scipy\n",
    "from imexrb import imexrb\n",
    "from euler import backward_euler, forward_euler\n",
    "import mpl_pubstyle\n",
    "from errors import compute_errors\n",
    "from helpers import *"
   ]
  },
  {
   "cell_type": "markdown",
   "metadata": {},
   "source": [
    "## Solving a 2D viscous Burgers Equation\n",
    "\n",
    "We want to solve the 2D viscous burgers equation on the interval \n",
    "---\n",
    "\n",
    "We can now integrate in time, to show the performance of IMEX-RB compared to classic 1st order integration schemes, i.e. Backward/Forward Euler."
   ]
  },
  {
   "cell_type": "code",
   "execution_count": 3,
   "metadata": {},
   "outputs": [],
   "source": [
    "from problemsPDE import Burgers2D\n",
    "\n",
    "problem_name = \"Burgers2D\"\n",
    "Lx = 1\n",
    "Ly = Lx\n",
    "Nx = 3\n",
    "Ny = 5\n",
    "mu = 0.01\n",
    "t0 = 0.0\n",
    "tf = 1.0\n",
    "tspan = [t0, tf]\n",
    "# Define the problem object\n",
    "problem = Burgers2D(Nx, Ny, Lx, Ly, mu)\n",
    "u0 = problem.initial_condition()\n"
   ]
  },
  {
   "cell_type": "code",
   "execution_count": 4,
   "metadata": {},
   "outputs": [
    {
     "data": {
      "text/plain": [
       "array([0.625     , 0.74951832, 0.74999907, 0.51052193, 0.73947807,\n",
       "       0.7499788 , 0.50048168, 0.625     , 0.74951832, 0.5000212 ,\n",
       "       0.51052193, 0.73947807, 0.50000093, 0.50048168, 0.625     ,\n",
       "       0.875     , 0.75048168, 0.75000093, 0.98947807, 0.76052193,\n",
       "       0.7500212 , 0.99951832, 0.875     , 0.75048168, 0.9999788 ,\n",
       "       0.98947807, 0.76052193, 0.99999907, 0.99951832, 0.875     ])"
      ]
     },
     "execution_count": 4,
     "metadata": {},
     "output_type": "execute_result"
    }
   ],
   "source": [
    "u0"
   ]
  },
  {
   "cell_type": "markdown",
   "metadata": {},
   "source": [
    "We now integrate over time, using different schemes. First of all, we define some parameters for the time integration"
   ]
  },
  {
   "cell_type": "code",
   "execution_count": 5,
   "metadata": {},
   "outputs": [],
   "source": [
    "# Define number of timesteps\n",
    "Nt = 200\n",
    "# Define epsilon for absolute stability condition\n",
    "epsilon = 1e-4 # 1.0/np.linalg.cond(problem.A)\n",
    "# Define max dimension of subspace before subiterations\n",
    "maxsize = int(np.ceil(np.pow(problem.Nh, 1/3)))\n",
    "# Define max allowed enlargement during subiterations\n",
    "maxsubiter = maxsize"
   ]
  },
  {
   "cell_type": "markdown",
   "metadata": {},
   "source": [
    "Let us have a look at the selected dimension for the subspace $\\mathcal{V}_n$"
   ]
  },
  {
   "cell_type": "code",
   "execution_count": 6,
   "metadata": {},
   "outputs": [
    {
     "name": "stdout",
     "output_type": "stream",
     "text": [
      "The subspace has an initial dim = 4, and such dim can grow up to 8\n",
      "The full order problem has dim = 30\n"
     ]
    }
   ],
   "source": [
    "print(f\"The subspace has an initial dim = {maxsize}, and such dim can grow up to {maxsize + maxsubiter}\"\n",
    "      f\"\\nThe full order problem has dim = {problem.Nh}\")"
   ]
  },
  {
   "cell_type": "markdown",
   "metadata": {},
   "source": [
    "We now integrate over time. We cannot know a priori the $\\Delta t$ necessary for the stability of backward Euler."
   ]
  },
  {
   "cell_type": "code",
   "execution_count": 7,
   "metadata": {},
   "outputs": [
    {
     "name": "stdout",
     "output_type": "stream",
     "text": [
      "Newton did not converge in 100 iters, final ||dx|| = 2.46e-02\n",
      "Newton did not converge in 100 iters, final ||dx|| = 2.46e-02\n",
      "Newton did not converge in 100 iters, final ||dx|| = 2.46e-02\n",
      "Newton did not converge in 100 iters, final ||dx|| = 2.46e-02\n",
      "Newton did not converge in 100 iters, final ||dx|| = 2.46e-02\n",
      "Newton did not converge in 100 iters, final ||dx|| = 2.46e-02\n",
      "Newton did not converge in 100 iters, final ||dx|| = 2.46e-02\n",
      "Newton did not converge in 100 iters, final ||dx|| = 2.46e-02\n",
      "Newton did not converge in 100 iters, final ||dx|| = 2.46e-02\n",
      "Newton did not converge in 100 iters, final ||dx|| = 2.45e-02\n",
      "Newton did not converge in 100 iters, final ||dx|| = 2.45e-02\n",
      "Newton did not converge in 100 iters, final ||dx|| = 2.45e-02\n",
      "Newton did not converge in 100 iters, final ||dx|| = 2.45e-02\n",
      "Newton did not converge in 100 iters, final ||dx|| = 2.45e-02\n",
      "Newton did not converge in 100 iters, final ||dx|| = 2.45e-02\n",
      "Newton did not converge in 100 iters, final ||dx|| = 2.45e-02\n",
      "Newton did not converge in 100 iters, final ||dx|| = 2.45e-02\n",
      "Newton did not converge in 100 iters, final ||dx|| = 2.45e-02\n",
      "Newton did not converge in 100 iters, final ||dx|| = 2.45e-02\n",
      "Newton did not converge in 100 iters, final ||dx|| = 2.45e-02\n",
      "Newton did not converge in 100 iters, final ||dx|| = 2.45e-02\n",
      "Newton did not converge in 100 iters, final ||dx|| = 2.45e-02\n",
      "Newton did not converge in 100 iters, final ||dx|| = 2.45e-02\n",
      "Newton did not converge in 100 iters, final ||dx|| = 2.45e-02\n",
      "Newton did not converge in 100 iters, final ||dx|| = 2.45e-02\n",
      "Newton did not converge in 100 iters, final ||dx|| = 2.44e-02\n",
      "Newton did not converge in 100 iters, final ||dx|| = 2.44e-02\n",
      "Newton did not converge in 100 iters, final ||dx|| = 2.44e-02\n",
      "Newton did not converge in 100 iters, final ||dx|| = 2.44e-02\n"
     ]
    },
    {
     "ename": "KeyboardInterrupt",
     "evalue": "",
     "output_type": "error",
     "traceback": [
      "\u001b[0;31m---------------------------------------------------------------------------\u001b[0m",
      "\u001b[0;31mKeyboardInterrupt\u001b[0m                         Traceback (most recent call last)",
      "Cell \u001b[0;32mIn[7], line 2\u001b[0m\n\u001b[1;32m      1\u001b[0m \u001b[38;5;66;03m# First, IMEX-RB\u001b[39;00m\n\u001b[0;32m----> 2\u001b[0m uBE, \u001b[38;5;241m*\u001b[39m_ \u001b[38;5;241m=\u001b[39m \u001b[43mbackward_euler\u001b[49m\u001b[43m(\u001b[49m\u001b[43mproblem\u001b[49m\u001b[43m,\u001b[49m\u001b[43m \u001b[49m\u001b[43mu0\u001b[49m\u001b[43m,\u001b[49m\u001b[43m \u001b[49m\u001b[43mtspan\u001b[49m\u001b[43m,\u001b[49m\u001b[43m \u001b[49m\u001b[43mNt\u001b[49m\u001b[43m)\u001b[49m\n\u001b[1;32m      3\u001b[0m uIMEX, tvec, subiter, _ \u001b[38;5;241m=\u001b[39m imexrb(problem, u0, tspan, Nt, epsilon, maxsize, maxsubiter)\n\u001b[1;32m      5\u001b[0m \u001b[38;5;66;03m# Forward Euler may throw errors if unstable\u001b[39;00m\n",
      "File \u001b[0;32m~/Desktop/EPFL_RESEARCH/Paper1/FD-PyIMEX-RB/src/euler.py:78\u001b[0m, in \u001b[0;36mbackward_euler\u001b[0;34m(problem, u0, tspan, Nt, gmres)\u001b[0m\n\u001b[1;32m     75\u001b[0m     \u001b[38;5;28;01mreturn\u001b[39;00m x \u001b[38;5;241m+\u001b[39m uL \u001b[38;5;241m-\u001b[39m uold \u001b[38;5;241m-\u001b[39m dt\u001b[38;5;241m*\u001b[39mproblem\u001b[38;5;241m.\u001b[39mrhs(tvec[n \u001b[38;5;241m+\u001b[39m \u001b[38;5;241m1\u001b[39m], x \u001b[38;5;241m+\u001b[39m uL)\n\u001b[1;32m     76\u001b[0m jacF \u001b[38;5;241m=\u001b[39m scipy\u001b[38;5;241m.\u001b[39msparse\u001b[38;5;241m.\u001b[39midentity(u0\u001b[38;5;241m.\u001b[39mshape[\u001b[38;5;241m0\u001b[39m]) \u001b[38;5;241m-\u001b[39m \\\n\u001b[1;32m     77\u001b[0m     dt\u001b[38;5;241m*\u001b[39mproblem\u001b[38;5;241m.\u001b[39mjacobian(tvec[n], uold)\n\u001b[0;32m---> 78\u001b[0m unp1, \u001b[38;5;241m*\u001b[39m_ \u001b[38;5;241m=\u001b[39m \u001b[43mnewton\u001b[49m\u001b[43m(\u001b[49m\u001b[43mproblem\u001b[49m\u001b[43m,\u001b[49m\u001b[43m \u001b[49m\u001b[43mDindx\u001b[49m\u001b[43m,\u001b[49m\u001b[43m \u001b[49m\u001b[43mF\u001b[49m\u001b[43m,\u001b[49m\u001b[43m \u001b[49m\u001b[43mjacF\u001b[49m\u001b[43m,\u001b[49m\u001b[43m \u001b[49m\u001b[43muold0\u001b[49m\u001b[43m,\u001b[49m\n\u001b[1;32m     79\u001b[0m \u001b[43m                  \u001b[49m\u001b[43msolverchoice\u001b[49m\u001b[38;5;241;43m=\u001b[39;49m\u001b[38;5;124;43m'\u001b[39;49m\u001b[38;5;124;43mdirectsparse\u001b[39;49m\u001b[38;5;124;43m'\u001b[39;49m\u001b[43m,\u001b[49m\u001b[43m \u001b[49m\u001b[43moption\u001b[49m\u001b[38;5;241;43m=\u001b[39;49m\u001b[38;5;124;43m'\u001b[39;49m\u001b[38;5;124;43mqNewton\u001b[39;49m\u001b[38;5;124;43m'\u001b[39;49m\u001b[43m)\u001b[49m\n\u001b[1;32m     80\u001b[0m \u001b[38;5;66;03m# Enforce BCs values\u001b[39;00m\n\u001b[1;32m     81\u001b[0m unp1[Dindx] \u001b[38;5;241m=\u001b[39m uL[Dindx]\n",
      "File \u001b[0;32m~/Desktop/EPFL_RESEARCH/Paper1/FD-PyIMEX-RB/src/newton.py:54\u001b[0m, in \u001b[0;36mnewton\u001b[0;34m(problem, Dindx, F, J, x0, tol, maxiter, solverchoice, option)\u001b[0m\n\u001b[1;32m     50\u001b[0m     J_const \u001b[38;5;241m=\u001b[39m J\n\u001b[1;32m     52\u001b[0m \u001b[38;5;28;01mfor\u001b[39;00m i \u001b[38;5;129;01min\u001b[39;00m \u001b[38;5;28mrange\u001b[39m(\u001b[38;5;241m1\u001b[39m, maxiter \u001b[38;5;241m+\u001b[39m \u001b[38;5;241m1\u001b[39m):\n\u001b[1;32m     53\u001b[0m     \u001b[38;5;66;03m# Evaluate residual\u001b[39;00m\n\u001b[0;32m---> 54\u001b[0m     res \u001b[38;5;241m=\u001b[39m \u001b[43mF\u001b[49m\u001b[43m(\u001b[49m\u001b[43mx\u001b[49m\u001b[43m)\u001b[49m\n\u001b[1;32m     55\u001b[0m     jac \u001b[38;5;241m=\u001b[39m J_const \u001b[38;5;28;01mif\u001b[39;00m (option \u001b[38;5;241m==\u001b[39m \u001b[38;5;124m'\u001b[39m\u001b[38;5;124mqNewton\u001b[39m\u001b[38;5;124m'\u001b[39m \u001b[38;5;129;01mand\u001b[39;00m \u001b[38;5;129;01mnot\u001b[39;00m \u001b[38;5;28mcallable\u001b[39m(J)) \\\n\u001b[1;32m     56\u001b[0m         \u001b[38;5;28;01melse\u001b[39;00m (J(x))\n\u001b[1;32m     57\u001b[0m     dx \u001b[38;5;241m=\u001b[39m linear_solver(jac, res)\n",
      "File \u001b[0;32m~/Desktop/EPFL_RESEARCH/Paper1/FD-PyIMEX-RB/src/euler.py:75\u001b[0m, in \u001b[0;36mbackward_euler.<locals>.F\u001b[0;34m(x)\u001b[0m\n\u001b[1;32m     73\u001b[0m \u001b[38;5;28;01mdef\u001b[39;00m\u001b[38;5;250m \u001b[39m\u001b[38;5;21mF\u001b[39m(x):\n\u001b[1;32m     74\u001b[0m     x[Dindx] \u001b[38;5;241m=\u001b[39m \u001b[38;5;241m0.0\u001b[39m  \u001b[38;5;66;03m# Ensure homogeneity\u001b[39;00m\n\u001b[0;32m---> 75\u001b[0m     \u001b[38;5;28;01mreturn\u001b[39;00m x \u001b[38;5;241m+\u001b[39m uL \u001b[38;5;241m-\u001b[39m uold \u001b[38;5;241m-\u001b[39m dt\u001b[38;5;241m*\u001b[39m\u001b[43mproblem\u001b[49m\u001b[38;5;241;43m.\u001b[39;49m\u001b[43mrhs\u001b[49m\u001b[43m(\u001b[49m\u001b[43mtvec\u001b[49m\u001b[43m[\u001b[49m\u001b[43mn\u001b[49m\u001b[43m \u001b[49m\u001b[38;5;241;43m+\u001b[39;49m\u001b[43m \u001b[49m\u001b[38;5;241;43m1\u001b[39;49m\u001b[43m]\u001b[49m\u001b[43m,\u001b[49m\u001b[43m \u001b[49m\u001b[43mx\u001b[49m\u001b[43m \u001b[49m\u001b[38;5;241;43m+\u001b[39;49m\u001b[43m \u001b[49m\u001b[43muL\u001b[49m\u001b[43m)\u001b[49m\n",
      "File \u001b[0;32m~/Desktop/EPFL_RESEARCH/Paper1/FD-PyIMEX-RB/src/problemsPDE.py:529\u001b[0m, in \u001b[0;36mBurgers2D.rhs\u001b[0;34m(self, t, x)\u001b[0m\n\u001b[1;32m    525\u001b[0m \u001b[38;5;28;01mdef\u001b[39;00m\u001b[38;5;250m \u001b[39m\u001b[38;5;21mrhs\u001b[39m(\u001b[38;5;28mself\u001b[39m, t, x):\n\u001b[1;32m    526\u001b[0m \u001b[38;5;250m    \u001b[39m\u001b[38;5;124;03m\"\"\"\u001b[39;00m\n\u001b[1;32m    527\u001b[0m \u001b[38;5;124;03m    Return the evaluation of RHS of the Cauchy problem.\u001b[39;00m\n\u001b[1;32m    528\u001b[0m \u001b[38;5;124;03m    \"\"\"\u001b[39;00m\n\u001b[0;32m--> 529\u001b[0m     \u001b[38;5;28;01mreturn\u001b[39;00m \u001b[38;5;28mself\u001b[39m\u001b[38;5;241m.\u001b[39mA_diff \u001b[38;5;241m@\u001b[39m x \u001b[38;5;241m-\u001b[39m \u001b[38;5;28;43mself\u001b[39;49m\u001b[38;5;241;43m.\u001b[39;49m\u001b[43mCadv\u001b[49m\u001b[43m(\u001b[49m\u001b[43mx\u001b[49m\u001b[43m)\u001b[49m \u001b[38;5;241m@\u001b[39m x \u001b[38;5;241m+\u001b[39m \u001b[38;5;28mself\u001b[39m\u001b[38;5;241m.\u001b[39msource_term(t)\n",
      "File \u001b[0;32m~/Desktop/EPFL_RESEARCH/Paper1/FD-PyIMEX-RB/src/problemsPDE.py:471\u001b[0m, in \u001b[0;36mBurgers2D.Cadv\u001b[0;34m(self, x)\u001b[0m\n\u001b[1;32m    469\u001b[0m \u001b[38;5;66;03m# elementwise scale advective stencils\u001b[39;00m\n\u001b[1;32m    470\u001b[0m Ux \u001b[38;5;241m=\u001b[39m sp\u001b[38;5;241m.\u001b[39mdiags(u, offsets\u001b[38;5;241m=\u001b[39m\u001b[38;5;241m0\u001b[39m, \u001b[38;5;28mformat\u001b[39m\u001b[38;5;241m=\u001b[39m\u001b[38;5;124m'\u001b[39m\u001b[38;5;124mcsr\u001b[39m\u001b[38;5;124m'\u001b[39m) \u001b[38;5;241m@\u001b[39m \u001b[38;5;28mself\u001b[39m\u001b[38;5;241m.\u001b[39mAdv_x\n\u001b[0;32m--> 471\u001b[0m Vy \u001b[38;5;241m=\u001b[39m \u001b[43msp\u001b[49m\u001b[38;5;241;43m.\u001b[39;49m\u001b[43mdiags\u001b[49m\u001b[43m(\u001b[49m\u001b[43mv\u001b[49m\u001b[43m,\u001b[49m\u001b[43m \u001b[49m\u001b[43moffsets\u001b[49m\u001b[38;5;241;43m=\u001b[39;49m\u001b[38;5;241;43m0\u001b[39;49m\u001b[43m,\u001b[49m\u001b[43m \u001b[49m\u001b[38;5;28;43mformat\u001b[39;49m\u001b[38;5;241;43m=\u001b[39;49m\u001b[38;5;124;43m'\u001b[39;49m\u001b[38;5;124;43mcsr\u001b[39;49m\u001b[38;5;124;43m'\u001b[39;49m\u001b[43m)\u001b[49m\u001b[43m \u001b[49m\u001b[38;5;241;43m@\u001b[39;49m\u001b[43m \u001b[49m\u001b[38;5;28;43mself\u001b[39;49m\u001b[38;5;241;43m.\u001b[39;49m\u001b[43mAdv_y\u001b[49m\n\u001b[1;32m    472\u001b[0m conv \u001b[38;5;241m=\u001b[39m Ux \u001b[38;5;241m+\u001b[39m Vy\n\u001b[1;32m    474\u001b[0m \u001b[38;5;66;03m# expand to block for [u; v]\u001b[39;00m\n",
      "File \u001b[0;32m~/anaconda3/envs/imexrb-FD/lib/python3.13/site-packages/scipy/sparse/_base.py:732\u001b[0m, in \u001b[0;36m_spbase.__matmul__\u001b[0;34m(self, other)\u001b[0m\n\u001b[1;32m    729\u001b[0m \u001b[38;5;28;01mif\u001b[39;00m isscalarlike(other):\n\u001b[1;32m    730\u001b[0m     \u001b[38;5;28;01mraise\u001b[39;00m \u001b[38;5;167;01mValueError\u001b[39;00m(\u001b[38;5;124m\"\u001b[39m\u001b[38;5;124mScalar operands are not allowed, \u001b[39m\u001b[38;5;124m\"\u001b[39m\n\u001b[1;32m    731\u001b[0m                      \u001b[38;5;124m\"\u001b[39m\u001b[38;5;124muse \u001b[39m\u001b[38;5;124m'\u001b[39m\u001b[38;5;124m*\u001b[39m\u001b[38;5;124m'\u001b[39m\u001b[38;5;124m instead\u001b[39m\u001b[38;5;124m\"\u001b[39m)\n\u001b[0;32m--> 732\u001b[0m \u001b[38;5;28;01mreturn\u001b[39;00m \u001b[38;5;28;43mself\u001b[39;49m\u001b[38;5;241;43m.\u001b[39;49m\u001b[43m_matmul_dispatch\u001b[49m\u001b[43m(\u001b[49m\u001b[43mother\u001b[49m\u001b[43m)\u001b[49m\n",
      "File \u001b[0;32m~/anaconda3/envs/imexrb-FD/lib/python3.13/site-packages/scipy/sparse/_base.py:636\u001b[0m, in \u001b[0;36m_spbase._matmul_dispatch\u001b[0;34m(self, other)\u001b[0m\n\u001b[1;32m    632\u001b[0m     \u001b[38;5;28;01mif\u001b[39;00m N \u001b[38;5;241m!=\u001b[39m other\u001b[38;5;241m.\u001b[39mshape[\u001b[38;5;241m0\u001b[39m]:\n\u001b[1;32m    633\u001b[0m         \u001b[38;5;28;01mraise\u001b[39;00m \u001b[38;5;167;01mValueError\u001b[39;00m(\n\u001b[1;32m    634\u001b[0m             \u001b[38;5;124mf\u001b[39m\u001b[38;5;124m\"\u001b[39m\u001b[38;5;132;01m{\u001b[39;00merr_prefix\u001b[38;5;132;01m}\u001b[39;00m\u001b[38;5;124m (n,k=\u001b[39m\u001b[38;5;132;01m{\u001b[39;00mN\u001b[38;5;132;01m}\u001b[39;00m\u001b[38;5;124m),(k=\u001b[39m\u001b[38;5;132;01m{\u001b[39;00mother\u001b[38;5;241m.\u001b[39mshape[\u001b[38;5;241m0\u001b[39m]\u001b[38;5;132;01m}\u001b[39;00m\u001b[38;5;124m,m)->(n,m)\u001b[39m\u001b[38;5;124m\"\u001b[39m\n\u001b[1;32m    635\u001b[0m         )\n\u001b[0;32m--> 636\u001b[0m     \u001b[38;5;28;01mreturn\u001b[39;00m \u001b[38;5;28;43mself\u001b[39;49m\u001b[38;5;241;43m.\u001b[39;49m\u001b[43m_matmul_sparse\u001b[49m\u001b[43m(\u001b[49m\u001b[43mother\u001b[49m\u001b[43m)\u001b[49m\n\u001b[1;32m    638\u001b[0m \u001b[38;5;66;03m# If it's a list or whatever, treat it like an array\u001b[39;00m\n\u001b[1;32m    639\u001b[0m other_a \u001b[38;5;241m=\u001b[39m np\u001b[38;5;241m.\u001b[39masanyarray(other)\n",
      "File \u001b[0;32m~/anaconda3/envs/imexrb-FD/lib/python3.13/site-packages/scipy/sparse/_compressed.py:566\u001b[0m, in \u001b[0;36m_cs_matrix._matmul_sparse\u001b[0;34m(self, other)\u001b[0m\n\u001b[1;32m    563\u001b[0m major_dim \u001b[38;5;241m=\u001b[39m \u001b[38;5;28mself\u001b[39m\u001b[38;5;241m.\u001b[39m_swap((M, N))[\u001b[38;5;241m0\u001b[39m]\n\u001b[1;32m    564\u001b[0m other \u001b[38;5;241m=\u001b[39m \u001b[38;5;28mself\u001b[39m\u001b[38;5;241m.\u001b[39m\u001b[38;5;18m__class__\u001b[39m(other)  \u001b[38;5;66;03m# convert to this format\u001b[39;00m\n\u001b[0;32m--> 566\u001b[0m idx_dtype \u001b[38;5;241m=\u001b[39m \u001b[38;5;28;43mself\u001b[39;49m\u001b[38;5;241;43m.\u001b[39;49m\u001b[43m_get_index_dtype\u001b[49m\u001b[43m(\u001b[49m\u001b[43m(\u001b[49m\u001b[38;5;28;43mself\u001b[39;49m\u001b[38;5;241;43m.\u001b[39;49m\u001b[43mindptr\u001b[49m\u001b[43m,\u001b[49m\u001b[43m \u001b[49m\u001b[38;5;28;43mself\u001b[39;49m\u001b[38;5;241;43m.\u001b[39;49m\u001b[43mindices\u001b[49m\u001b[43m,\u001b[49m\n\u001b[1;32m    567\u001b[0m \u001b[43m                             \u001b[49m\u001b[43mother\u001b[49m\u001b[38;5;241;43m.\u001b[39;49m\u001b[43mindptr\u001b[49m\u001b[43m,\u001b[49m\u001b[43m \u001b[49m\u001b[43mother\u001b[49m\u001b[38;5;241;43m.\u001b[39;49m\u001b[43mindices\u001b[49m\u001b[43m)\u001b[49m\u001b[43m)\u001b[49m\n\u001b[1;32m    569\u001b[0m fn \u001b[38;5;241m=\u001b[39m \u001b[38;5;28mgetattr\u001b[39m(_sparsetools, \u001b[38;5;28mself\u001b[39m\u001b[38;5;241m.\u001b[39mformat \u001b[38;5;241m+\u001b[39m \u001b[38;5;124m'\u001b[39m\u001b[38;5;124m_matmat_maxnnz\u001b[39m\u001b[38;5;124m'\u001b[39m)\n\u001b[1;32m    570\u001b[0m nnz \u001b[38;5;241m=\u001b[39m fn(M, N,\n\u001b[1;32m    571\u001b[0m          np\u001b[38;5;241m.\u001b[39masarray(\u001b[38;5;28mself\u001b[39m\u001b[38;5;241m.\u001b[39mindptr, dtype\u001b[38;5;241m=\u001b[39midx_dtype),\n\u001b[1;32m    572\u001b[0m          np\u001b[38;5;241m.\u001b[39masarray(\u001b[38;5;28mself\u001b[39m\u001b[38;5;241m.\u001b[39mindices, dtype\u001b[38;5;241m=\u001b[39midx_dtype),\n\u001b[1;32m    573\u001b[0m          np\u001b[38;5;241m.\u001b[39masarray(other\u001b[38;5;241m.\u001b[39mindptr, dtype\u001b[38;5;241m=\u001b[39midx_dtype),\n\u001b[1;32m    574\u001b[0m          np\u001b[38;5;241m.\u001b[39masarray(other\u001b[38;5;241m.\u001b[39mindices, dtype\u001b[38;5;241m=\u001b[39midx_dtype))\n",
      "File \u001b[0;32m~/anaconda3/envs/imexrb-FD/lib/python3.13/site-packages/scipy/sparse/_base.py:1389\u001b[0m, in \u001b[0;36m_spbase._get_index_dtype\u001b[0;34m(self, arrays, maxval, check_contents)\u001b[0m\n\u001b[1;32m   1386\u001b[0m \u001b[38;5;28;01mfrom\u001b[39;00m\u001b[38;5;250m \u001b[39m\u001b[38;5;21;01m.\u001b[39;00m\u001b[38;5;21;01m_sputils\u001b[39;00m\u001b[38;5;250m \u001b[39m\u001b[38;5;28;01mimport\u001b[39;00m get_index_dtype\n\u001b[1;32m   1388\u001b[0m \u001b[38;5;66;03m# Don't check contents for array API\u001b[39;00m\n\u001b[0;32m-> 1389\u001b[0m \u001b[38;5;28;01mreturn\u001b[39;00m \u001b[43mget_index_dtype\u001b[49m\u001b[43m(\u001b[49m\u001b[43marrays\u001b[49m\u001b[43m,\u001b[49m\n\u001b[1;32m   1390\u001b[0m \u001b[43m                       \u001b[49m\u001b[43mmaxval\u001b[49m\u001b[43m,\u001b[49m\n\u001b[1;32m   1391\u001b[0m \u001b[43m                       \u001b[49m\u001b[43m(\u001b[49m\u001b[43mcheck_contents\u001b[49m\u001b[43m \u001b[49m\u001b[38;5;129;43;01mand\u001b[39;49;00m\u001b[43m \u001b[49m\u001b[38;5;129;43;01mnot\u001b[39;49;00m\u001b[43m \u001b[49m\u001b[38;5;28;43misinstance\u001b[39;49m\u001b[43m(\u001b[49m\u001b[38;5;28;43mself\u001b[39;49m\u001b[43m,\u001b[49m\u001b[43m \u001b[49m\u001b[43msparray\u001b[49m\u001b[43m)\u001b[49m\u001b[43m)\u001b[49m\u001b[43m)\u001b[49m\n",
      "File \u001b[0;32m~/anaconda3/envs/imexrb-FD/lib/python3.13/site-packages/scipy/sparse/_sputils.py:320\u001b[0m, in \u001b[0;36mget_index_dtype\u001b[0;34m(arrays, maxval, check_contents)\u001b[0m\n\u001b[1;32m    317\u001b[0m     arrays \u001b[38;5;241m=\u001b[39m (arrays,)\n\u001b[1;32m    319\u001b[0m \u001b[38;5;28;01mfor\u001b[39;00m arr \u001b[38;5;129;01min\u001b[39;00m arrays:\n\u001b[0;32m--> 320\u001b[0m     arr \u001b[38;5;241m=\u001b[39m \u001b[43mnp\u001b[49m\u001b[38;5;241;43m.\u001b[39;49m\u001b[43masarray\u001b[49m\u001b[43m(\u001b[49m\u001b[43marr\u001b[49m\u001b[43m)\u001b[49m\n\u001b[1;32m    321\u001b[0m     \u001b[38;5;28;01mif\u001b[39;00m \u001b[38;5;129;01mnot\u001b[39;00m np\u001b[38;5;241m.\u001b[39mcan_cast(arr\u001b[38;5;241m.\u001b[39mdtype, np\u001b[38;5;241m.\u001b[39mint32):\n\u001b[1;32m    322\u001b[0m         \u001b[38;5;28;01mif\u001b[39;00m check_contents:\n",
      "\u001b[0;31mKeyboardInterrupt\u001b[0m: "
     ]
    }
   ],
   "source": [
    "# First, IMEX-RB\n",
    "uBE, *_ = backward_euler(problem, u0, tspan, Nt)\n",
    "uIMEX, tvec, subiter, _ = imexrb(problem, u0, tspan, Nt, epsilon, maxsize, maxsubiter)\n",
    "\n",
    "# Forward Euler may throw errors if unstable\n",
    "uFE, tvecFE, *_ = forward_euler(problem, u0, tspan, Nt_FE)"
   ]
  },
  {
   "cell_type": "markdown",
   "metadata": {},
   "source": [
    "### Compute and plot errors\n",
    "We plot the errors over time for the previously chosen parameters. Note that the stability requirement for FE make it significantly more precise than BE and IMEX-RB, which attain stability for a much larger $\\Delta t$"
   ]
  },
  {
   "cell_type": "code",
   "execution_count": null,
   "metadata": {},
   "outputs": [],
   "source": [
    "import matplotlib.pyplot as plt\n",
    "\n",
    "# Compute relative errors over time \n",
    "errIMEX = compute_errors(uIMEX, tvec, problem.coords, problem.exact_solution, dim=2)\n",
    "errBE = compute_errors(uBE, tvec, problem.coords, problem.exact_solution, dim=2)\n",
    "errFE = compute_errors(uFE, tvecFE, problem.coords, problem.exact_solution, dim=2)\n",
    "\n",
    "# Plot the errors\n",
    "plt.semilogy(tvec[1:], errIMEX, label=\"IMEX-RB\", marker='o')\n",
    "plt.semilogy(tvec[1:], errBE, label=\"Backward Euler\", marker='s')\n",
    "# plt.semilogy(tvecFE[1:], errFE, label=\"Forward Euler (stable)\", marker='^')\n",
    "\n",
    "# Add labels, legend, and title\n",
    "plt.xlabel(r\"Time $(t_n)$\")\n",
    "plt.ylabel(\"Relative Error\")\n",
    "plt.title(f\"{problem_name}\")\n",
    "plt.legend()\n",
    "plt.grid(True)\n",
    "\n",
    "# Show the plot\n",
    "plt.show()"
   ]
  },
  {
   "cell_type": "markdown",
   "metadata": {},
   "source": [
    "### Plot the animation of the solution\n",
    "Note that an animated plot in jupyter is not straightforward, and that is why there are some weird commands"
   ]
  },
  {
   "cell_type": "code",
   "execution_count": null,
   "metadata": {},
   "outputs": [],
   "source": [
    "%matplotlib ipympl\n",
    "from IPython import display\n",
    "import time\n",
    "import numpy as np\n",
    "import matplotlib.pyplot as plt\n",
    "from mpl_toolkits.mplot3d import Axes3D\n",
    "\n",
    "# Unpack meshgrid coords and shapes\n",
    "X, Y = problem.coords\n",
    "Nx, Ny = problem.shape\n",
    "\n",
    "# Precompute global z‐limits from both methods over all time steps\n",
    "zmin = min(uIMEX.min(), uBE.min())\n",
    "zmax = max(uIMEX.max(), uBE.max())\n",
    "\n",
    "# Setup figure with two 3D subplots\n",
    "fig = plt.figure()\n",
    "ax1 = fig.add_subplot(121, projection='3d')\n",
    "ax2 = fig.add_subplot(122, projection='3d')\n",
    "hdisplay = display.display(\"\", display_id=True)\n",
    "\n",
    "# Common formatting\n",
    "for ax, title in [(ax1, \"IMEX-RB\"), (ax2, \"BE\")]:\n",
    "    ax.set_xlabel(\"$x$\")\n",
    "    ax.set_ylabel(\"$y$\")\n",
    "    ax.set_zlabel(\"$u$\")\n",
    "    ax.set_zlim(zmin, zmax)\n",
    "    ax.set_title(title)\n",
    "\n",
    "# Initialize empty surfaces\n",
    "surf1 = ax1.plot_surface(X, Y, np.zeros((Nx, Ny)), cmap=\"viridis\", alpha=0.8)\n",
    "surf2 = ax2.plot_surface(X, Y, np.zeros((Nx, Ny)), cmap=\"plasma\", alpha=0.8)\n",
    "\n",
    "# Time‐loop: update each surface in turn\n",
    "for n, t in enumerate(tvec[::10]):\n",
    "    # remove old surfaces\n",
    "    surf1.remove()\n",
    "    surf2.remove()\n",
    "\n",
    "    # reshape solution vectors\n",
    "    Z1 = uIMEX[:, n].reshape((Nx, Ny))\n",
    "    Z2 = uBE[:,   n].reshape((Nx, Ny))\n",
    "\n",
    "    # re‐plot\n",
    "    surf1 = ax1.plot_surface(X, Y, Z1, cmap=\"viridis\", alpha=0.8)\n",
    "    surf2 = ax2.plot_surface(X, Y, Z2, cmap=\"plasma\", alpha=0.8)\n",
    "\n",
    "    # update display\n",
    "    hdisplay.update(fig)\n",
    "    # time.sleep(0.001)\n",
    "\n",
    "plt.close(fig)\n",
    "\n"
   ]
  },
  {
   "cell_type": "markdown",
   "metadata": {},
   "source": [
    "Go back to `matplotlib inline` (after animation)"
   ]
  },
  {
   "cell_type": "code",
   "execution_count": null,
   "metadata": {},
   "outputs": [],
   "source": [
    "plt.close('all')\n",
    "from IPython.display import clear_output\n",
    "clear_output(wait=True)\n",
    "%matplotlib inline"
   ]
  },
  {
   "cell_type": "markdown",
   "metadata": {},
   "source": [
    "## Convergence test\n",
    "We run a convergence test by computing the error at final time for different choices of $N_t$"
   ]
  },
  {
   "cell_type": "code",
   "execution_count": null,
   "metadata": {},
   "outputs": [],
   "source": [
    "# We now run a convergence test and plot the results\n",
    "# Define the range of Nt values\n",
    "Nt_values = [2**n for n in range(2, 12)]\n",
    "errors_imex = []\n",
    "errors_be = []\n",
    "# errors_fe = []\n",
    "\n",
    "Nt_FE_stable = compute_steps_stability_FE(problem, tspan)\n",
    "# Loop over Nt values\n",
    "for Nt in Nt_values:\n",
    "    # Time discretization\n",
    "    tvec = np.linspace(t0, tf, Nt + 1)\n",
    "    dt = tvec[1] - tvec[0]\n",
    "\n",
    "    # Solve the problem with each scheme\n",
    "    uIMEX, *_ = imexrb(problem, u0, tspan, Nt, epsilon, maxsize, maxsubiter)\n",
    "    uBE, *_ = backward_euler(problem, u0, tspan, Nt)\n",
    "    # uFE, *_ = forward_euler(problem, u0, tspan, Nt)\n",
    "\n",
    "    # Compute errors at final time for each scheme\n",
    "    err_imex = compute_errors(uIMEX, tvec, problem.coords, problem.exact_solution, dim=2)\n",
    "    err_be = compute_errors(uBE, tvec, problem.coords, problem.exact_solution, dim=2)\n",
    "    # err_fe = compute_errors(uFE, tvec, problem.coords, problem.exact_solution, dim=2)\n",
    "\n",
    "    # Store the final error\n",
    "    errors_imex.append(err_imex[-1])\n",
    "    errors_be.append(err_be[-1])\n",
    "    # errors_fe.append(err_fe[-1])\n",
    "\n"
   ]
  },
  {
   "cell_type": "code",
   "execution_count": null,
   "metadata": {},
   "outputs": [],
   "source": [
    "# Plot the convergence results\n",
    "plt.loglog(Nt_values, errors_imex, label=\"IMEX-RB\", marker='o', linestyle='-')\n",
    "plt.loglog(Nt_values, errors_be, label=\"Backward Euler\", marker='s', linestyle='-')\n",
    "# plt.loglog(Nt_values, errors_fe, label=\"Forward Euler\", marker='^', linestyle='-.')\n",
    "plt.axvline(Nt_FE_stable, label=\"Stability FE\", color=\"r\", linestyle=':') \n",
    "plt.loglog(Nt_values, [1/Nt for Nt in Nt_values], label=r\"$\\mathcal{O}(\\Delta t)$\", color=\"k\", linestyle='--')\n",
    "plt.xlabel(r\"Number of Time Steps $N_t$\")\n",
    "plt.ylabel(\"Error final time\")\n",
    "plt.title(\"Convergence Test\")\n",
    "plt.legend()\n",
    "plt.grid(True, which=\"both\", linewidth=0.5)\n",
    "plt.show()"
   ]
  },
  {
   "cell_type": "markdown",
   "metadata": {},
   "source": [
    "### CPU Time to solution\n",
    "\n",
    "We now compare the times required by IMEX-RB and BE to obtain a stable solution\n",
    "N.W.: While we will keep $N_t$ fixed for IMEX-RB and BE, we will compute the $N_t$ making FE stable at each different problem size"
   ]
  },
  {
   "cell_type": "code",
   "execution_count": null,
   "metadata": {},
   "outputs": [],
   "source": [
    "# Define number of timesteps\n",
    "Nt = 200\n",
    "# Define epsilon for absolute stability condition\n",
    "epsilon = 1e-4 # 1.0/np.linalg.cond(problem.A)\n",
    "# Define max dimension of subspace before subiterations\n",
    "maxsize = int(np.ceil(np.pow(Nx, 1/3)))\n",
    "# Define max allowed enlargement during subiterations\n",
    "maxsubiter = maxsize"
   ]
  },
  {
   "cell_type": "code",
   "execution_count": null,
   "metadata": {},
   "outputs": [],
   "source": [
    "# Parameters for the simulation\n",
    "kappa = 1.0\n",
    "bc_left = 0.0\n",
    "bc_right = 0.0\n",
    "bc_bottom = 0.0\n",
    "bc_top = 0.0\n",
    "tspan = [0.0, 1.0]\n",
    "Nt = 200           # Number of time steps for IMEX and BE\n",
    "\n",
    "# Lists to store CPU times and errors\n",
    "Nh_list = []\n",
    "CPU_IMEX_list = []\n",
    "CPU_BE_list = []\n",
    "CPU_FE_list = []\n",
    "\n",
    "err_IMEX_list = []\n",
    "err_BE_list = []\n",
    "err_FE_list = []\n",
    "\n",
    "# Loop over different spatial resolutions\n",
    "Nx_values = [2**val for val in range(4, 7)]\n",
    "for Nx in Nx_values:\n",
    "    # Define the problem object\n",
    "    Ny = Nx\n",
    "    problem = Heat2D(Nx, Ny, Lx, Ly, kappa, bc_left, bc_right,\n",
    "                    bc_bottom, bc_top)\n",
    "    print(f\"Running simulation for Nh = {problem.Nh}\")\n",
    "    Nh_list.append(problem.Nh)\n",
    "\n",
    "    u0 = problem.initial_condition()\n",
    "    epsilon = 1e-4  # tolerance parameter\n",
    "    maxsize = int(np.ceil(np.power(Nx, 1/3)))\n",
    "    maxsubiter = maxsize\n",
    "\n",
    "    # Run IMEX-RB integration\n",
    "    uIMEX, tvec, subiter, CPUtimeIMEX = imexrb(problem, u0, tspan, Nt, epsilon, maxsize, maxsubiter)\n",
    "    # Run Backward Euler integration\n",
    "    uBE, _, CPUTimeBE = backward_euler(problem, u0, tspan, Nt)\n",
    "    # Run Forward Euler integration on its own stable time grid\n",
    "    Nt_FE = compute_steps_stability_FE(problem, tspan)\n",
    "    uFE, tvec_FE, CPUTimeFE = forward_euler(problem, u0, tspan, Nt_FE)\n",
    "\n",
    "    # Compute errors at final time\n",
    "    err_IMEX = compute_errors(uIMEX, tvec, problem.coords, problem.exact_solution, dim=2, finaltimeonly=True)\n",
    "    err_BE = compute_errors(uBE, tvec, problem.coords, problem.exact_solution, dim=2, finaltimeonly=True)\n",
    "    err_FE = compute_errors(uFE, tvec_FE, problem.coords, problem.exact_solution, dim=2, finaltimeonly=True)\n",
    "\n",
    "    # Append CPU times and errors\n",
    "    CPU_IMEX_list.append(CPUtimeIMEX)\n",
    "    CPU_BE_list.append(CPUTimeBE)\n",
    "    CPU_FE_list.append(CPUTimeFE)\n",
    "\n",
    "    err_IMEX_list.append(err_IMEX)\n",
    "    err_BE_list.append(err_BE)\n",
    "    err_FE_list.append(err_FE)\n"
   ]
  },
  {
   "cell_type": "code",
   "execution_count": null,
   "metadata": {},
   "outputs": [],
   "source": [
    "# Plotting CPU times vs Nx\n",
    "plt.subplot(2, 1, 1)\n",
    "plt.loglog(Nh_list, CPU_IMEX_list, 'o-', label='IMEX-RB')\n",
    "plt.loglog(Nh_list, CPU_BE_list, 's-', label='Backward Euler')\n",
    "plt.loglog(Nh_list, CPU_FE_list, '^-', label='Forward Euler (stable)')\n",
    "plt.xlabel(r'$N_h$')\n",
    "plt.ylabel('CPU Time (s)')\n",
    "# plt.title('CPU Time vs Spatial Resolution')\n",
    "plt.legend()\n",
    "plt.grid(True)\n",
    "\n",
    "# Plotting errors at final time vs Nx\n",
    "plt.subplot(2, 1, 2)\n",
    "plt.loglog(Nh_list, err_IMEX_list, 'o-', label='IMEX-RB')\n",
    "plt.loglog(Nh_list, err_BE_list, 's-', label='Backward Euler')\n",
    "plt.loglog(Nh_list, err_FE_list, '^-', label='Forward Euler')\n",
    "plt.xlabel(r'$N_h$')\n",
    "plt.ylabel(r'Error')\n",
    "# plt.title('Error vs num of unknowns')\n",
    "plt.legend()\n",
    "plt.grid(True)\n",
    "\n",
    "# plt.tight_layout()\n",
    "plt.show()"
   ]
  },
  {
   "cell_type": "markdown",
   "metadata": {},
   "source": [
    "Once again Forward Euler is more precise because it is forced to use smaller $\\Delta t$ s to meet stability requirements"
   ]
  }
 ],
 "metadata": {
  "kernelspec": {
   "display_name": "imexrb-FD",
   "language": "python",
   "name": "python3"
  },
  "language_info": {
   "codemirror_mode": {
    "name": "ipython",
    "version": 3
   },
   "file_extension": ".py",
   "mimetype": "text/x-python",
   "name": "python",
   "nbconvert_exporter": "python",
   "pygments_lexer": "ipython3",
   "version": "3.13.2"
  }
 },
 "nbformat": 4,
 "nbformat_minor": 2
}
